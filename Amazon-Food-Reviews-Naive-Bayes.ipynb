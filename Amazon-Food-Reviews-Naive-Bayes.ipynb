{
 "cells": [
  {
   "cell_type": "code",
   "execution_count": 1,
   "metadata": {},
   "outputs": [
    {
     "name": "stderr",
     "output_type": "stream",
     "text": [
      "D:\\Anaconda\\lib\\site-packages\\sklearn\\cross_validation.py:41: DeprecationWarning: This module was deprecated in version 0.18 in favor of the model_selection module into which all the refactored classes and functions are moved. Also note that the interface of the new CV iterators are different from that of this module. This module will be removed in 0.20.\n",
      "  \"This module will be removed in 0.20.\", DeprecationWarning)\n"
     ]
    }
   ],
   "source": [
    "%matplotlib inline\n",
    "\n",
    "#import all the modules\n",
    "import sqlite3\n",
    "import numpy as np\n",
    "import pandas as pd\n",
    "import nltk\n",
    "import seaborn as sns\n",
    "\n",
    "from sklearn.feature_extraction.text import TfidfTransformer\n",
    "from sklearn.feature_extraction.text import TfidfVectorizer\n",
    "from sklearn.feature_extraction.text import CountVectorizer\n",
    "from sklearn.preprocessing import StandardScaler\n",
    "from sklearn.metrics import confusion_matrix,accuracy_score\n",
    "from sklearn import metrics\n",
    "#from sklearn.metrics import roc_curve,auc\n",
    "#from sklearn.manifold import TSNE\n",
    "from nltk.corpus import stopwords\n",
    "from nltk.stem.porter import PorterStemmer\n",
    "from nltk.stem import SnowballStemmer\n",
    "from nltk.stem.wordnet import WordNetLemmatizer\n",
    "from sklearn.naive_bayes import BernoulliNB,MultinomialNB\n",
    "from sklearn.model_selection import train_test_split,GridSearchCV\n",
    "from sklearn.cross_validation import cross_val_score\n",
    "from collections import Counter\n",
    "from sklearn import cross_validation"
   ]
  },
  {
   "cell_type": "code",
   "execution_count": 2,
   "metadata": {},
   "outputs": [],
   "source": [
    "conn=sqlite3.connect('D:/Applied AI Course/final2.sqlite')\n",
    "conn.cursor()\n",
    "conn.commit()\n",
    "conn.text_factory=str\n",
    "#final_data.to_sql('Reviews',conn,schema=None,if_exists='replace')"
   ]
  },
  {
   "cell_type": "code",
   "execution_count": 3,
   "metadata": {},
   "outputs": [],
   "source": [
    "fd=pd.read_sql_query(\"\"\"SELECT * FROM REVIEWS\"\"\",conn)"
   ]
  },
  {
   "cell_type": "code",
   "execution_count": 4,
   "metadata": {},
   "outputs": [
    {
     "data": {
      "text/html": [
       "<div>\n",
       "<style scoped>\n",
       "    .dataframe tbody tr th:only-of-type {\n",
       "        vertical-align: middle;\n",
       "    }\n",
       "\n",
       "    .dataframe tbody tr th {\n",
       "        vertical-align: top;\n",
       "    }\n",
       "\n",
       "    .dataframe thead th {\n",
       "        text-align: right;\n",
       "    }\n",
       "</style>\n",
       "<table border=\"1\" class=\"dataframe\">\n",
       "  <thead>\n",
       "    <tr style=\"text-align: right;\">\n",
       "      <th></th>\n",
       "      <th>index</th>\n",
       "      <th>Id</th>\n",
       "      <th>ProductId</th>\n",
       "      <th>UserId</th>\n",
       "      <th>ProfileName</th>\n",
       "      <th>HelpfulnessNumerator</th>\n",
       "      <th>HelpfulnessDenominator</th>\n",
       "      <th>Time</th>\n",
       "      <th>Summary</th>\n",
       "      <th>Text</th>\n",
       "      <th>CleanedText</th>\n",
       "    </tr>\n",
       "  </thead>\n",
       "  <tbody>\n",
       "    <tr>\n",
       "      <th>0</th>\n",
       "      <td>138706</td>\n",
       "      <td>150524</td>\n",
       "      <td>0006641040</td>\n",
       "      <td>ACITT7DI6IDDL</td>\n",
       "      <td>shari zychinski</td>\n",
       "      <td>0</td>\n",
       "      <td>0</td>\n",
       "      <td>939340800</td>\n",
       "      <td>EVERY book is educational</td>\n",
       "      <td>this witty little book makes my son laugh at l...</td>\n",
       "      <td>witti littl book make son laugh loud recit car...</td>\n",
       "    </tr>\n",
       "    <tr>\n",
       "      <th>1</th>\n",
       "      <td>138688</td>\n",
       "      <td>150506</td>\n",
       "      <td>0006641040</td>\n",
       "      <td>A2IW4PEEKO2R0U</td>\n",
       "      <td>Tracy</td>\n",
       "      <td>1</td>\n",
       "      <td>1</td>\n",
       "      <td>1194739200</td>\n",
       "      <td>Love the book, miss the hard cover version</td>\n",
       "      <td>I grew up reading these Sendak books, and watc...</td>\n",
       "      <td>grew read sendak book watch realli rosi movi i...</td>\n",
       "    </tr>\n",
       "    <tr>\n",
       "      <th>2</th>\n",
       "      <td>138689</td>\n",
       "      <td>150507</td>\n",
       "      <td>0006641040</td>\n",
       "      <td>A1S4A3IQ2MU7V4</td>\n",
       "      <td>sally sue \"sally sue\"</td>\n",
       "      <td>1</td>\n",
       "      <td>1</td>\n",
       "      <td>1191456000</td>\n",
       "      <td>chicken soup with rice months</td>\n",
       "      <td>This is a fun way for children to learn their ...</td>\n",
       "      <td>fun way children learn month year learn poem t...</td>\n",
       "    </tr>\n",
       "  </tbody>\n",
       "</table>\n",
       "</div>"
      ],
      "text/plain": [
       "    index      Id   ProductId          UserId            ProfileName  \\\n",
       "0  138706  150524  0006641040   ACITT7DI6IDDL        shari zychinski   \n",
       "1  138688  150506  0006641040  A2IW4PEEKO2R0U                  Tracy   \n",
       "2  138689  150507  0006641040  A1S4A3IQ2MU7V4  sally sue \"sally sue\"   \n",
       "\n",
       "   HelpfulnessNumerator  HelpfulnessDenominator        Time  \\\n",
       "0                     0                       0   939340800   \n",
       "1                     1                       1  1194739200   \n",
       "2                     1                       1  1191456000   \n",
       "\n",
       "                                      Summary  \\\n",
       "0                   EVERY book is educational   \n",
       "1  Love the book, miss the hard cover version   \n",
       "2               chicken soup with rice months   \n",
       "\n",
       "                                                Text  \\\n",
       "0  this witty little book makes my son laugh at l...   \n",
       "1  I grew up reading these Sendak books, and watc...   \n",
       "2  This is a fun way for children to learn their ...   \n",
       "\n",
       "                                         CleanedText  \n",
       "0  witti littl book make son laugh loud recit car...  \n",
       "1  grew read sendak book watch realli rosi movi i...  \n",
       "2  fun way children learn month year learn poem t...  "
      ]
     },
     "execution_count": 4,
     "metadata": {},
     "output_type": "execute_result"
    }
   ],
   "source": [
    "fd.head(3)"
   ]
  },
  {
   "cell_type": "code",
   "execution_count": 5,
   "metadata": {},
   "outputs": [],
   "source": [
    "conn2=sqlite3.connect('D:/Applied AI Course/final.sqlite')"
   ]
  },
  {
   "cell_type": "code",
   "execution_count": 6,
   "metadata": {},
   "outputs": [],
   "source": [
    "label_df=pd.read_sql_query(\"\"\"SELECT * FROM REVIEWS\"\"\",conn2)"
   ]
  },
  {
   "cell_type": "code",
   "execution_count": 7,
   "metadata": {},
   "outputs": [
    {
     "data": {
      "text/html": [
       "<div>\n",
       "<style scoped>\n",
       "    .dataframe tbody tr th:only-of-type {\n",
       "        vertical-align: middle;\n",
       "    }\n",
       "\n",
       "    .dataframe tbody tr th {\n",
       "        vertical-align: top;\n",
       "    }\n",
       "\n",
       "    .dataframe thead th {\n",
       "        text-align: right;\n",
       "    }\n",
       "</style>\n",
       "<table border=\"1\" class=\"dataframe\">\n",
       "  <thead>\n",
       "    <tr style=\"text-align: right;\">\n",
       "      <th></th>\n",
       "      <th>index</th>\n",
       "      <th>Id</th>\n",
       "      <th>ProductId</th>\n",
       "      <th>UserId</th>\n",
       "      <th>ProfileName</th>\n",
       "      <th>HelpfulnessNumerator</th>\n",
       "      <th>HelpfulnessDenominator</th>\n",
       "      <th>Score</th>\n",
       "      <th>Time</th>\n",
       "      <th>Summary</th>\n",
       "      <th>Text</th>\n",
       "      <th>CleanedText</th>\n",
       "    </tr>\n",
       "  </thead>\n",
       "  <tbody>\n",
       "    <tr>\n",
       "      <th>0</th>\n",
       "      <td>138706</td>\n",
       "      <td>150524</td>\n",
       "      <td>0006641040</td>\n",
       "      <td>ACITT7DI6IDDL</td>\n",
       "      <td>shari zychinski</td>\n",
       "      <td>0</td>\n",
       "      <td>0</td>\n",
       "      <td>Positive</td>\n",
       "      <td>939340800</td>\n",
       "      <td>EVERY book is educational</td>\n",
       "      <td>this witty little book makes my son laugh at l...</td>\n",
       "      <td>witti littl book make son laugh loud recit car...</td>\n",
       "    </tr>\n",
       "    <tr>\n",
       "      <th>1</th>\n",
       "      <td>138688</td>\n",
       "      <td>150506</td>\n",
       "      <td>0006641040</td>\n",
       "      <td>A2IW4PEEKO2R0U</td>\n",
       "      <td>Tracy</td>\n",
       "      <td>1</td>\n",
       "      <td>1</td>\n",
       "      <td>Positive</td>\n",
       "      <td>1194739200</td>\n",
       "      <td>Love the book, miss the hard cover version</td>\n",
       "      <td>I grew up reading these Sendak books, and watc...</td>\n",
       "      <td>grew read sendak book watch realli rosi movi i...</td>\n",
       "    </tr>\n",
       "    <tr>\n",
       "      <th>2</th>\n",
       "      <td>138689</td>\n",
       "      <td>150507</td>\n",
       "      <td>0006641040</td>\n",
       "      <td>A1S4A3IQ2MU7V4</td>\n",
       "      <td>sally sue \"sally sue\"</td>\n",
       "      <td>1</td>\n",
       "      <td>1</td>\n",
       "      <td>Positive</td>\n",
       "      <td>1191456000</td>\n",
       "      <td>chicken soup with rice months</td>\n",
       "      <td>This is a fun way for children to learn their ...</td>\n",
       "      <td>fun way children learn month year learn poem t...</td>\n",
       "    </tr>\n",
       "  </tbody>\n",
       "</table>\n",
       "</div>"
      ],
      "text/plain": [
       "    index      Id   ProductId          UserId            ProfileName  \\\n",
       "0  138706  150524  0006641040   ACITT7DI6IDDL        shari zychinski   \n",
       "1  138688  150506  0006641040  A2IW4PEEKO2R0U                  Tracy   \n",
       "2  138689  150507  0006641040  A1S4A3IQ2MU7V4  sally sue \"sally sue\"   \n",
       "\n",
       "   HelpfulnessNumerator  HelpfulnessDenominator     Score        Time  \\\n",
       "0                     0                       0  Positive   939340800   \n",
       "1                     1                       1  Positive  1194739200   \n",
       "2                     1                       1  Positive  1191456000   \n",
       "\n",
       "                                      Summary  \\\n",
       "0                   EVERY book is educational   \n",
       "1  Love the book, miss the hard cover version   \n",
       "2               chicken soup with rice months   \n",
       "\n",
       "                                                Text  \\\n",
       "0  this witty little book makes my son laugh at l...   \n",
       "1  I grew up reading these Sendak books, and watc...   \n",
       "2  This is a fun way for children to learn their ...   \n",
       "\n",
       "                                         CleanedText  \n",
       "0  witti littl book make son laugh loud recit car...  \n",
       "1  grew read sendak book watch realli rosi movi i...  \n",
       "2  fun way children learn month year learn poem t...  "
      ]
     },
     "execution_count": 7,
     "metadata": {},
     "output_type": "execute_result"
    }
   ],
   "source": [
    "label_df.head(3)"
   ]
  },
  {
   "cell_type": "code",
   "execution_count": 8,
   "metadata": {},
   "outputs": [],
   "source": [
    "label_df=label_df.sort_values('Time',axis=0,inplace=False,kind='quicksort')"
   ]
  },
  {
   "cell_type": "code",
   "execution_count": 9,
   "metadata": {},
   "outputs": [],
   "source": [
    "fd=fd.sort_values('Time',axis=0,inplace=False,kind='quicksort')"
   ]
  },
  {
   "cell_type": "code",
   "execution_count": 10,
   "metadata": {},
   "outputs": [
    {
     "data": {
      "text/html": [
       "<div>\n",
       "<style scoped>\n",
       "    .dataframe tbody tr th:only-of-type {\n",
       "        vertical-align: middle;\n",
       "    }\n",
       "\n",
       "    .dataframe tbody tr th {\n",
       "        vertical-align: top;\n",
       "    }\n",
       "\n",
       "    .dataframe thead th {\n",
       "        text-align: right;\n",
       "    }\n",
       "</style>\n",
       "<table border=\"1\" class=\"dataframe\">\n",
       "  <thead>\n",
       "    <tr style=\"text-align: right;\">\n",
       "      <th></th>\n",
       "      <th>index</th>\n",
       "      <th>Id</th>\n",
       "      <th>ProductId</th>\n",
       "      <th>UserId</th>\n",
       "      <th>ProfileName</th>\n",
       "      <th>HelpfulnessNumerator</th>\n",
       "      <th>HelpfulnessDenominator</th>\n",
       "      <th>Time</th>\n",
       "      <th>Summary</th>\n",
       "      <th>Text</th>\n",
       "      <th>CleanedText</th>\n",
       "    </tr>\n",
       "  </thead>\n",
       "  <tbody>\n",
       "    <tr>\n",
       "      <th>0</th>\n",
       "      <td>138706</td>\n",
       "      <td>150524</td>\n",
       "      <td>0006641040</td>\n",
       "      <td>ACITT7DI6IDDL</td>\n",
       "      <td>shari zychinski</td>\n",
       "      <td>0</td>\n",
       "      <td>0</td>\n",
       "      <td>939340800</td>\n",
       "      <td>EVERY book is educational</td>\n",
       "      <td>this witty little book makes my son laugh at l...</td>\n",
       "      <td>witti littl book make son laugh loud recit car...</td>\n",
       "    </tr>\n",
       "    <tr>\n",
       "      <th>30</th>\n",
       "      <td>138683</td>\n",
       "      <td>150501</td>\n",
       "      <td>0006641040</td>\n",
       "      <td>AJ46FKXOVC7NR</td>\n",
       "      <td>Nicholas A Mesiano</td>\n",
       "      <td>2</td>\n",
       "      <td>2</td>\n",
       "      <td>940809600</td>\n",
       "      <td>This whole series is great way to spend time w...</td>\n",
       "      <td>I can remember seeing the show when it aired o...</td>\n",
       "      <td>rememb see show air televis year ago child sis...</td>\n",
       "    </tr>\n",
       "    <tr>\n",
       "      <th>424</th>\n",
       "      <td>417839</td>\n",
       "      <td>451856</td>\n",
       "      <td>B00004CXX9</td>\n",
       "      <td>AIUWLEQ1ADEG5</td>\n",
       "      <td>Elizabeth Medina</td>\n",
       "      <td>0</td>\n",
       "      <td>0</td>\n",
       "      <td>944092800</td>\n",
       "      <td>Entertainingl Funny!</td>\n",
       "      <td>Beetlejuice is a well written movie ..... ever...</td>\n",
       "      <td>beetlejuic well written movi everyth excel act...</td>\n",
       "    </tr>\n",
       "  </tbody>\n",
       "</table>\n",
       "</div>"
      ],
      "text/plain": [
       "      index      Id   ProductId         UserId         ProfileName  \\\n",
       "0    138706  150524  0006641040  ACITT7DI6IDDL     shari zychinski   \n",
       "30   138683  150501  0006641040  AJ46FKXOVC7NR  Nicholas A Mesiano   \n",
       "424  417839  451856  B00004CXX9  AIUWLEQ1ADEG5    Elizabeth Medina   \n",
       "\n",
       "     HelpfulnessNumerator  HelpfulnessDenominator       Time  \\\n",
       "0                       0                       0  939340800   \n",
       "30                      2                       2  940809600   \n",
       "424                     0                       0  944092800   \n",
       "\n",
       "                                               Summary  \\\n",
       "0                            EVERY book is educational   \n",
       "30   This whole series is great way to spend time w...   \n",
       "424                               Entertainingl Funny!   \n",
       "\n",
       "                                                  Text  \\\n",
       "0    this witty little book makes my son laugh at l...   \n",
       "30   I can remember seeing the show when it aired o...   \n",
       "424  Beetlejuice is a well written movie ..... ever...   \n",
       "\n",
       "                                           CleanedText  \n",
       "0    witti littl book make son laugh loud recit car...  \n",
       "30   rememb see show air televis year ago child sis...  \n",
       "424  beetlejuic well written movi everyth excel act...  "
      ]
     },
     "execution_count": 10,
     "metadata": {},
     "output_type": "execute_result"
    }
   ],
   "source": [
    "fd.head(3)"
   ]
  },
  {
   "cell_type": "code",
   "execution_count": 11,
   "metadata": {},
   "outputs": [
    {
     "data": {
      "text/plain": [
       "(364173, 12)"
      ]
     },
     "execution_count": 11,
     "metadata": {},
     "output_type": "execute_result"
    }
   ],
   "source": [
    "label_df.shape"
   ]
  },
  {
   "cell_type": "code",
   "execution_count": 12,
   "metadata": {},
   "outputs": [
    {
     "data": {
      "text/plain": [
       "(364173, 11)"
      ]
     },
     "execution_count": 12,
     "metadata": {},
     "output_type": "execute_result"
    }
   ],
   "source": [
    "fd.shape"
   ]
  },
  {
   "cell_type": "markdown",
   "metadata": {},
   "source": [
    "# Sampleset data"
   ]
  },
  {
   "cell_type": "code",
   "execution_count": 13,
   "metadata": {},
   "outputs": [
    {
     "data": {
      "text/plain": [
       "(40000, 12)"
      ]
     },
     "execution_count": 13,
     "metadata": {},
     "output_type": "execute_result"
    }
   ],
   "source": [
    "d_pos=label_df[label_df[\"Score\"] == 'Positive'].sample(n=20000)\n",
    "d_neg=label_df[label_df[\"Score\"] == 'Negative'].sample(n=20000)\n",
    "finald=pd.concat([d_pos,d_neg])\n",
    "finald.shape"
   ]
  },
  {
   "cell_type": "code",
   "execution_count": 14,
   "metadata": {},
   "outputs": [
    {
     "data": {
      "text/html": [
       "<div>\n",
       "<style scoped>\n",
       "    .dataframe tbody tr th:only-of-type {\n",
       "        vertical-align: middle;\n",
       "    }\n",
       "\n",
       "    .dataframe tbody tr th {\n",
       "        vertical-align: top;\n",
       "    }\n",
       "\n",
       "    .dataframe thead th {\n",
       "        text-align: right;\n",
       "    }\n",
       "</style>\n",
       "<table border=\"1\" class=\"dataframe\">\n",
       "  <thead>\n",
       "    <tr style=\"text-align: right;\">\n",
       "      <th></th>\n",
       "      <th>index</th>\n",
       "      <th>Id</th>\n",
       "      <th>ProductId</th>\n",
       "      <th>UserId</th>\n",
       "      <th>ProfileName</th>\n",
       "      <th>HelpfulnessNumerator</th>\n",
       "      <th>HelpfulnessDenominator</th>\n",
       "      <th>Score</th>\n",
       "      <th>Time</th>\n",
       "      <th>Summary</th>\n",
       "      <th>Text</th>\n",
       "      <th>CleanedText</th>\n",
       "    </tr>\n",
       "  </thead>\n",
       "  <tbody>\n",
       "    <tr>\n",
       "      <th>325</th>\n",
       "      <td>346094</td>\n",
       "      <td>374400</td>\n",
       "      <td>B00004CI84</td>\n",
       "      <td>A2DEE7F9XKP3ZR</td>\n",
       "      <td>jerome</td>\n",
       "      <td>0</td>\n",
       "      <td>3</td>\n",
       "      <td>Positive</td>\n",
       "      <td>959990400</td>\n",
       "      <td>Research - Beatlejuice video - French version</td>\n",
       "      <td>I'm getting crazy.I'm looking for Beatlejuice ...</td>\n",
       "      <td>get crazyim look beatlejuic french version vid...</td>\n",
       "    </tr>\n",
       "    <tr>\n",
       "      <th>362</th>\n",
       "      <td>346077</td>\n",
       "      <td>374382</td>\n",
       "      <td>B00004CI84</td>\n",
       "      <td>A3C3BAQDZWH5YE</td>\n",
       "      <td>Kushana no shinryaku (Kushana's invasion)</td>\n",
       "      <td>0</td>\n",
       "      <td>1</td>\n",
       "      <td>Positive</td>\n",
       "      <td>1014681600</td>\n",
       "      <td>...</td>\n",
       "      <td>It was on the other night, and, having been a ...</td>\n",
       "      <td>night big fan cartoon shown decid watch also t...</td>\n",
       "    </tr>\n",
       "    <tr>\n",
       "      <th>1065</th>\n",
       "      <td>443667</td>\n",
       "      <td>479728</td>\n",
       "      <td>B00005U2FA</td>\n",
       "      <td>AR5RRP9N2UXDJ</td>\n",
       "      <td>Boraxo \"Boraxo\"</td>\n",
       "      <td>21</td>\n",
       "      <td>23</td>\n",
       "      <td>Positive</td>\n",
       "      <td>1029196800</td>\n",
       "      <td>It really works</td>\n",
       "      <td>I was very skeptical when I bought this item, ...</td>\n",
       "      <td>skeptic bought item imagin amaz discov actual ...</td>\n",
       "    </tr>\n",
       "  </tbody>\n",
       "</table>\n",
       "</div>"
      ],
      "text/plain": [
       "       index      Id   ProductId          UserId  \\\n",
       "325   346094  374400  B00004CI84  A2DEE7F9XKP3ZR   \n",
       "362   346077  374382  B00004CI84  A3C3BAQDZWH5YE   \n",
       "1065  443667  479728  B00005U2FA   AR5RRP9N2UXDJ   \n",
       "\n",
       "                                    ProfileName  HelpfulnessNumerator  \\\n",
       "325                                      jerome                     0   \n",
       "362   Kushana no shinryaku (Kushana's invasion)                     0   \n",
       "1065                            Boraxo \"Boraxo\"                    21   \n",
       "\n",
       "      HelpfulnessDenominator     Score        Time  \\\n",
       "325                        3  Positive   959990400   \n",
       "362                        1  Positive  1014681600   \n",
       "1065                      23  Positive  1029196800   \n",
       "\n",
       "                                            Summary  \\\n",
       "325   Research - Beatlejuice video - French version   \n",
       "362                                             ...   \n",
       "1065                                It really works   \n",
       "\n",
       "                                                   Text  \\\n",
       "325   I'm getting crazy.I'm looking for Beatlejuice ...   \n",
       "362   It was on the other night, and, having been a ...   \n",
       "1065  I was very skeptical when I bought this item, ...   \n",
       "\n",
       "                                            CleanedText  \n",
       "325   get crazyim look beatlejuic french version vid...  \n",
       "362   night big fan cartoon shown decid watch also t...  \n",
       "1065  skeptic bought item imagin amaz discov actual ...  "
      ]
     },
     "execution_count": 14,
     "metadata": {},
     "output_type": "execute_result"
    }
   ],
   "source": [
    "finald.head(2)\n",
    "final_d=finald.sort_values(by='Time')\n",
    "final_d.head(3)"
   ]
  },
  {
   "cell_type": "markdown",
   "metadata": {},
   "source": [
    "# Bag of Words"
   ]
  },
  {
   "cell_type": "code",
   "execution_count": 91,
   "metadata": {},
   "outputs": [
    {
     "data": {
      "text/plain": [
       "(40000,)"
      ]
     },
     "execution_count": 91,
     "metadata": {},
     "output_type": "execute_result"
    }
   ],
   "source": [
    "X=final_d[\"CleanedText\"]\n",
    "X.shape"
   ]
  },
  {
   "cell_type": "code",
   "execution_count": 92,
   "metadata": {},
   "outputs": [
    {
     "data": {
      "text/plain": [
       "(40000,)"
      ]
     },
     "execution_count": 92,
     "metadata": {},
     "output_type": "execute_result"
    }
   ],
   "source": [
    "y=final_d[\"Score\"]\n",
    "y.shape"
   ]
  },
  {
   "cell_type": "code",
   "execution_count": 93,
   "metadata": {},
   "outputs": [],
   "source": [
    "#split the data into train and test fo bag of words\n",
    "\n",
    "X_train,X_test,Y_train,Y_test=cross_validation.train_test_split(X,y,test_size=0.3,random_state=0)\n",
    "#split train into cross val train and cross val test\n",
    "X_t,X_cv,Y_t,Y_cv=cross_validation.train_test_split(X_train,Y_train,test_size=0.3)"
   ]
  },
  {
   "cell_type": "code",
   "execution_count": 94,
   "metadata": {},
   "outputs": [
    {
     "name": "stderr",
     "output_type": "stream",
     "text": [
      "D:\\Anaconda\\lib\\site-packages\\sklearn\\utils\\validation.py:475: DataConversionWarning: Data with input dtype int64 was converted to float64 by StandardScaler.\n",
      "  warnings.warn(msg, DataConversionWarning)\n",
      "D:\\Anaconda\\lib\\site-packages\\sklearn\\utils\\validation.py:475: DataConversionWarning: Data with input dtype int64 was converted to float64 by StandardScaler.\n",
      "  warnings.warn(msg, DataConversionWarning)\n",
      "D:\\Anaconda\\lib\\site-packages\\sklearn\\utils\\validation.py:475: DataConversionWarning: Data with input dtype int64 was converted to float64 by StandardScaler.\n",
      "  warnings.warn(msg, DataConversionWarning)\n",
      "D:\\Anaconda\\lib\\site-packages\\sklearn\\utils\\validation.py:475: DataConversionWarning: Data with input dtype int64 was converted to float64 by StandardScaler.\n",
      "  warnings.warn(msg, DataConversionWarning)\n"
     ]
    },
    {
     "name": "stdout",
     "output_type": "stream",
     "text": [
      "the type of count vectorizer is: <class 'scipy.sparse.csr.csr_matrix'>\n",
      "(28000, 26755) (12000, 26755)\n"
     ]
    }
   ],
   "source": [
    "count_vect=CountVectorizer()\n",
    "stdscaler=StandardScaler(with_mean=False)\n",
    "#final_count=count_vect.fit_transform(test_data[\"CleanedText\"].values)\n",
    "X_train = count_vect.fit_transform(X_train)\n",
    "X_test = count_vect.transform(X_test)\n",
    "X_train=stdscaler.fit_transform(X_train)\n",
    "X_test=stdscaler.fit_transform(X_test)\n",
    "print(\"the type of count vectorizer is:\",type(X_train))\n",
    "#final_count.get_shape()\n",
    "print(X_train.shape,X_test.shape)"
   ]
  },
  {
   "cell_type": "code",
   "execution_count": 95,
   "metadata": {},
   "outputs": [
    {
     "name": "stdout",
     "output_type": "stream",
     "text": [
      "(28000, 26755) (28000,) (12000, 26755) (12000,)\n"
     ]
    }
   ],
   "source": [
    "print(X_train.shape,Y_train.shape,X_test.shape,Y_test.shape)"
   ]
  },
  {
   "cell_type": "markdown",
   "metadata": {},
   "source": [
    "# Find the best alpha using cross validation for Laplace smoothing"
   ]
  },
  {
   "cell_type": "code",
   "execution_count": 46,
   "metadata": {},
   "outputs": [
    {
     "name": "stdout",
     "output_type": "stream",
     "text": [
      "Optimal alpha:  1\n",
      "####################################################################################################\n"
     ]
    },
    {
     "data": {
      "image/png": "[encoded data removed]",
      "text/plain": [
       "<matplotlib.figure.Figure at 0x21e37e48>"
      ]
     },
     "metadata": {},
     "output_type": "display_data"
    }
   ],
   "source": [
    "#find the best alpha based on cv accuracy for bow\n",
    "#l_a={'alpha':[1000,500,100,50,10,5,0.1,0.05,0.001]}\n",
    "#alpha_set=list(range(float(1e-0,20,1e-4)))\n",
    "#for i in alpha_set:\n",
    "    # instantiate learning model (alpha = 10)\n",
    "bNB=BernoulliNB()\n",
    "alpha_list = list(range(1,30,2))\n",
    "cv_score = []\n",
    "for i in alpha_list:\n",
    "    bNB = BernoulliNB(alpha=i)\n",
    "    scores = cross_val_score(bNB, X_train, Y_train, cv=3, scoring=\"accuracy\")\n",
    "    cv_score.append(scores.mean())\n",
    "\n",
    "MSE = [1-x for x in cv_score]\n",
    "optimal_alpha = alpha_list[MSE.index(min(MSE))]\n",
    "print(\"Optimal alpha: \",optimal_alpha)\n",
    "print('#'*100)\n",
    "import matplotlib.pyplot as plt\n",
    "plt.plot(alpha_list, MSE)\n",
    "plt.title(\"Alpha vs Misclassification error\")\n",
    "plt.xlabel(\"value of alpha\")\n",
    "plt.ylabel(\"MSE\")\n",
    "plt.show()\n",
    "#nB = BernoulliNB()\n",
    "#cls=GridSearchCV(nB,l_a,cv=10)\n",
    "    # fitting the model on crossvalidation train\n",
    "#bNB.fit(X_train, Y_train)\n",
    "\n",
    "    # predict the response on the crossvalidation train\n",
    "#pred = bNB.predict(X_cv)\n",
    "\n",
    "    # evaluate CV accuracy\n",
    "#acc = accuracy_score(Y_cv, pred, normalize=True) * float(100)\n",
    "#print(\"Best HyperParameter: \",cls.best_params_)\n",
    "#print(\"Best Accuracy: %.2f%%\"%(cls.best_score_*100))\n",
    "#test accuracy    \n",
    "#nB = BernoulliNB(alpha=1000)\n",
    "#nB.fit(X_train,Y_train)\n",
    "#pred = nB.predict(X_test)\n",
    "#acc = accuracy_score(Y_test, pred, normalize=True) * float(100)\n",
    "#print('\\n****Test accuracy for alpha = 1000 is %d%%' % (acc))"
   ]
  },
  {
   "cell_type": "markdown",
   "metadata": {},
   "source": [
    "# Naive Bayes\n"
   ]
  },
  {
   "cell_type": "code",
   "execution_count": 49,
   "metadata": {},
   "outputs": [
    {
     "name": "stdout",
     "output_type": "stream",
     "text": [
      "\n",
      " the accuracy score for bag of words model with optimal a=1 is 83.225000%\n",
      "####################################################################################################\n",
      "Number of mislabeled points out of a total 28000 points : 2013\n",
      "%%%%%%%%%%%%%%%%%%%%%%%%%%%%%%%%%%%%%%%%%%%%%%%%%%\n",
      "training error:0.13%\n",
      "####################################################################################################\n",
      "training accuracy:0.87%\n",
      "####################################################################################################\n",
      "test error:0.17%\n",
      "####################################################################################################\n",
      "test accuracy:0.83%\n"
     ]
    }
   ],
   "source": [
    "#BernoulliNB with optimal k and test accuracy for bag of words\n",
    "\n",
    "nB_opt=BernoulliNB(alpha=optimal_alpha)\n",
    "#fit the model\n",
    "nB_opt.fit(X_train,Y_train)\n",
    "#predict the model\n",
    "prediction=nB_opt.predict(X_test)\n",
    "\n",
    "#the accuracy score\n",
    "acc_score=accuracy_score(Y_test,prediction)* 100\n",
    "print('\\n the accuracy score for bag of words model with optimal a=%d is %f%%' % (optimal_alpha,(acc_score)))\n",
    "print('#'*100)\n",
    "print(\"Number of mislabeled points out of a total %d points : %d\" % (X_train.shape[0],(Y_test != prediction).sum()))\n",
    "print('%'*50)\n",
    "training_accuracy = nB_opt.score(X_train, Y_train)\n",
    "training_error = 1 - training_accuracy\n",
    "test_accuracy = accuracy_score(Y_test, prediction)\n",
    "test_error = 1 - test_accuracy\n",
    "\n",
    "print(\"training error:%.2f%%\" %training_error)\n",
    "print('#'*100)\n",
    "print(\"training accuracy:%.2f%%\" %training_accuracy)\n",
    "print('#'*100)\n",
    "print(\"test error:%.2f%%\" %test_error)\n",
    "print('#'*100)\n",
    "print(\"test accuracy:%.2f%%\" %test_accuracy)"
   ]
  },
  {
   "cell_type": "markdown",
   "metadata": {},
   "source": [
    "# Feature importance"
   ]
  },
  {
   "cell_type": "code",
   "execution_count": 32,
   "metadata": {},
   "outputs": [],
   "source": [
    "#pred_proba = nB_opt.predict_proba(X_test)\n",
    "#words = np.take(count_vect.get_feature_names(), pred_proba.argmax(axis=1))\n",
    "\n",
    "feat_name=np.array(count_vect.get_feature_names())\n",
    "f_cnt=nB_opt.feature_count_\n",
    "log_prob = nB_opt.feature_log_prob_\n",
    "feature_prob = pd.DataFrame(log_prob, columns=feat_name).T\n",
    "#sorted_idx=nB_opt.coef_[0].argsort()\n",
    "#print(\"smallest coeffecient is: \\n {} \\n\".format(feat_name[sorted_idx[:10]]))\n",
    "#print(\"largest coefficient is: \\n {} \\n\".format(feat_name[sorted_idx[:-11:-1]]))\n",
    "top_positive = feature_prob[1].sort_values(ascending=False)[:10]\n",
    "top_negative = feature_prob[0].sort_values(ascending=False)[:10]"
   ]
  },
  {
   "cell_type": "code",
   "execution_count": 50,
   "metadata": {},
   "outputs": [
    {
     "name": "stdout",
     "output_type": "stream",
     "text": [
      "\t\t\tPositive\t\t\t\t\t\tNegative\n",
      "________________________________________________________________________________________________\n",
      "\t-9.5446\taa             \t\t\t\t-1.1841\tlike           \n",
      "\t-9.5446\taaaaaaarrrrrggghhh\t\t\t\t-1.2084\ttast           \n",
      "\t-9.5446\taachen         \t\t\t\t-1.2601\tlove           \n",
      "\t-9.5446\tabalon         \t\t\t\t-1.2754\tgood           \n",
      "\t-9.5446\tabbrevi        \t\t\t\t-1.3016\tgreat          \n",
      "\t-9.5446\tabc            \t\t\t\t-1.4181\tflavor         \n",
      "\t-9.5446\taberr          \t\t\t\t-1.4904\tone            \n",
      "\t-9.5446\tabhorr         \t\t\t\t-1.5000\tuse            \n",
      "\t-9.5446\tabid           \t\t\t\t-1.5352\ttri            \n",
      "\t-9.5446\tabiet          \t\t\t\t-1.5493\tproduct        \n",
      "\t-9.5446\tabnorm         \t\t\t\t-1.6585\tmake           \n",
      "\t-9.5446\tabod           \t\t\t\t-1.6953\tget            \n",
      "\t-9.5446\tabort          \t\t\t\t-1.8859\tbuy            \n",
      "\t-9.5446\tabosolut       \t\t\t\t-1.9054\ttime           \n",
      "\t-9.5446\tabottl         \t\t\t\t-1.9175\trealli         \n",
      "\t-9.5446\tabound         \t\t\t\t-1.9482\twould          \n",
      "\t-9.5446\tabour          \t\t\t\t-1.9824\tbest           \n",
      "\t-9.5446\taboutthi       \t\t\t\t-1.9971\tprice          \n",
      "\t-9.5446\tabras          \t\t\t\t-2.0298\tmuch           \n",
      "\t-9.5446\tabrotanum      \t\t\t\t-2.0380\tfind           \n",
      "\t-9.5446\tabsinthium     \t\t\t\t-2.0413\talso           \n",
      "\t-9.5446\tabsolutelt     \t\t\t\t-2.0614\teat            \n",
      "\t-9.5446\tabsorbt        \t\t\t\t-2.0732\tamazon         \n",
      "\t-9.5446\tabsoslut       \t\t\t\t-2.1021\tdont           \n",
      "\t-9.5446\tabsout         \t\t\t\t-2.1175\tlittl          \n"
     ]
    }
   ],
   "source": [
    "def show_most_informative_features(vectorizer, clf, n=25):\n",
    "    feature_names = vectorizer.get_feature_names()\n",
    "    coefs_with_fns = sorted(zip(clf.coef_[0], feature_names))\n",
    "    top = zip(coefs_with_fns[:n], coefs_with_fns[:-(n + 1):-1])\n",
    "    print(\"\\t\\t\\tPositive\\t\\t\\t\\t\\t\\tNegative\")\n",
    "    print(\"________________________________________________________________________________________________\")\n",
    "    for (coef_1, fn_1), (coef_2, fn_2) in top:\n",
    "        print(\"\\t%.4f\\t%-15s\\t\\t\\t\\t%.4f\\t%-15s\" % (coef_1, fn_1, coef_2, fn_2))\n",
    "        \n",
    "show_most_informative_features(count_vect,nB_opt)"
   ]
  },
  {
   "cell_type": "markdown",
   "metadata": {},
   "source": [
    "# Confusion matrix"
   ]
  },
  {
   "cell_type": "code",
   "execution_count": 51,
   "metadata": {},
   "outputs": [
    {
     "data": {
      "text/plain": [
       "<matplotlib.axes._subplots.AxesSubplot at 0x20bd96a0>"
      ]
     },
     "execution_count": 51,
     "metadata": {},
     "output_type": "execute_result"
    },
    {
     "data": {
      "image/png": "[encoded data removed]",
      "text/plain": [
       "<matplotlib.figure.Figure at 0x1d41f978>"
      ]
     },
     "metadata": {},
     "output_type": "display_data"
    }
   ],
   "source": [
    "conf_matr_df = pd.DataFrame(confusion_matrix(Y_test, prediction), range(2),range(2))\n",
    "sns.set(font_scale=1.4)#for label size\n",
    "sns.heatmap(conf_matr_df, annot=True,annot_kws={\"size\": 16}, fmt='g')"
   ]
  },
  {
   "cell_type": "code",
   "execution_count": 52,
   "metadata": {},
   "outputs": [
    {
     "name": "stdout",
     "output_type": "stream",
     "text": [
      "             precision    recall  f1-score   support\n",
      "\n",
      "   Negative       0.87      0.77      0.82      5967\n",
      "   Positive       0.80      0.89      0.84      6033\n",
      "\n",
      "avg / total       0.84      0.83      0.83     12000\n",
      "\n"
     ]
    }
   ],
   "source": [
    "from sklearn.metrics import classification_report,precision_score,recall_score,f1_score\n",
    "print(classification_report(Y_test,prediction))"
   ]
  },
  {
   "cell_type": "markdown",
   "metadata": {},
   "source": [
    "# Grid Search cross validation"
   ]
  },
  {
   "cell_type": "code",
   "execution_count": 77,
   "metadata": {},
   "outputs": [
    {
     "name": "stdout",
     "output_type": "stream",
     "text": [
      "Fitting 3 folds for each of 15 candidates, totalling 45 fits\n"
     ]
    },
    {
     "name": "stderr",
     "output_type": "stream",
     "text": [
      "[Parallel(n_jobs=1)]: Done  45 out of  45 | elapsed:   19.0s finished\n"
     ]
    },
    {
     "name": "stdout",
     "output_type": "stream",
     "text": [
      "Best HyperParameter:  {'alpha': 100}\n",
      "Best Accuracy: 49.74%\n"
     ]
    }
   ],
   "source": [
    "nB = BernoulliNB()\n",
    "param_grid = {'alpha':[1000,500,100,50,10,5,1,0.5,0.1,0.05,0.01,0.005,0.001,0.0005,0.0001]} #params we need to try on classifier\n",
    "gsv=GridSearchCV(nB,param_grid,cv=3,verbose=1)\n",
    "gsv.fit(X_train,Y_train)\n",
    "print(\"Best HyperParameter: \",gsv.best_params_)\n",
    "print(\"Best Accuracy: %.2f%%\"%(gsv.best_score_*100))\n"
   ]
  },
  {
   "cell_type": "code",
   "execution_count": 78,
   "metadata": {},
   "outputs": [
    {
     "name": "stdout",
     "output_type": "stream",
     "text": [
      "\n",
      " the accuracy score for bag of words model with optimal a=100 is 49.475000%\n",
      "####################################################################################################\n",
      "Number of mislabeled points out of a total 28000 points : 6063\n",
      "%%%%%%%%%%%%%%%%%%%%%%%%%%%%%%%%%%%%%%%%%%%%%%%%%%\n",
      "training error:0.49%\n",
      "####################################################################################################\n",
      "training accuracy:0.51%\n",
      "####################################################################################################\n",
      "test error:0.51%\n",
      "####################################################################################################\n",
      "test accuracy:0.49%\n"
     ]
    }
   ],
   "source": [
    "nB_opt=BernoulliNB(alpha=100)\n",
    "#fit the model\n",
    "nB_opt.fit(X_train,Y_train)\n",
    "#predict the model\n",
    "prediction=nB_opt.predict(X_test)\n",
    "\n",
    "#the accuracy score\n",
    "acc_score=accuracy_score(Y_test,prediction)* 100\n",
    "print('\\n the accuracy score for bag of words model with optimal a=100 is %f%%' %acc_score)\n",
    "print('#'*100)\n",
    "print(\"Number of mislabeled points out of a total %d points : %d\" % (X_train.shape[0],(Y_test != prediction).sum()))\n",
    "print('%'*50)\n",
    "training_accuracy = nB_opt.score(X_train, Y_train)\n",
    "training_error = 1 - training_accuracy\n",
    "test_accuracy = accuracy_score(Y_test, prediction)\n",
    "test_error = 1 - test_accuracy\n",
    "\n",
    "print(\"training error:%.2f%%\" %training_error)\n",
    "print('#'*100)\n",
    "print(\"training accuracy:%.2f%%\" %training_accuracy)\n",
    "print('#'*100)\n",
    "print(\"test error:%.2f%%\" %test_error)\n",
    "print('#'*100)\n",
    "print(\"test accuracy:%.2f%%\" %test_accuracy)"
   ]
  },
  {
   "cell_type": "markdown",
   "metadata": {},
   "source": [
    "# Multinomial Naive Bayes"
   ]
  },
  {
   "cell_type": "code",
   "execution_count": 23,
   "metadata": {},
   "outputs": [
    {
     "name": "stdout",
     "output_type": "stream",
     "text": [
      "Optimal alpha:  0\n",
      "####################################################################################################\n"
     ]
    },
    {
     "data": {
      "image/png": "[encoded data removed]",
      "text/plain": [
       "<matplotlib.figure.Figure at 0x2da05c18>"
      ]
     },
     "metadata": {},
     "output_type": "display_data"
    }
   ],
   "source": [
    "mNB=MultinomialNB()\n",
    "alpha_list = list(range(0,30,1))\n",
    "#alpha=list(filter(lambda x: x % 2 != 0, alpha_list))\n",
    "cv_score = []\n",
    "for i in alpha_list:\n",
    "    bNB = MultinomialNB(alpha=i)\n",
    "    scores = cross_val_score(mNB, X_train, Y_train, cv=10, scoring=\"accuracy\")\n",
    "    cv_score.append(scores.mean())\n",
    "\n",
    "MSE = [1-x for x in cv_score]\n",
    "optimal_alpha = alpha_list[MSE.index(min(MSE))]\n",
    "print(\"Optimal alpha: \",optimal_alpha)\n",
    "print('#'*100)\n",
    "import matplotlib.pyplot as plt\n",
    "plt.plot(alpha_list, MSE)\n",
    "plt.title(\"Alpha vs Misclassification error\")\n",
    "plt.xlabel(\"value of alpha\")\n",
    "plt.ylabel(\"MSE\")\n",
    "plt.show()"
   ]
  },
  {
   "cell_type": "code",
   "execution_count": 24,
   "metadata": {},
   "outputs": [
    {
     "name": "stderr",
     "output_type": "stream",
     "text": [
      "e:\\sofs\\python3.6\\lib\\site-packages\\sklearn\\naive_bayes.py:472: UserWarning: alpha too small will result in numeric errors, setting alpha = 1.0e-10\n",
      "  'setting alpha = %.1e' % _ALPHA_MIN)\n"
     ]
    },
    {
     "name": "stdout",
     "output_type": "stream",
     "text": [
      "\n",
      " the accuracy score for bag of words model with optimal a=0 is 75.125000%\n",
      "####################################################################################################\n",
      "Number of mislabeled points out of a total 28000 points : 2985\n",
      "%%%%%%%%%%%%%%%%%%%%%%%%%%%%%%%%%%%%%%%%%%%%%%%%%%\n",
      "training error:0.10%\n",
      "####################################################################################################\n",
      "training accuracy:0.90%\n",
      "####################################################################################################\n",
      "test error:0.25%\n",
      "####################################################################################################\n",
      "test accuracy:0.75%\n"
     ]
    }
   ],
   "source": [
    "mNB_opt=MultinomialNB(alpha=0)\n",
    "#fit the model\n",
    "mNB_opt.fit(X_train,Y_train)\n",
    "#predict the model\n",
    "prediction=nB_opt.predict(X_test)\n",
    "\n",
    "#the accuracy score\n",
    "acc_score=accuracy_score(Y_test,prediction)* 100\n",
    "print('\\n the accuracy score for bag of words model with optimal a=%d is %f%%' % (optimal_alpha,(acc_score)))\n",
    "print('#'*100)\n",
    "print(\"Number of mislabeled points out of a total %d points : %d\" % (X_train.shape[0],(Y_test != prediction).sum()))\n",
    "print('%'*50)\n",
    "training_accuracy = mNB_opt.score(X_train, Y_train)\n",
    "training_error = 1 - training_accuracy\n",
    "test_accuracy = accuracy_score(Y_test, prediction)\n",
    "test_error = 1 - test_accuracy\n",
    "\n",
    "print(\"training error:%.2f%%\" %training_error)\n",
    "print('#'*100)\n",
    "print(\"training accuracy:%.2f%%\" %training_accuracy)\n",
    "print('#'*100)\n",
    "print(\"test error:%.2f%%\" %test_error)\n",
    "print('#'*100)\n",
    "print(\"test accuracy:%.2f%%\" %test_accuracy)"
   ]
  },
  {
   "cell_type": "markdown",
   "metadata": {},
   "source": [
    "# Feature Importance"
   ]
  },
  {
   "cell_type": "code",
   "execution_count": 26,
   "metadata": {},
   "outputs": [
    {
     "name": "stdout",
     "output_type": "stream",
     "text": [
      "\t\t\tPositive\t\t\t\t\t\tNegative\n",
      "________________________________________________________________________________________________\n",
      "\t-38.5609\taaa            \t\t\t\t-6.4315\tgreat          \n",
      "\t-38.5609\taaaaaaarrrrrggghhh\t\t\t\t-6.4760\tlove           \n",
      "\t-38.5609\taaaaaahhhhhyaaaaaa\t\t\t\t-6.5612\tgood           \n",
      "\t-38.5609\taaaahhhhhh     \t\t\t\t-6.6575\tlike           \n",
      "\t-38.5609\taafco          \t\t\t\t-6.7617\tuse            \n",
      "\t-38.5609\taamzon         \t\t\t\t-6.7703\ttast           \n",
      "\t-38.5609\taarrgh         \t\t\t\t-6.7900\tmake           \n",
      "\t-38.5609\taauc           \t\t\t\t-6.8084\ttri            \n",
      "\t-38.5609\tabbott         \t\t\t\t-6.8227\tone            \n",
      "\t-38.5609\tabbrevi        \t\t\t\t-6.8245\tflavor         \n",
      "\t-38.5609\tabdomen        \t\t\t\t-6.8600\tbest           \n",
      "\t-38.5609\tabdomin        \t\t\t\t-6.8723\tget            \n",
      "\t-38.5609\taberr          \t\t\t\t-6.9032\tfind           \n",
      "\t-38.5609\tabhor          \t\t\t\t-6.9565\ttime           \n",
      "\t-38.5609\tabhorr         \t\t\t\t-6.9669\tlittl          \n",
      "\t-38.5609\tabject         \t\t\t\t-6.9861\tstore          \n",
      "\t-38.5609\tabov           \t\t\t\t-6.9973\tdelici         \n",
      "\t-38.5609\tabt            \t\t\t\t-7.0078\talso           \n",
      "\t-38.5609\tabut           \t\t\t\t-7.0280\tmuch           \n",
      "\t-38.5609\tabysmali       \t\t\t\t-7.0280\twell           \n",
      "\t-38.5609\tacacia         \t\t\t\t-7.0432\tprice          \n",
      "\t-38.5609\tacaigreen      \t\t\t\t-7.0476\tbuy            \n",
      "\t-38.5609\taccesori       \t\t\t\t-7.0480\trecommend      \n",
      "\t-38.5609\taccross        \t\t\t\t-7.0585\trealli         \n",
      "\t-38.5609\tacct           \t\t\t\t-7.0658\tperfect        \n"
     ]
    }
   ],
   "source": [
    "feat_name=np.array(count_vect.get_feature_names())\n",
    "f_cnt=mNB_opt.feature_count_\n",
    "log_prob = mNB_opt.feature_log_prob_\n",
    "feature_prob = pd.DataFrame(log_prob, columns=feat_name).T\n",
    "#sorted_idx=nB_opt.coef_[0].argsort()\n",
    "#print(\"smallest coeffecient is: \\n {} \\n\".format(feat_name[sorted_idx[:10]]))\n",
    "#print(\"largest coefficient is: \\n {} \\n\".format(feat_name[sorted_idx[:-11:-1]]))\n",
    "top_positive = feature_prob[1].sort_values(ascending=False)[:10]\n",
    "top_negative = feature_prob[0].sort_values(ascending=False)[:10]\n",
    "\n",
    "def show_most_informative_features(vectorizer, clf, n=25):\n",
    "    feature_names = vectorizer.get_feature_names()\n",
    "    coefs_with_fns = sorted(zip(clf.coef_[0], feature_names))\n",
    "    top = zip(coefs_with_fns[:n], coefs_with_fns[:-(n + 1):-1])\n",
    "    print(\"\\t\\t\\tPositive\\t\\t\\t\\t\\t\\tNegative\")\n",
    "    print(\"________________________________________________________________________________________________\")\n",
    "    for (coef_1, fn_1), (coef_2, fn_2) in top:\n",
    "        print(\"\\t%.4f\\t%-15s\\t\\t\\t\\t%.4f\\t%-15s\" % (coef_1, fn_1, coef_2, fn_2))\n",
    "        \n",
    "show_most_informative_features(count_vect,mNB_opt)"
   ]
  },
  {
   "cell_type": "markdown",
   "metadata": {},
   "source": [
    "# Confusion matrix"
   ]
  },
  {
   "cell_type": "code",
   "execution_count": 27,
   "metadata": {},
   "outputs": [
    {
     "data": {
      "text/plain": [
       "<matplotlib.axes._subplots.AxesSubplot at 0x215c2198>"
      ]
     },
     "execution_count": 27,
     "metadata": {},
     "output_type": "execute_result"
    },
    {
     "data": {
      "image/png": "[encoded data removed]",
      "text/plain": [
       "<matplotlib.figure.Figure at 0x21fd7550>"
      ]
     },
     "metadata": {},
     "output_type": "display_data"
    }
   ],
   "source": [
    "conf_matr_df = pd.DataFrame(confusion_matrix(Y_test, prediction), range(2),range(2))\n",
    "sns.set(font_scale=1.4)#for label size\n",
    "sns.heatmap(conf_matr_df, annot=True,annot_kws={\"size\": 16}, fmt='g')"
   ]
  },
  {
   "cell_type": "code",
   "execution_count": 28,
   "metadata": {},
   "outputs": [
    {
     "name": "stdout",
     "output_type": "stream",
     "text": [
      "             precision    recall  f1-score   support\n",
      "\n",
      "   Negative       0.76      0.74      0.75      5945\n",
      "   Positive       0.75      0.77      0.76      6055\n",
      "\n",
      "avg / total       0.75      0.75      0.75     12000\n",
      "\n"
     ]
    }
   ],
   "source": [
    "from sklearn.metrics import classification_report,precision_score,recall_score,f1_score\n",
    "print(classification_report(Y_test,prediction))"
   ]
  },
  {
   "cell_type": "raw",
   "metadata": {},
   "source": [
    "Observation:\n",
    "\n",
    "with optimal alpha being 1 the Bernoulli Naive Bayes for BagOfWords approach has precision 84% and recall 83%\n",
    "with optimal alpha being 0 the Multinomial Naive Bayes for BoW has precision and recall at 75%"
   ]
  },
  {
   "cell_type": "markdown",
   "metadata": {},
   "source": [
    "# Multinomial Naive Bayes with feature selction by GridSearch"
   ]
  },
  {
   "cell_type": "code",
   "execution_count": 96,
   "metadata": {},
   "outputs": [
    {
     "name": "stdout",
     "output_type": "stream",
     "text": [
      "Fitting 3 folds for each of 15 candidates, totalling 45 fits\n"
     ]
    },
    {
     "name": "stderr",
     "output_type": "stream",
     "text": [
      "[Parallel(n_jobs=1)]: Done  45 out of  45 | elapsed:   10.8s finished\n"
     ]
    },
    {
     "name": "stdout",
     "output_type": "stream",
     "text": [
      "Best HyperParameter:  {'alpha': 100}\n",
      "Best Accuracy: 84.08%\n"
     ]
    }
   ],
   "source": [
    "mNB=MultinomialNB()\n",
    "param_grid = {'alpha':[1000,500,100,50,10,5,1,0.5,0.1,0.05,0.01,0.005,0.001,0.0005,0.0001]} #params we need to try on classifier\n",
    "gsv=GridSearchCV(nB,param_grid,cv=3,verbose=1)\n",
    "gsv.fit(X_train,Y_train)\n",
    "print(\"Best HyperParameter: \",gsv.best_params_)\n",
    "print(\"Best Accuracy: %.2f%%\"%(gsv.best_score_*100))\n"
   ]
  },
  {
   "cell_type": "code",
   "execution_count": 97,
   "metadata": {},
   "outputs": [
    {
     "name": "stdout",
     "output_type": "stream",
     "text": [
      "\n",
      " the accuracy score for bag of words model with optimal a=1 is 78.083333%\n",
      "####################################################################################################\n",
      "Number of mislabeled points out of a total 28000 points : 2630\n",
      "%%%%%%%%%%%%%%%%%%%%%%%%%%%%%%%%%%%%%%%%%%%%%%%%%%\n",
      "training error:0.09%\n",
      "####################################################################################################\n",
      "training accuracy:0.91%\n",
      "####################################################################################################\n",
      "test error:0.22%\n",
      "####################################################################################################\n",
      "test accuracy:0.78%\n"
     ]
    }
   ],
   "source": [
    "mNB_opt=MultinomialNB(alpha=100)\n",
    "#fit the model\n",
    "mNB_opt.fit(X_train,Y_train)\n",
    "#predict the model\n",
    "prediction=mNB_opt.predict(X_test)\n",
    "\n",
    "#the accuracy score\n",
    "acc_score=accuracy_score(Y_test,prediction)* 100\n",
    "print('\\n the accuracy score for bag of words model with optimal a=%d is %f%%' % (optimal_alpha,(acc_score)))\n",
    "print('#'*100)\n",
    "print(\"Number of mislabeled points out of a total %d points : %d\" % (X_train.shape[0],(Y_test != prediction).sum()))\n",
    "print('%'*50)\n",
    "training_accuracy = mNB_opt.score(X_train, Y_train)\n",
    "training_error = 1 - training_accuracy\n",
    "test_accuracy = accuracy_score(Y_test, prediction)\n",
    "test_error = 1 - test_accuracy\n",
    "\n",
    "print(\"training error:%.2f%%\" %training_error)\n",
    "print('#'*100)\n",
    "print(\"training accuracy:%.2f%%\" %training_accuracy)\n",
    "print('#'*100)\n",
    "print(\"test error:%.2f%%\" %test_error)\n",
    "print('#'*100)\n",
    "print(\"test accuracy:%.2f%%\" %test_accuracy)"
   ]
  },
  {
   "cell_type": "code",
   "execution_count": 98,
   "metadata": {},
   "outputs": [
    {
     "name": "stdout",
     "output_type": "stream",
     "text": [
      "\t\t\tPositive\t\t\t\t\t\tNegative\n",
      "________________________________________________________________________________________________\n",
      "\t-11.3241\taafco          \t\t\t\t-6.8062\tgreat          \n",
      "\t-11.3241\taamazoncom     \t\t\t\t-6.8311\tlove           \n",
      "\t-11.3241\taarrgh         \t\t\t\t-6.9023\tgood           \n",
      "\t-11.3241\tabbey          \t\t\t\t-7.0438\tlike           \n",
      "\t-11.3241\tabdomen        \t\t\t\t-7.1338\ttast           \n",
      "\t-11.3241\taberr          \t\t\t\t-7.1469\tuse            \n",
      "\t-11.3241\tabhor          \t\t\t\t-7.1603\tmake           \n",
      "\t-11.3241\tabhorr         \t\t\t\t-7.1826\tone            \n",
      "\t-11.3241\tablet          \t\t\t\t-7.1948\ttri            \n",
      "\t-11.3241\tabolut         \t\t\t\t-7.2003\tflavor         \n",
      "\t-11.3241\tabomin         \t\t\t\t-7.2108\tbest           \n",
      "\t-11.3241\tabosolut       \t\t\t\t-7.2637\tget            \n",
      "\t-11.3241\tabouit         \t\t\t\t-7.2871\tfind           \n",
      "\t-11.3241\tabreast        \t\t\t\t-7.3435\tlittl          \n",
      "\t-11.3241\tabrupt         \t\t\t\t-7.3569\tdelici         \n",
      "\t-11.3241\tabsolv         \t\t\t\t-7.3586\talso           \n",
      "\t-11.3241\tabsorbedconsid \t\t\t\t-7.3731\ttime           \n",
      "\t-11.3241\tabsorbt        \t\t\t\t-7.3736\tbuy            \n",
      "\t-11.3241\tabsoulut       \t\t\t\t-7.3805\trealli         \n",
      "\t-11.3241\tabysm          \t\t\t\t-7.3830\trecommend      \n",
      "\t-11.3241\tacaigreen      \t\t\t\t-7.3976\twell           \n",
      "\t-11.3241\tacaii          \t\t\t\t-7.4003\tmuch           \n",
      "\t-11.3241\tacceptalbl     \t\t\t\t-7.4020\tstore          \n",
      "\t-11.3241\taccidentley    \t\t\t\t-7.4030\tprice          \n",
      "\t-11.3241\taccod          \t\t\t\t-7.4157\tproduct        \n"
     ]
    }
   ],
   "source": [
    "feat_name=np.array(count_vect.get_feature_names())\n",
    "f_cnt=mNB_opt.feature_count_\n",
    "log_prob = mNB_opt.feature_log_prob_\n",
    "feature_prob = pd.DataFrame(log_prob, columns=feat_name).T\n",
    "#sorted_idx=nB_opt.coef_[0].argsort()\n",
    "#print(\"smallest coeffecient is: \\n {} \\n\".format(feat_name[sorted_idx[:10]]))\n",
    "#print(\"largest coefficient is: \\n {} \\n\".format(feat_name[sorted_idx[:-11:-1]]))\n",
    "top_positive = feature_prob[1].sort_values(ascending=False)[:10]\n",
    "top_negative = feature_prob[0].sort_values(ascending=False)[:10]\n",
    "\n",
    "def show_most_informative_features(vectorizer, clf, n=25):\n",
    "    feature_names = vectorizer.get_feature_names()\n",
    "    coefs_with_fns = sorted(zip(clf.coef_[0], feature_names))\n",
    "    top = zip(coefs_with_fns[:n], coefs_with_fns[:-(n + 1):-1])\n",
    "    print(\"\\t\\t\\tPositive\\t\\t\\t\\t\\t\\tNegative\")\n",
    "    print(\"________________________________________________________________________________________________\")\n",
    "    for (coef_1, fn_1), (coef_2, fn_2) in top:\n",
    "        print(\"\\t%.4f\\t%-15s\\t\\t\\t\\t%.4f\\t%-15s\" % (coef_1, fn_1, coef_2, fn_2))\n",
    "        \n",
    "show_most_informative_features(count_vect,mNB_opt)"
   ]
  },
  {
   "cell_type": "code",
   "execution_count": 99,
   "metadata": {},
   "outputs": [
    {
     "data": {
      "text/plain": [
       "<matplotlib.axes._subplots.AxesSubplot at 0x6fdae358>"
      ]
     },
     "execution_count": 99,
     "metadata": {},
     "output_type": "execute_result"
    },
    {
     "data": {
      "image/png": "[encoded data removed]",
      "text/plain": [
       "<Figure size 432x288 with 2 Axes>"
      ]
     },
     "metadata": {},
     "output_type": "display_data"
    }
   ],
   "source": [
    "conf_matr_df = pd.DataFrame(confusion_matrix(Y_test, prediction), range(2),range(2))\n",
    "sns.set(font_scale=1.4)#for label size\n",
    "sns.heatmap(conf_matr_df, annot=True,annot_kws={\"size\": 16}, fmt='g')"
   ]
  },
  {
   "cell_type": "code",
   "execution_count": 100,
   "metadata": {},
   "outputs": [
    {
     "name": "stdout",
     "output_type": "stream",
     "text": [
      "             precision    recall  f1-score   support\n",
      "\n",
      "   Negative       0.77      0.79      0.78      5959\n",
      "   Positive       0.79      0.77      0.78      6041\n",
      "\n",
      "avg / total       0.78      0.78      0.78     12000\n",
      "\n"
     ]
    }
   ],
   "source": [
    "from sklearn.metrics import classification_report,precision_score,recall_score,f1_score\n",
    "print(classification_report(Y_test,prediction))"
   ]
  },
  {
   "cell_type": "raw",
   "metadata": {},
   "source": [
    "Observation   \n",
    "1 The difference between cross validation and Grid Search CV for Bag of Words leads to a slight increase in precision and recall being 78% while doing normal cross validation the precision and recall is 75%"
   ]
  },
  {
   "cell_type": "markdown",
   "metadata": {},
   "source": [
    "# Tf_IDF"
   ]
  },
  {
   "cell_type": "code",
   "execution_count": 101,
   "metadata": {},
   "outputs": [
    {
     "data": {
      "text/plain": [
       "(40000,)"
      ]
     },
     "execution_count": 101,
     "metadata": {},
     "output_type": "execute_result"
    }
   ],
   "source": [
    "X=final_d[\"CleanedText\"]\n",
    "X.shape"
   ]
  },
  {
   "cell_type": "code",
   "execution_count": 102,
   "metadata": {},
   "outputs": [
    {
     "data": {
      "text/plain": [
       "(40000,)"
      ]
     },
     "execution_count": 102,
     "metadata": {},
     "output_type": "execute_result"
    }
   ],
   "source": [
    "y=final_d[\"Score\"]\n",
    "y.shape"
   ]
  },
  {
   "cell_type": "code",
   "execution_count": 103,
   "metadata": {},
   "outputs": [],
   "source": [
    "X_train,X_test,Y_train,Y_test=cross_validation.train_test_split(X,y,test_size=0.30,random_state=None)\n",
    "#split train into cross val train and cross val test\n",
    "X_t,X_cv,Y_t,Y_cv=cross_validation.train_test_split(X_train,Y_train,test_size=0.3)"
   ]
  },
  {
   "cell_type": "code",
   "execution_count": 83,
   "metadata": {},
   "outputs": [
    {
     "name": "stdout",
     "output_type": "stream",
     "text": [
      "(28000,) (12000,) (28000,) (12000,)\n"
     ]
    }
   ],
   "source": [
    "print(X_train.shape,X_test.shape,Y_train.shape,Y_test.shape)"
   ]
  },
  {
   "cell_type": "code",
   "execution_count": 104,
   "metadata": {},
   "outputs": [],
   "source": [
    "tf_idf_vect=TfidfVectorizer()\n",
    "final_tfidf_vect=tf_idf_vect.fit_transform(X_train)\n",
    "final_test_tfidf_vect=tf_idf_vect.transform(X_test)"
   ]
  },
  {
   "cell_type": "code",
   "execution_count": 105,
   "metadata": {},
   "outputs": [],
   "source": [
    "X_train=final_tfidf_vect\n",
    "X_test=final_test_tfidf_vect"
   ]
  },
  {
   "cell_type": "markdown",
   "metadata": {},
   "source": [
    "# To find the best alpha using cross validation"
   ]
  },
  {
   "cell_type": "code",
   "execution_count": 86,
   "metadata": {},
   "outputs": [
    {
     "name": "stdout",
     "output_type": "stream",
     "text": [
      "Optimal alpha:  1\n"
     ]
    },
    {
     "data": {
      "image/png": "[encoded data removed]",
      "text/plain": [
       "<Figure size 432x288 with 1 Axes>"
      ]
     },
     "metadata": {},
     "output_type": "display_data"
    }
   ],
   "source": [
    "bNB=BernoulliNB()\n",
    "alpha_list = list(range(1,50,2))\n",
    "cv_score = []\n",
    "for i in alpha_list:\n",
    "    bNB = BernoulliNB(alpha=i)\n",
    "    scores = cross_val_score(bNB, X_train, Y_train, cv=10, scoring=\"accuracy\")\n",
    "    cv_score.append(scores.mean())\n",
    "\n",
    "MSE = [1-x for x in cv_score]\n",
    "optimal_alpha = alpha_list[MSE.index(min(MSE))]\n",
    "print(\"Optimal alpha: \",optimal_alpha)\n",
    "\n",
    "import matplotlib.pyplot as plt\n",
    "plt.plot(alpha_list, MSE)\n",
    "plt.title(\"Alpha vs Misclassification error\")\n",
    "plt.xlabel(\"value of alpha\")\n",
    "plt.ylabel(\"MSE\")\n",
    "plt.show()\n",
    "\n",
    "#l_a={'alpha':[1000,500,100,50,10,5,0.1,0.05,0.001]}\n",
    "#alpha_set=[1e-3, 1e-2,1e-1, 1e-0, 1e2, 1e3, 1e4]\n",
    "#for i in alpha_set:\n",
    "    # instantiate learning model (alpha = 10)\n",
    "#nB = BernoulliNB()\n",
    "#cls=GridSearchCV(nB,l_a,cv=10)\n",
    "    # fitting the model on crossvalidation train\n",
    "#cls.fit(X_train, Y_train)\n",
    "\n",
    "    # predict the response on the crossvalidation train\n",
    "#pred = cls.predict(X_cv)\n",
    "\n",
    "    # evaluate CV accuracy\n",
    "#acc = accuracy_score(Y_cv, pred, normalize=True) * float(100)\n",
    "#print(\"Best HyperParameter: \",cls.best_params_)\n",
    "#print(\"Best Accuracy: %.2f%%\"%(cls.best_score_*100))\n",
    "#test accuracy    \n",
    "#nB = BernoulliNB(alpha=1000)\n",
    "#nB.fit(X_train,Y_train)\n",
    "#pred = nB.predict(X_test)\n",
    "#acc = accuracy_score(Y_test, pred, normalize=True) * float(100)\n",
    "#print('\\n****Test accuracy for alpha = 1000 is %d%%' % (acc))"
   ]
  },
  {
   "cell_type": "code",
   "execution_count": 87,
   "metadata": {},
   "outputs": [
    {
     "name": "stdout",
     "output_type": "stream",
     "text": [
      "\n",
      " the accuracy score for TfIDf model with optimal a=1 is 83.908333%\n",
      "Number of mislabeled points out of a total 28000 points : 1931\n",
      "training error:0.12%\n",
      "####################################################################################################\n",
      "training accuracy:0.88%\n",
      "####################################################################################################\n",
      "test error:0.16%\n",
      "####################################################################################################\n",
      "test accuracy:0.84%\n"
     ]
    }
   ],
   "source": [
    "nB_opt=BernoulliNB(alpha=optimal_alpha)\n",
    "#fit the model\n",
    "nB_opt.fit(X_train,Y_train)\n",
    "#predict the model\n",
    "prediction=nB_opt.predict(X_test)\n",
    "\n",
    "#the accuracy score\n",
    "acc_score=accuracy_score(Y_test,prediction)* 100\n",
    "print('\\n the accuracy score for TfIDf model with optimal a=%d is %f%%' %(optimal_alpha,(acc_score)))\n",
    "\n",
    "print(\"Number of mislabeled points out of a total %d points : %d\" % (X_train.shape[0],(Y_test != prediction).sum()))\n",
    "\n",
    "training_accuracy = nB_opt.score(X_train, Y_train)\n",
    "training_error = 1 - training_accuracy\n",
    "test_accuracy = accuracy_score(Y_test, prediction)\n",
    "test_error = 1 - test_accuracy\n",
    "\n",
    "print(\"training error:%.2f%%\" %training_error)\n",
    "print('#'*100)\n",
    "print(\"training accuracy:%.2f%%\" %training_accuracy)\n",
    "print('#'*100)\n",
    "print(\"test error:%.2f%%\" %test_error)\n",
    "print('#'*100)\n",
    "print(\"test accuracy:%.2f%%\" %test_accuracy)"
   ]
  },
  {
   "cell_type": "markdown",
   "metadata": {},
   "source": [
    "# Feature importance"
   ]
  },
  {
   "cell_type": "code",
   "execution_count": 88,
   "metadata": {},
   "outputs": [
    {
     "name": "stdout",
     "output_type": "stream",
     "text": [
      "\t\t\tPositive\t\t\t\t\t\tNegative\n",
      "________________________________________________________________________________________________\n",
      "\t-9.5485\taaaaaaarrrrrggghhh\t\t\t\t-1.1621\tlike           \n",
      "\t-9.5485\taachen         \t\t\t\t-1.1955\ttast           \n",
      "\t-9.5485\taafco          \t\t\t\t-1.2681\tgood           \n",
      "\t-9.5485\taarrgh         \t\t\t\t-1.2734\tlove           \n",
      "\t-9.5485\taback          \t\t\t\t-1.3148\tgreat          \n",
      "\t-9.5485\tabat           \t\t\t\t-1.4523\tflavor         \n",
      "\t-9.5485\tabbey          \t\t\t\t-1.4593\tone            \n",
      "\t-9.5485\tabdomen        \t\t\t\t-1.4817\tuse            \n",
      "\t-9.5485\tabdomin        \t\t\t\t-1.5292\ttri            \n",
      "\t-9.5485\taberr          \t\t\t\t-1.5468\tproduct        \n",
      "\t-9.5485\tabhor          \t\t\t\t-1.6681\tmake           \n",
      "\t-9.5485\tabhorr         \t\t\t\t-1.7031\tget            \n",
      "\t-9.5485\tablet          \t\t\t\t-1.8908\tbuy            \n",
      "\t-9.5485\tabod           \t\t\t\t-1.9234\ttime           \n",
      "\t-9.5485\tabolut         \t\t\t\t-1.9308\twould          \n",
      "\t-9.5485\tabomin         \t\t\t\t-1.9786\trealli         \n",
      "\t-9.5485\tabosolut       \t\t\t\t-2.0016\tprice          \n",
      "\t-9.5485\tabottl         \t\t\t\t-2.0079\tmuch           \n",
      "\t-9.5485\tabouit         \t\t\t\t-2.0186\tbest           \n",
      "\t-9.5485\taboutbut       \t\t\t\t-2.0202\tfind           \n",
      "\t-9.5485\tabrupt         \t\t\t\t-2.0337\talso           \n",
      "\t-9.5485\tabsinth        \t\t\t\t-2.0463\teat            \n",
      "\t-9.5485\tabsolutelt     \t\t\t\t-2.0608\tdont           \n",
      "\t-9.5485\tabsoprt        \t\t\t\t-2.0880\tlittl          \n",
      "\t-9.5485\tabsorbedconsid \t\t\t\t-2.0950\tamazon         \n"
     ]
    }
   ],
   "source": [
    "feat_name=np.array(tf_idf_vect.get_feature_names())\n",
    "f_cnt=nB_opt.feature_count_\n",
    "log_prob = nB_opt.feature_log_prob_\n",
    "feature_prob = pd.DataFrame(log_prob, columns=feat_name).T\n",
    "#sorted_idx=nB_opt.coef_[0].argsort()\n",
    "#print(\"smallest coeffecient is: \\n {} \\n\".format(feat_name[sorted_idx[:10]]))\n",
    "#print(\"largest coefficient is: \\n {} \\n\".format(feat_name[sorted_idx[:-11:-1]]))\n",
    "top_positive = feature_prob[1].sort_values(ascending=False)[:10]\n",
    "top_negative = feature_prob[0].sort_values(ascending=False)[:10]\n",
    "\n",
    "def show_most_informative_features(vectorizer, clf, n=25):\n",
    "    feature_names = vectorizer.get_feature_names()\n",
    "    coefs_with_fns = sorted(zip(clf.coef_[0], feature_names))\n",
    "    top = zip(coefs_with_fns[:n], coefs_with_fns[:-(n + 1):-1])\n",
    "    print(\"\\t\\t\\tPositive\\t\\t\\t\\t\\t\\tNegative\")\n",
    "    print(\"________________________________________________________________________________________________\")\n",
    "    for (coef_1, fn_1), (coef_2, fn_2) in top:\n",
    "        print(\"\\t%.4f\\t%-15s\\t\\t\\t\\t%.4f\\t%-15s\" % (coef_1, fn_1, coef_2, fn_2))\n",
    "        \n",
    "show_most_informative_features(tf_idf_vect,nB_opt)"
   ]
  },
  {
   "cell_type": "code",
   "execution_count": 89,
   "metadata": {},
   "outputs": [
    {
     "data": {
      "text/plain": [
       "<matplotlib.axes._subplots.AxesSubplot at 0x6838f588>"
      ]
     },
     "execution_count": 89,
     "metadata": {},
     "output_type": "execute_result"
    },
    {
     "data": {
      "image/png": "[encoded data removed]",
      "text/plain": [
       "<Figure size 432x288 with 2 Axes>"
      ]
     },
     "metadata": {},
     "output_type": "display_data"
    }
   ],
   "source": [
    "conf_matr_df = pd.DataFrame(confusion_matrix(Y_test, prediction), range(2),range(2))\n",
    "sns.set(font_scale=1.4)#for label size\n",
    "sns.heatmap(conf_matr_df, annot=True,annot_kws={\"size\": 16}, fmt='g')"
   ]
  },
  {
   "cell_type": "code",
   "execution_count": 90,
   "metadata": {},
   "outputs": [
    {
     "name": "stdout",
     "output_type": "stream",
     "text": [
      "             precision    recall  f1-score   support\n",
      "\n",
      "   Negative       0.88      0.79      0.83      6022\n",
      "   Positive       0.81      0.89      0.85      5978\n",
      "\n",
      "avg / total       0.84      0.84      0.84     12000\n",
      "\n"
     ]
    }
   ],
   "source": [
    "from sklearn.metrics import classification_report\n",
    "print(classification_report(Y_test,prediction))"
   ]
  },
  {
   "cell_type": "markdown",
   "metadata": {},
   "source": [
    "# GridSearch CV feature selection"
   ]
  },
  {
   "cell_type": "code",
   "execution_count": 106,
   "metadata": {},
   "outputs": [
    {
     "name": "stdout",
     "output_type": "stream",
     "text": [
      "Fitting 3 folds for each of 15 candidates, totalling 45 fits\n"
     ]
    },
    {
     "name": "stderr",
     "output_type": "stream",
     "text": [
      "[Parallel(n_jobs=1)]: Done  45 out of  45 | elapsed:   10.6s finished\n"
     ]
    },
    {
     "name": "stdout",
     "output_type": "stream",
     "text": [
      "Best HyperParameter:  {'alpha': 1}\n",
      "Best Accuracy: 84.49%\n"
     ]
    }
   ],
   "source": [
    "nB = BernoulliNB()\n",
    "param_grid = {'alpha':[1000,500,100,50,10,5,1,0.5,0.1,0.05,0.01,0.005,0.001,0.0005,0.0001]} #params we need to try on classifier\n",
    "gsv=GridSearchCV(nB,param_grid,cv=3,verbose=1)\n",
    "gsv.fit(X_train,Y_train)\n",
    "print(\"Best HyperParameter: \",gsv.best_params_)\n",
    "print(\"Best Accuracy: %.2f%%\"%(gsv.best_score_*100))\n"
   ]
  },
  {
   "cell_type": "code",
   "execution_count": 107,
   "metadata": {},
   "outputs": [
    {
     "name": "stdout",
     "output_type": "stream",
     "text": [
      "\n",
      " the accuracy score for TfIDf model with optimal a=1 is 84.725000%\n",
      "Number of mislabeled points out of a total 28000 points : 1833\n",
      "training error:0.11%\n",
      "####################################################################################################\n",
      "training accuracy:0.89%\n",
      "####################################################################################################\n",
      "test error:0.15%\n",
      "####################################################################################################\n",
      "test accuracy:0.85%\n"
     ]
    }
   ],
   "source": [
    "nB_opt=BernoulliNB(alpha=1)\n",
    "#fit the model\n",
    "nB_opt.fit(X_train,Y_train)\n",
    "#predict the model\n",
    "prediction=nB_opt.predict(X_test)\n",
    "\n",
    "#the accuracy score\n",
    "acc_score=accuracy_score(Y_test,prediction)* 100\n",
    "print('\\n the accuracy score for TfIDf model with optimal a=%d is %f%%' %(optimal_alpha,(acc_score)))\n",
    "\n",
    "print(\"Number of mislabeled points out of a total %d points : %d\" % (X_train.shape[0],(Y_test != prediction).sum()))\n",
    "\n",
    "training_accuracy = nB_opt.score(X_train, Y_train)\n",
    "training_error = 1 - training_accuracy\n",
    "test_accuracy = accuracy_score(Y_test, prediction)\n",
    "test_error = 1 - test_accuracy\n",
    "\n",
    "print(\"training error:%.2f%%\" %training_error)\n",
    "print('#'*100)\n",
    "print(\"training accuracy:%.2f%%\" %training_accuracy)\n",
    "print('#'*100)\n",
    "print(\"test error:%.2f%%\" %test_error)\n",
    "print('#'*100)\n",
    "print(\"test accuracy:%.2f%%\" %test_accuracy)"
   ]
  },
  {
   "cell_type": "code",
   "execution_count": 108,
   "metadata": {},
   "outputs": [
    {
     "name": "stdout",
     "output_type": "stream",
     "text": [
      "\t\t\tPositive\t\t\t\t\t\tNegative\n",
      "________________________________________________________________________________________________\n",
      "\t-9.5502\taachen         \t\t\t\t-1.1692\tlike           \n",
      "\t-9.5502\taafco          \t\t\t\t-1.2078\ttast           \n",
      "\t-9.5502\taamazoncom     \t\t\t\t-1.2644\tlove           \n",
      "\t-9.5502\taarrgh         \t\t\t\t-1.2684\tgood           \n",
      "\t-9.5502\taauc           \t\t\t\t-1.3127\tgreat          \n",
      "\t-9.5502\tabat           \t\t\t\t-1.4337\tflavor         \n",
      "\t-9.5502\tabbey          \t\t\t\t-1.4709\tone            \n",
      "\t-9.5502\tabdomen        \t\t\t\t-1.4755\tuse            \n",
      "\t-9.5502\taberr          \t\t\t\t-1.5279\ttri            \n",
      "\t-9.5502\tabhorr         \t\t\t\t-1.5505\tproduct        \n",
      "\t-9.5502\tabject         \t\t\t\t-1.6785\tmake           \n",
      "\t-9.5502\tablet          \t\t\t\t-1.7189\tget            \n",
      "\t-9.5502\tabolut         \t\t\t\t-1.9019\tbuy            \n",
      "\t-9.5502\tabomin         \t\t\t\t-1.9458\twould          \n",
      "\t-9.5502\tabottl         \t\t\t\t-1.9478\ttime           \n",
      "\t-9.5502\tabouit         \t\t\t\t-1.9953\tbest           \n",
      "\t-9.5502\taboutbut       \t\t\t\t-1.9958\tmuch           \n",
      "\t-9.5502\tabrupt         \t\t\t\t-1.9979\trealli         \n",
      "\t-9.5502\tabsolutelt     \t\t\t\t-2.0095\tprice          \n",
      "\t-9.5502\tabsoprt        \t\t\t\t-2.0234\tfind           \n",
      "\t-9.5502\tabsoulut       \t\t\t\t-2.0343\talso           \n",
      "\t-9.5502\tacaigreen      \t\t\t\t-2.0737\teat            \n",
      "\t-9.5502\tacceptal       \t\t\t\t-2.0754\tdont           \n",
      "\t-9.5502\taccod          \t\t\t\t-2.0834\tamazon         \n",
      "\t-9.5502\taccountit      \t\t\t\t-2.0879\tlittl          \n"
     ]
    }
   ],
   "source": [
    "feat_name=np.array(tf_idf_vect.get_feature_names())\n",
    "f_cnt=nB_opt.feature_count_\n",
    "log_prob = nB_opt.feature_log_prob_\n",
    "feature_prob = pd.DataFrame(log_prob, columns=feat_name).T\n",
    "#sorted_idx=nB_opt.coef_[0].argsort()\n",
    "#print(\"smallest coeffecient is: \\n {} \\n\".format(feat_name[sorted_idx[:10]]))\n",
    "#print(\"largest coefficient is: \\n {} \\n\".format(feat_name[sorted_idx[:-11:-1]]))\n",
    "top_positive = feature_prob[1].sort_values(ascending=False)[:10]\n",
    "top_negative = feature_prob[0].sort_values(ascending=False)[:10]\n",
    "\n",
    "def show_most_informative_features(vectorizer, clf, n=25):\n",
    "    feature_names = vectorizer.get_feature_names()\n",
    "    coefs_with_fns = sorted(zip(clf.coef_[0], feature_names))\n",
    "    top = zip(coefs_with_fns[:n], coefs_with_fns[:-(n + 1):-1])\n",
    "    print(\"\\t\\t\\tPositive\\t\\t\\t\\t\\t\\tNegative\")\n",
    "    print(\"________________________________________________________________________________________________\")\n",
    "    for (coef_1, fn_1), (coef_2, fn_2) in top:\n",
    "        print(\"\\t%.4f\\t%-15s\\t\\t\\t\\t%.4f\\t%-15s\" % (coef_1, fn_1, coef_2, fn_2))\n",
    "        \n",
    "show_most_informative_features(tf_idf_vect,nB_opt)"
   ]
  },
  {
   "cell_type": "code",
   "execution_count": 109,
   "metadata": {},
   "outputs": [
    {
     "data": {
      "text/plain": [
       "<matplotlib.axes._subplots.AxesSubplot at 0x6c83e940>"
      ]
     },
     "execution_count": 109,
     "metadata": {},
     "output_type": "execute_result"
    },
    {
     "data": {
      "image/png": "[encoded data removed]",
      "text/plain": [
       "<Figure size 432x288 with 2 Axes>"
      ]
     },
     "metadata": {},
     "output_type": "display_data"
    }
   ],
   "source": [
    "conf_matr_df = pd.DataFrame(confusion_matrix(Y_test, prediction), range(2),range(2))\n",
    "sns.set(font_scale=1.4)#for label size\n",
    "sns.heatmap(conf_matr_df, annot=True,annot_kws={\"size\": 16}, fmt='g')"
   ]
  },
  {
   "cell_type": "code",
   "execution_count": 110,
   "metadata": {},
   "outputs": [
    {
     "name": "stdout",
     "output_type": "stream",
     "text": [
      "             precision    recall  f1-score   support\n",
      "\n",
      "   Negative       0.88      0.81      0.84      6045\n",
      "   Positive       0.82      0.89      0.85      5955\n",
      "\n",
      "avg / total       0.85      0.85      0.85     12000\n",
      "\n"
     ]
    }
   ],
   "source": [
    "from sklearn.metrics import classification_report\n",
    "print(classification_report(Y_test,prediction))"
   ]
  },
  {
   "cell_type": "markdown",
   "metadata": {},
   "source": [
    "# Multinomial Naive Bayes"
   ]
  },
  {
   "cell_type": "code",
   "execution_count": 45,
   "metadata": {},
   "outputs": [
    {
     "name": "stdout",
     "output_type": "stream",
     "text": [
      "Optimal alpha:  5\n"
     ]
    },
    {
     "data": {
      "image/png": "[encoded data removed]",
      "text/plain": [
       "<matplotlib.figure.Figure at 0x430abef0>"
      ]
     },
     "metadata": {},
     "output_type": "display_data"
    }
   ],
   "source": [
    "mNB=MultinomialNB()\n",
    "alpha_list = list(range(1,50,2))\n",
    "cv_score = []\n",
    "for i in alpha_list:\n",
    "    mNB = MultinomialNB(alpha=i)\n",
    "    scores = cross_val_score(mNB, X_train, Y_train, cv=10, scoring=\"accuracy\")\n",
    "    cv_score.append(scores.mean())\n",
    "\n",
    "MSE = [1-x for x in cv_score]\n",
    "optimal_alpha = alpha_list[MSE.index(min(MSE))]\n",
    "print(\"Optimal alpha: \",optimal_alpha)\n",
    "\n",
    "import matplotlib.pyplot as plt\n",
    "plt.plot(alpha_list, MSE)\n",
    "plt.title(\"Alpha vs Misclassification error\")\n",
    "plt.xlabel(\"value of alpha\")\n",
    "plt.ylabel(\"MSE\")\n",
    "plt.show()"
   ]
  },
  {
   "cell_type": "code",
   "execution_count": 46,
   "metadata": {},
   "outputs": [
    {
     "name": "stdout",
     "output_type": "stream",
     "text": [
      "\n",
      " the accuracy score for bag of words model with optimal a=5 is 85.608333%\n",
      "####################################################################################################\n",
      "Number of mislabeled points out of a total 28000 points : 1727\n",
      "%%%%%%%%%%%%%%%%%%%%%%%%%%%%%%%%%%%%%%%%%%%%%%%%%%\n",
      "training error:0.12%\n",
      "####################################################################################################\n",
      "training accuracy:0.88%\n",
      "####################################################################################################\n",
      "test error:0.14%\n",
      "####################################################################################################\n",
      "test accuracy:0.86%\n"
     ]
    }
   ],
   "source": [
    "mNB_opt=MultinomialNB(alpha=optimal_alpha)\n",
    "#fit the model\n",
    "mNB_opt.fit(X_train,Y_train)\n",
    "#predict the model\n",
    "prediction=mNB_opt.predict(X_test)\n",
    "\n",
    "#the accuracy score\n",
    "acc_score=accuracy_score(Y_test,prediction)* 100\n",
    "print('\\n the accuracy score for bag of words model with optimal a=%d is %f%%' % (optimal_alpha,(acc_score)))\n",
    "print('#'*100)\n",
    "print(\"Number of mislabeled points out of a total %d points : %d\" % (X_train.shape[0],(Y_test != prediction).sum()))\n",
    "print('%'*50)\n",
    "training_accuracy = mNB_opt.score(X_train, Y_train)\n",
    "training_error = 1 - training_accuracy\n",
    "test_accuracy = accuracy_score(Y_test, prediction)\n",
    "test_error = 1 - test_accuracy\n",
    "\n",
    "print(\"training error:%.2f%%\" %training_error)\n",
    "print('#'*100)\n",
    "print(\"training accuracy:%.2f%%\" %training_accuracy)\n",
    "print('#'*100)\n",
    "print(\"test error:%.2f%%\" %test_error)\n",
    "print('#'*100)\n",
    "print(\"test accuracy:%.2f%%\" %test_accuracy)"
   ]
  },
  {
   "cell_type": "code",
   "execution_count": 47,
   "metadata": {},
   "outputs": [
    {
     "name": "stdout",
     "output_type": "stream",
     "text": [
      "\t\t\tPositive\t\t\t\t\t\tNegative\n",
      "________________________________________________________________________________________________\n",
      "\t-10.5935\taaaaaaarrrrrggghhh\t\t\t\t-6.0647\tgreat          \n",
      "\t-10.5935\taaaaaahhhhhyaaaaaa\t\t\t\t-6.1096\tlove           \n",
      "\t-10.5935\taaaahhhhhh     \t\t\t\t-6.2190\tgood           \n",
      "\t-10.5935\taarrgh         \t\t\t\t-6.2721\tlike           \n",
      "\t-10.5935\taasanfoodcom   \t\t\t\t-6.2789\ttast           \n",
      "\t-10.5935\taauc           \t\t\t\t-6.2986\tflavor         \n",
      "\t-10.5935\tabalon         \t\t\t\t-6.3113\ttea            \n",
      "\t-10.5935\tabbazabba      \t\t\t\t-6.3667\tcoffe          \n",
      "\t-10.5935\tabbott         \t\t\t\t-6.3686\tuse            \n",
      "\t-10.5935\tabbrevi        \t\t\t\t-6.4578\tproduct        \n",
      "\t-10.5935\tabdomen        \t\t\t\t-6.5235\tone            \n",
      "\t-10.5935\tabhor          \t\t\t\t-6.6260\ttri            \n",
      "\t-10.5935\tabhorr         \t\t\t\t-6.6290\tmake           \n",
      "\t-10.5935\tabiet          \t\t\t\t-6.6754\tbest           \n",
      "\t-10.5935\tabit           \t\t\t\t-6.7045\tget            \n",
      "\t-10.5935\tabject         \t\t\t\t-6.7468\tprice          \n",
      "\t-10.5935\taboutbut       \t\t\t\t-6.7847\tfind           \n",
      "\t-10.5935\tabov           \t\t\t\t-6.7914\tfood           \n",
      "\t-10.5935\tabsolutelt     \t\t\t\t-6.7938\ttime           \n",
      "\t-10.5935\tabsolutley     \t\t\t\t-6.8087\tbuy            \n",
      "\t-10.5935\tabsorbt        \t\t\t\t-6.8357\trealli         \n",
      "\t-10.5935\tabut           \t\t\t\t-6.8670\tstore          \n",
      "\t-10.5935\tabysm          \t\t\t\t-6.8711\teat            \n",
      "\t-10.5935\tabysmali       \t\t\t\t-6.8761\torder          \n",
      "\t-10.5935\tacaigreen      \t\t\t\t-6.9104\tdog            \n"
     ]
    }
   ],
   "source": [
    "feat_name=np.array(tf_idf_vect.get_feature_names())\n",
    "f_cnt=mNB_opt.feature_count_\n",
    "log_prob = mNB_opt.feature_log_prob_\n",
    "feature_prob = pd.DataFrame(log_prob, columns=feat_name).T\n",
    "#sorted_idx=nB_opt.coef_[0].argsort()\n",
    "#print(\"smallest coeffecient is: \\n {} \\n\".format(feat_name[sorted_idx[:10]]))\n",
    "#print(\"largest coefficient is: \\n {} \\n\".format(feat_name[sorted_idx[:-11:-1]]))\n",
    "top_positive = feature_prob[1].sort_values(ascending=False)[:10]\n",
    "top_negative = feature_prob[0].sort_values(ascending=False)[:10]\n",
    "\n",
    "def show_most_informative_features(vectorizer, clf, n=25):\n",
    "    feature_names = vectorizer.get_feature_names()\n",
    "    coefs_with_fns = sorted(zip(clf.coef_[0], feature_names))\n",
    "    top = zip(coefs_with_fns[:n], coefs_with_fns[:-(n + 1):-1])\n",
    "    print(\"\\t\\t\\tPositive\\t\\t\\t\\t\\t\\tNegative\")\n",
    "    print(\"________________________________________________________________________________________________\")\n",
    "    for (coef_1, fn_1), (coef_2, fn_2) in top:\n",
    "        print(\"\\t%.4f\\t%-15s\\t\\t\\t\\t%.4f\\t%-15s\" % (coef_1, fn_1, coef_2, fn_2))\n",
    "        \n",
    "show_most_informative_features(tf_idf_vect,mNB_opt)"
   ]
  },
  {
   "cell_type": "code",
   "execution_count": 48,
   "metadata": {},
   "outputs": [
    {
     "data": {
      "text/plain": [
       "<matplotlib.axes._subplots.AxesSubplot at 0x44e223c8>"
      ]
     },
     "execution_count": 48,
     "metadata": {},
     "output_type": "execute_result"
    },
    {
     "data": {
      "image/png": "[encoded data removed]",
      "text/plain": [
       "<matplotlib.figure.Figure at 0x347e16a0>"
      ]
     },
     "metadata": {},
     "output_type": "display_data"
    }
   ],
   "source": [
    "conf_matr_df = pd.DataFrame(confusion_matrix(Y_test, prediction), range(2),range(2))\n",
    "sns.set(font_scale=1.4)#for label size\n",
    "sns.heatmap(conf_matr_df, annot=True,annot_kws={\"size\": 16}, fmt='g')"
   ]
  },
  {
   "cell_type": "code",
   "execution_count": 49,
   "metadata": {},
   "outputs": [
    {
     "name": "stdout",
     "output_type": "stream",
     "text": [
      "             precision    recall  f1-score   support\n",
      "\n",
      "   Negative       0.85      0.86      0.86      5981\n",
      "   Positive       0.86      0.86      0.86      6019\n",
      "\n",
      "avg / total       0.86      0.86      0.86     12000\n",
      "\n"
     ]
    }
   ],
   "source": [
    "from sklearn.metrics import classification_report\n",
    "print(classification_report(Y_test,prediction))"
   ]
  },
  {
   "cell_type": "raw",
   "metadata": {},
   "source": [
    "Observation:\n",
    "\n",
    "with alpha being 1 for BernoulliNB we get precision and recall at 85% while for MultinomialNB optimal alpha being 5 we get precision and recall at 86%"
   ]
  },
  {
   "cell_type": "markdown",
   "metadata": {},
   "source": [
    " # Word2Vec"
   ]
  },
  {
   "cell_type": "code",
   "execution_count": 17,
   "metadata": {},
   "outputs": [
    {
     "name": "stderr",
     "output_type": "stream",
     "text": [
      "D:\\Anaconda\\lib\\site-packages\\gensim\\utils.py:1209: UserWarning: detected Windows; aliasing chunkize to chunkize_serial\n",
      "  warnings.warn(\"detected Windows; aliasing chunkize to chunkize_serial\")\n"
     ]
    }
   ],
   "source": [
    "import gensim\n",
    "from gensim.models import word2vec,KeyedVectors"
   ]
  },
  {
   "cell_type": "code",
   "execution_count": 40,
   "metadata": {},
   "outputs": [
    {
     "data": {
      "text/plain": [
       "(40000,)"
      ]
     },
     "execution_count": 40,
     "metadata": {},
     "output_type": "execute_result"
    }
   ],
   "source": [
    "X=final_d[\"Text\"]\n",
    "X.shape"
   ]
  },
  {
   "cell_type": "code",
   "execution_count": 41,
   "metadata": {},
   "outputs": [
    {
     "data": {
      "text/plain": [
       "(40000,)"
      ]
     },
     "execution_count": 41,
     "metadata": {},
     "output_type": "execute_result"
    }
   ],
   "source": [
    "y=final_d[\"Score\"]\n",
    "y.shape"
   ]
  },
  {
   "cell_type": "code",
   "execution_count": 42,
   "metadata": {},
   "outputs": [],
   "source": [
    "X_train,X_test,Y_train,Y_test=cross_validation.train_test_split(X,y,test_size=0.30,random_state=None)\n",
    "#split train into cross val train and cross val test\n",
    "X_t,X_cv,Y_t,Y_cv=cross_validation.train_test_split(X_train,Y_train,test_size=0.3)"
   ]
  },
  {
   "cell_type": "code",
   "execution_count": 23,
   "metadata": {},
   "outputs": [
    {
     "name": "stdout",
     "output_type": "stream",
     "text": [
      "(28000,) (12000,) (28000,) (12000,)\n"
     ]
    }
   ],
   "source": [
    "print(X_train.shape,X_test.shape,Y_train.shape,Y_test.shape)"
   ]
  },
  {
   "cell_type": "code",
   "execution_count": 43,
   "metadata": {},
   "outputs": [
    {
     "name": "stdout",
     "output_type": "stream",
     "text": [
      "19582\n"
     ]
    }
   ],
   "source": [
    "i=0\n",
    "list_of_sentence=[]\n",
    "for sent in X_train.values:\n",
    "    filtered_sentence=[]\n",
    "    list_of_sentence.append(sent.split())\n",
    "    #sent=cleanhtml(sent)\n",
    "    #for w in sent.split():\n",
    "      #   for cleaned in cleanpunc(w).split():\n",
    "      #      if(cleaned.isalpha()):\n",
    "       #         filtered_sentence.append(cleaned.lower())\n",
    "        #    else:\n",
    "         #       continue\n",
    "#list_of_sentence.append(filtered_sentence)\n",
    "#print(X[\"CleanedText\"].values[0])\n",
    "#print('###########')\n",
    "#print(list_of_sentence[0])\n",
    "w2v_model=gensim.models.Word2Vec(list_of_sentence,min_count=5,size=50,workers=4)\n",
    "\n",
    "words=list(w2v_model.wv.vocab)\n",
    "print(len(words))"
   ]
  },
  {
   "cell_type": "code",
   "execution_count": 25,
   "metadata": {},
   "outputs": [
    {
     "name": "stderr",
     "output_type": "stream",
     "text": [
      "D:\\Anaconda\\lib\\site-packages\\gensim\\matutils.py:737: FutureWarning: Conversion of the second argument of issubdtype from `int` to `np.signedinteger` is deprecated. In future, it will be treated as `np.int32 == np.dtype(int).type`.\n",
      "  if np.issubdtype(vec.dtype, np.int):\n"
     ]
    },
    {
     "data": {
      "text/plain": [
       "[('like,', 0.6465601325035095),\n",
       " ('like.', 0.5829551219940186),\n",
       " ('prefer', 0.567816972732544),\n",
       " ('notice', 0.5240753889083862),\n",
       " ('great,', 0.5214934349060059),\n",
       " ('mind', 0.5159530639648438),\n",
       " ('think', 0.5159229636192322),\n",
       " ('okay', 0.5143426656723022),\n",
       " ('expect', 0.5121126174926758),\n",
       " ('care', 0.5057751536369324)]"
      ]
     },
     "execution_count": 25,
     "metadata": {},
     "output_type": "execute_result"
    }
   ],
   "source": [
    "w2v_model.wv.most_similar('like')"
   ]
  },
  {
   "cell_type": "code",
   "execution_count": 44,
   "metadata": {},
   "outputs": [
    {
     "name": "stdout",
     "output_type": "stream",
     "text": [
      "[\"I'm\", 'just', 'going', 'to', 'say', 'it:', 'These', 'CHIPS', 'Taste', 'like', 'DETERGENT.<br', '/><br', '/>Given', 'that', 'Garden', 'of', \"Eatin'\", 'blue', 'corn,', 'and', 'red', 'hots', 'chips', 'are', 'my', 'favorite', 'of', 'all', 'time,', \"it's\", 'puzzling', 'how', 'they', 'can', 'produce', 'such', 'an', 'unfortunate', 'product', 'as', '\"Chili', '&', 'Lime\".<br', '/><br', '/>First', 'of', 'all,', \"where's\", 'the', 'chili?', 'I', \"don't\", 'even', 'taste', 'it.', 'Even', 'tho', \"I'm\", 'an', 'advanced', 'chili', 'pepper', 'user,', 'I', 'have', 'a', 'very', 'keen', 'palate.', 'I', 'detect', 'less', 'than', '1', 'part', 'per', 'billion', 'of', 'chili', 'in', 'these', 'here', 'unfortunate', 'chips.<br', '/><br', '/>Also,', 'I', 'detect', 'fraudulent', 'lime', 'flavors', 'and', '*that*', 'my', 'friends', 'is', 'an', 'egregious', 'error', 'from', 'such', 'a', 'reknowned', 'company.', 'The', 'red', 'herring', 'that', \"it's\", 'NOT', 'natural', 'is', '\"NATURAL', 'FLAVORS', 'WITH', 'LIME\".', 'The', 'translation', 'here', 'is', 'that', 'these', 'natural', 'flavors', 'could', 'be', 'really', 'anything,', 'could', 'be', 'any', 'combination', 'of', 'terpene', 'extracts', 'from', \"'natural\", \"sources'.\", 'For', 'example,', 'fake', 'lemon', 'flavor', 'in', 'candies', 'and', 'wood', 'detergent', 'is', 'often', 'an', 'extract', 'from', 'lemongrass', 'because', \"it's\", 'cheaper', 'than', 'from', 'lemons.', 'But', \"it's\", 'a', 'different', 'chemical', 'also.', 'Fake', 'lime', 'is', 'immediately', 'a', 'mistake,', 'and', 'anyone-not', 'just', 'supertasters-can', 'tell.<br', '/><br', '/>This', 'fakeLime', 'taste,', 'or', \"'floor\", 'detergent', \"flavor',\", 'is', 'reminiscent', 'of', 'a', 'childhood', 'fragrance-', 'the', 'strong', 'chemical', 'citrus', 'waft', 'of', 'mopwater', 'that', 'a', 'theater', 'employee', 'was', 'using', 'to', 'mask', 'the', 'rotting', 'popcorn-soda-slurry', 'smell', 'by', 'the', 'dumpster.<br', '/><br', '/>In', 'other', 'words,', 'it', 'seems', 'as', 'if', 'Garden', 'of', 'Eatin', 'found', 'the', 'cheapest,', 'strongest', 'floor', 'stripping', 'chemicals', 'from', 'Big', 'Lots,', 'extracted', 'the', 'lime', 'scent', 'component', 'and', 'littered', 'it', 'lightly', 'onto', 'these', 'chips.<br', '/><br', '/>So', 'if', 'you', 'want', 'to', 'mop', 'floor', 'with', 'a', 'tea', 'of', 'these,', 'or', 'you', 'are', 'considering', 'a', 'colon', 'cleanse,', 'accept', 'no', 'substitute.<br', '/><br', '/>--------------------------------------------------<br', '/>Ok', 'so', 'along', 'the', 'lines', 'of', 'constructive', 'criticism:<br', '/><br', '/>ATTN:', 'Garden', 'of', \"EATIN'<br\", '/><br', '/>Please', 'contact', 'Tostitos', 'sensory', 'labs', 'scientists.', 'It', 'is', 'imperative', 'that', 'you', 'find', 'out', 'how', 'Tostitos', 'makes', 'their', 'hint', 'of', 'lime', 'chips', 'because', 'they', 'got', 'it', 'right.', 'Use', 'at', 'least', '500', 'ppm', 'nanolimeparticles', 'and', 'same', 'same', 'for', 'chili.', 'Coat', 'those', 'suckers', 'with', 'maybe', '1/2', 'to', '100%', 'of', 'the', 'rate', 'used', 'for', 'redhotblues.']\n",
      "11071\n"
     ]
    }
   ],
   "source": [
    "#word2vec for test\n",
    "i=0\n",
    "list_of_sentences=[]\n",
    "for sent in X_test.values:\n",
    "    filtered_sentences=[]\n",
    "    list_of_sentences.append(sent.split())\n",
    "    #sent=cleanhtml(sent)\n",
    "    #for w in sent.split():\n",
    "     #   for cleaned in cleanpunc(w).split():\n",
    "      #      if(cleaned.isalpha()):\n",
    "       #         filtered_sentence.append(cleaned.lower())\n",
    "        #    else:\n",
    "         #       continue\n",
    "#list_of_sentences.append(filtered_sentence)\n",
    "#print(X_train.values[0])\n",
    "#print('###########')\n",
    "print(list_of_sentences[0])\n",
    "w2v_model_test=gensim.models.Word2Vec(list_of_sentences,min_count=5,size=50,workers=4)\n",
    "\n",
    "words_test=list(w2v_model_test.wv.vocab)\n",
    "print(len(words_test))\n"
   ]
  },
  {
   "cell_type": "code",
   "execution_count": 45,
   "metadata": {},
   "outputs": [],
   "source": [
    "from tqdm import tqdm"
   ]
  },
  {
   "cell_type": "code",
   "execution_count": 505,
   "metadata": {},
   "outputs": [],
   "source": [
    "import re\n",
    "\n",
    "\n",
    "def cleanhtml(sentence):\n",
    "    cleantext = re.sub('<.*>', '', sentence)\n",
    "    return cleantext\n",
    "\n",
    "\n",
    "def cleanpunc(sentence):\n",
    "    cleaned = re.sub(r'[?|!|\\'|#|@|.|,|)|(|\\|/]', r'', sentence)\n",
    "    return cleaned"
   ]
  },
  {
   "cell_type": "code",
   "execution_count": 509,
   "metadata": {},
   "outputs": [
    {
     "name": "stdout",
     "output_type": "stream",
     "text": [
      "(2408, 50) (1534, 50)\n"
     ]
    }
   ],
   "source": [
    "print(train_w2v_words.shape, test_w2v_words.shape)"
   ]
  },
  {
   "cell_type": "markdown",
   "metadata": {},
   "source": [
    "# Avg-Word2Vec"
   ]
  },
  {
   "cell_type": "code",
   "execution_count": 46,
   "metadata": {},
   "outputs": [
    {
     "name": "stderr",
     "output_type": "stream",
     "text": [
      "100%|██████████████████████████████████| 28000/28000 [00:09<00:00, 2987.14it/s]\n"
     ]
    },
    {
     "name": "stdout",
     "output_type": "stream",
     "text": [
      "28000\n",
      "50\n"
     ]
    }
   ],
   "source": [
    "sent_vectors = [] \n",
    "for sent in tqdm(list_of_sentence): # for each review/sentence\n",
    "    sent_vec = np.zeros(50) # as word vectors are of zero length\n",
    "    cnt_words =0 # num of words with a valid vector in the sentence/review\n",
    "    for word in sent: # for each word in a review/sentence\n",
    "        try:\n",
    "            vec = w2v_model.wv[word]\n",
    "            sent_vec += vec\n",
    "            cnt_words += 1\n",
    "        except:\n",
    "            pass\n",
    "        \n",
    "    if cnt_words != 0:\n",
    "        sent_vec /= cnt_words\n",
    "    sent_vectors.append(sent_vec)\n",
    "print(len(sent_vectors))\n",
    "print(len(sent_vectors[0]))\n",
    "    \n",
    "\n",
    "train_vectors=np.nan_to_num(sent_vectors)"
   ]
  },
  {
   "cell_type": "code",
   "execution_count": 47,
   "metadata": {},
   "outputs": [
    {
     "name": "stderr",
     "output_type": "stream",
     "text": [
      "100%|██████████████████████████████████| 12000/12000 [00:03<00:00, 3021.25it/s]\n"
     ]
    }
   ],
   "source": [
    "test_vectors = []\n",
    "for sent in tqdm(list_of_sentences):\n",
    "    sent_vec = np.zeros(50)\n",
    "    cnt_words = 0\n",
    "    for word in sent:\n",
    "        try:\n",
    "            vec = w2v_model.wv[word]\n",
    "            sent_vec += vec\n",
    "            cnt_words += 1\n",
    "        except:\n",
    "            pass\n",
    "    sent_vec /= cnt_words\n",
    "    test_vectors.append(sent_vec)\n",
    "test_vectors = np.nan_to_num(test_vectors)"
   ]
  },
  {
   "cell_type": "code",
   "execution_count": 111,
   "metadata": {},
   "outputs": [],
   "source": [
    "X_train=train_vectors\n",
    "X_test=test_vectors"
   ]
  },
  {
   "cell_type": "code",
   "execution_count": 112,
   "metadata": {},
   "outputs": [
    {
     "data": {
      "text/plain": [
       "(28000, 50)"
      ]
     },
     "execution_count": 112,
     "metadata": {},
     "output_type": "execute_result"
    }
   ],
   "source": [
    "X_train.shape"
   ]
  },
  {
   "cell_type": "code",
   "execution_count": 113,
   "metadata": {},
   "outputs": [
    {
     "data": {
      "text/plain": [
       "(28000,)"
      ]
     },
     "execution_count": 113,
     "metadata": {},
     "output_type": "execute_result"
    }
   ],
   "source": [
    "Y_train.shape"
   ]
  },
  {
   "cell_type": "code",
   "execution_count": 303,
   "metadata": {},
   "outputs": [],
   "source": [
    "#model=word2vec.Word2Vec.load('w2vmodel')"
   ]
  },
  {
   "cell_type": "markdown",
   "metadata": {},
   "source": [
    "# alpha value using old-cross validation approach\n"
   ]
  },
  {
   "cell_type": "code",
   "execution_count": 33,
   "metadata": {},
   "outputs": [
    {
     "name": "stdout",
     "output_type": "stream",
     "text": [
      "Optimal alpha:  5\n"
     ]
    },
    {
     "data": {
      "image/png": "[encoded data removed]",
      "text/plain": [
       "<Figure size 432x288 with 1 Axes>"
      ]
     },
     "metadata": {},
     "output_type": "display_data"
    }
   ],
   "source": [
    "bNB=BernoulliNB()\n",
    "alpha_list = list(range(1,50,2))\n",
    "cv_score = []\n",
    "for i in alpha_list:\n",
    "    bNB = BernoulliNB(alpha=i)\n",
    "    scores = cross_val_score(bNB, X_train, Y_train, cv=10, scoring=\"accuracy\")\n",
    "    cv_score.append(scores.mean())\n",
    "\n",
    "MSE = [1-x for x in cv_score]\n",
    "optimal_alpha = alpha_list[MSE.index(min(MSE))]\n",
    "print(\"Optimal alpha: \",optimal_alpha)\n",
    "\n",
    "import matplotlib.pyplot as plt\n",
    "plt.plot(alpha_list, MSE)\n",
    "plt.title(\"Alpha vs Misclassification error\")\n",
    "plt.xlabel(\"value of alpha\")\n",
    "plt.ylabel(\"MSE\")\n",
    "plt.show()\n",
    "\n",
    "\n",
    "\n",
    "\n",
    "\n",
    "\n",
    "\n",
    "\n",
    "#l_a={'alpha':[1000,500,100,50,10,5,0.1,0.05,0.001]}\n",
    "#alpha_set=[1e-3, 1e-2,1e-1, 1e-0, 1e2, 1e3, 1e4]\n",
    "#for i in alpha_set:\n",
    "    # instantiate learning model (alpha = 10)\n",
    "#nB = BernoulliNB()\n",
    "#cls=GridSearchCV(nB,l_a,cv=10)\n",
    "    # fitting the model on crossvalidation train\n",
    "#cls.fit(X_train, Y_train)\n",
    "\n",
    "    # predict the response on the crossvalidation train\n",
    "#pred = cls.predict(X_cv)\n",
    "\n",
    "    # evaluate CV accuracy\n",
    "#acc = accuracy_score(Y_cv, pred, normalize=True) * float(100)\n",
    "#print(\"Best HyperParameter: \",cls.best_params_)\n",
    "#print(\"Best Accuracy: %.2f%%\"%(cls.best_score_*100))\n",
    "#test accuracy    \n",
    "#nB = BernoulliNB(alpha=1000)\n",
    "#nB.fit(X_train,Y_train)\n",
    "#pred = nB.predict(X_test)\n",
    "#acc = accuracy_score(Y_test, pred, normalize=True) * float(100)\n",
    "#print('\\n****Test accuracy for alpha = 1000 is %d%%' % (acc))"
   ]
  },
  {
   "cell_type": "code",
   "execution_count": 34,
   "metadata": {},
   "outputs": [
    {
     "name": "stdout",
     "output_type": "stream",
     "text": [
      "\n",
      " the accuracy score for bag of words model with optimal a=5 is 67.850000%\n",
      "Number of mislabeled points out of a total 28000 points : 3858\n",
      "training error:0.33%\n",
      "####################################################################################################\n",
      "training accuracy:0.67%\n",
      "####################################################################################################\n",
      "test error:0.32%\n",
      "####################################################################################################\n",
      "test accuracy:0.68%\n"
     ]
    }
   ],
   "source": [
    "nB_opt=BernoulliNB(alpha=optimal_alpha)\n",
    "#fit the model\n",
    "nB_opt.fit(X_train,Y_train)\n",
    "#predict the model\n",
    "prediction=nB_opt.predict(X_test)\n",
    "\n",
    "#the accuracy score\n",
    "acc_score=accuracy_score(Y_test,prediction)* 100\n",
    "print('\\n the accuracy score for bag of words model with optimal a=%d is %f%%' %(optimal_alpha,(acc_score)))\n",
    "\n",
    "print(\"Number of mislabeled points out of a total %d points : %d\" % (X_train.shape[0],(Y_test != prediction).sum()))\n",
    "\n",
    "training_accuracy = nB_opt.score(X_train, Y_train)\n",
    "training_error = 1 - training_accuracy\n",
    "test_accuracy = accuracy_score(Y_test, prediction)\n",
    "test_error = 1 - test_accuracy\n",
    "\n",
    "print(\"training error:%.2f%%\" %training_error)\n",
    "print('#'*100)\n",
    "print(\"training accuracy:%.2f%%\" %training_accuracy)\n",
    "print('#'*100)\n",
    "print(\"test error:%.2f%%\" %test_error)\n",
    "print('#'*100)\n",
    "print(\"test accuracy:%.2f%%\" %test_accuracy)\n"
   ]
  },
  {
   "cell_type": "code",
   "execution_count": 36,
   "metadata": {},
   "outputs": [
    {
     "data": {
      "text/plain": [
       "<matplotlib.axes._subplots.AxesSubplot at 0x63e676d8>"
      ]
     },
     "execution_count": 36,
     "metadata": {},
     "output_type": "execute_result"
    },
    {
     "data": {
      "image/png": "[encoded data removed]",
      "text/plain": [
       "<Figure size 432x288 with 2 Axes>"
      ]
     },
     "metadata": {},
     "output_type": "display_data"
    }
   ],
   "source": [
    "conf_matr_df = pd.DataFrame(confusion_matrix(Y_test, prediction), range(2),range(2))\n",
    "sns.set(font_scale=1.4)#for label size\n",
    "sns.heatmap(conf_matr_df, annot=True,annot_kws={\"size\": 16}, fmt='g')"
   ]
  },
  {
   "cell_type": "markdown",
   "metadata": {},
   "source": [
    "# Grid Search CV feature selection"
   ]
  },
  {
   "cell_type": "code",
   "execution_count": 114,
   "metadata": {},
   "outputs": [
    {
     "name": "stdout",
     "output_type": "stream",
     "text": [
      "Fitting 3 folds for each of 15 candidates, totalling 45 fits\n"
     ]
    },
    {
     "name": "stderr",
     "output_type": "stream",
     "text": [
      "[Parallel(n_jobs=1)]: Done  45 out of  45 | elapsed:   14.0s finished\n"
     ]
    },
    {
     "name": "stdout",
     "output_type": "stream",
     "text": [
      "Best HyperParameter:  {'alpha': 1000}\n",
      "Best Accuracy: 50.15%\n"
     ]
    }
   ],
   "source": [
    "nB = BernoulliNB()\n",
    "param_grid = {'alpha':[1000,500,100,50,10,5,1,0.5,0.1,0.05,0.01,0.005,0.001,0.0005,0.0001]} #params we need to try on classifier\n",
    "gsv=GridSearchCV(nB,param_grid,cv=3,verbose=1)\n",
    "gsv.fit(X_train,Y_train)\n",
    "print(\"Best HyperParameter: \",gsv.best_params_)\n",
    "print(\"Best Accuracy: %.2f%%\"%(gsv.best_score_*100))"
   ]
  },
  {
   "cell_type": "code",
   "execution_count": 115,
   "metadata": {},
   "outputs": [
    {
     "name": "stdout",
     "output_type": "stream",
     "text": [
      "\n",
      " the accuracy score for bag of words model with optimal a=1 is 49.283333%\n",
      "Number of mislabeled points out of a total 28000 points : 6086\n",
      "training error:0.49%\n",
      "####################################################################################################\n",
      "training accuracy:0.51%\n",
      "####################################################################################################\n",
      "test error:0.51%\n",
      "####################################################################################################\n",
      "test accuracy:0.49%\n"
     ]
    }
   ],
   "source": [
    "nB_opt=BernoulliNB(alpha=1000)\n",
    "#fit the model\n",
    "nB_opt.fit(X_train,Y_train)\n",
    "#predict the model\n",
    "prediction=nB_opt.predict(X_test)\n",
    "\n",
    "#the accuracy score\n",
    "acc_score=accuracy_score(Y_test,prediction)* 100\n",
    "print('\\n the accuracy score for bag of words model with optimal a=%d is %f%%' %(optimal_alpha,(acc_score)))\n",
    "\n",
    "print(\"Number of mislabeled points out of a total %d points : %d\" % (X_train.shape[0],(Y_test != prediction).sum()))\n",
    "\n",
    "training_accuracy = nB_opt.score(X_train, Y_train)\n",
    "training_error = 1 - training_accuracy\n",
    "test_accuracy = accuracy_score(Y_test, prediction)\n",
    "test_error = 1 - test_accuracy\n",
    "\n",
    "print(\"training error:%.2f%%\" %training_error)\n",
    "print('#'*100)\n",
    "print(\"training accuracy:%.2f%%\" %training_accuracy)\n",
    "print('#'*100)\n",
    "print(\"test error:%.2f%%\" %test_error)\n",
    "print('#'*100)\n",
    "print(\"test accuracy:%.2f%%\" %test_accuracy)"
   ]
  },
  {
   "cell_type": "markdown",
   "metadata": {},
   "source": [
    "# Weighted Tf-IDf Word2Vec"
   ]
  },
  {
   "cell_type": "code",
   "execution_count": 55,
   "metadata": {},
   "outputs": [],
   "source": [
    "model = TfidfVectorizer()\n",
    "tf_idf_matrix = model.fit_transform(final_d['CleanedText'].values)\n",
    "# we are converting a dictionary with word as a key, and the idf as a value\n",
    "dictionary = dict(zip(model.get_feature_names(), list(model.idf_)))"
   ]
  },
  {
   "cell_type": "code",
   "execution_count": 56,
   "metadata": {},
   "outputs": [
    {
     "data": {
      "text/plain": [
       "(40000,)"
      ]
     },
     "execution_count": 56,
     "metadata": {},
     "output_type": "execute_result"
    }
   ],
   "source": [
    "X=final_d[\"CleanedText\"]\n",
    "X.shape"
   ]
  },
  {
   "cell_type": "code",
   "execution_count": 57,
   "metadata": {},
   "outputs": [
    {
     "data": {
      "text/plain": [
       "(40000,)"
      ]
     },
     "execution_count": 57,
     "metadata": {},
     "output_type": "execute_result"
    }
   ],
   "source": [
    "y=final_d[\"Score\"]\n",
    "y.shape"
   ]
  },
  {
   "cell_type": "code",
   "execution_count": 59,
   "metadata": {},
   "outputs": [],
   "source": [
    "X_train,X_test,Y_train,Y_test=cross_validation.train_test_split(X,y,test_size=0.30,random_state=None)\n",
    "#split train into cross val train and cross val test\n",
    "X_t,X_cv,Y_t,Y_cv=cross_validation.train_test_split(X_train,Y_train,test_size=0.3,random_state=None)"
   ]
  },
  {
   "cell_type": "code",
   "execution_count": 60,
   "metadata": {},
   "outputs": [
    {
     "name": "stdout",
     "output_type": "stream",
     "text": [
      "(28000,) (12000,) (28000,) (12000,)\n"
     ]
    }
   ],
   "source": [
    "print(X_train.shape,X_test.shape,Y_train.shape,Y_test.shape)"
   ]
  },
  {
   "cell_type": "code",
   "execution_count": 61,
   "metadata": {},
   "outputs": [],
   "source": [
    "tfidf_vect = TfidfVectorizer()\n",
    "train_tfidf_w2v = tfidf_vect.fit_transform(X_train)\n",
    "test_tfidf_w2v = model.transform(X_test)"
   ]
  },
  {
   "cell_type": "code",
   "execution_count": 62,
   "metadata": {},
   "outputs": [
    {
     "name": "stdout",
     "output_type": "stream",
     "text": [
      "(28000, 26916) (12000, 32822)\n"
     ]
    }
   ],
   "source": [
    "print(train_tfidf_w2v.shape,test_tfidf_w2v.shape)"
   ]
  },
  {
   "cell_type": "code",
   "execution_count": 63,
   "metadata": {},
   "outputs": [
    {
     "name": "stderr",
     "output_type": "stream",
     "text": [
      "100%|██████████████████████████████████| 28000/28000 [00:11<00:00, 2402.95it/s]\n"
     ]
    }
   ],
   "source": [
    "tfidf_feat = model.get_feature_names() # tfidf words/col-names\n",
    "# final_tf_idf is the sparse matrix with row= sentence, col=word and cell_val = tfidf\n",
    "\n",
    "tfidf_sent_vectors = []; # the tfidf-w2v for each sentence/review is stored in this list\n",
    "row=0;\n",
    "for sent in tqdm(list_of_sentence): # for each review/sentence \n",
    "    sent_vec = np.zeros(50) # as word vectors are of zero length\n",
    "    weight_sum =0; # num of words with a valid vector in the sentence/review\n",
    "    for word in sent: # for each word in a review/sentence\n",
    "        try:\n",
    "            vec = w2v_model.wv[word]\n",
    "#             tf_idf = tf_idf_matrix[row, tfidf_feat.index(word)]\n",
    "            # to reduce the computation we are \n",
    "            # dictionary[word] = idf value of word in whole courpus\n",
    "            # sent.count(word) = tf valeus of word in this review\n",
    "            tf_idf = dictionary[word]*sent.count(word)\n",
    "            sent_vec += (vec * tf_idf)\n",
    "            weight_sum += tf_idf\n",
    "        except:\n",
    "            pass\n",
    "        \n",
    "    if weight_sum != 0:\n",
    "        sent_vec /= weight_sum\n",
    "    tfidf_sent_vectors.append(sent_vec)\n",
    "    row += 1"
   ]
  },
  {
   "cell_type": "code",
   "execution_count": 64,
   "metadata": {},
   "outputs": [
    {
     "name": "stderr",
     "output_type": "stream",
     "text": [
      "100%|██████████████████████████████████| 12000/12000 [00:04<00:00, 2474.46it/s]\n"
     ]
    }
   ],
   "source": [
    "tfidf_feat = model.get_feature_names() # tfidf words/col-names\n",
    "# final_tf_idf is the sparse matrix with row= sentence, col=word and cell_val = tfidf\n",
    "\n",
    "tfidf_sent_vectors_test = []; # the tfidf-w2v for each sentence/review is stored in this list\n",
    "row=0;\n",
    "for sent in tqdm(list_of_sentences): # for each review/sentence \n",
    "    sent_vec = np.zeros(50) # as word vectors are of zero length\n",
    "    weight_sum =0; # num of words with a valid vector in the sentence/review\n",
    "    for word in sent: # for each word in a review/sentence\n",
    "        try:\n",
    "            vec = w2v_model.wv[word]\n",
    "            tf_idf = dictionary[word]*sent.count(word)\n",
    "            sent_vec += (vec * tf_idf)\n",
    "            weight_sum += tf_idf    \n",
    "        except:\n",
    "            pass\n",
    "            \n",
    "#             tf_idf = tf_idf_matrix[row, tfidf_feat.index(word)]\n",
    "            # to reduce the computation we are \n",
    "            # dictionary[word] = idf value of word in whole courpus\n",
    "            # sent.count(word) = tf valeus of word in this review\n",
    "            \n",
    "    if weight_sum != 0:\n",
    "        sent_vec /= weight_sum\n",
    "    tfidf_sent_vectors_test.append(sent_vec)\n",
    "    row += 1"
   ]
  },
  {
   "cell_type": "code",
   "execution_count": 65,
   "metadata": {},
   "outputs": [],
   "source": [
    "X_train=np.array(tfidf_sent_vectors)\n",
    "X_test=np.array(tfidf_sent_vectors_test)"
   ]
  },
  {
   "cell_type": "markdown",
   "metadata": {},
   "source": [
    "# alpha value using GridSearch Cross-validation"
   ]
  },
  {
   "cell_type": "code",
   "execution_count": 67,
   "metadata": {},
   "outputs": [
    {
     "name": "stdout",
     "output_type": "stream",
     "text": [
      "Optimal alpha:  3\n"
     ]
    }
   ],
   "source": [
    "bNB=BernoulliNB()\n",
    "alpha_list = list(range(1,50,2))\n",
    "cv_score = []\n",
    "for i in alpha_list:\n",
    "    bNB = BernoulliNB(alpha=i)\n",
    "    scores = cross_val_score(bNB, X_train, Y_train, cv=10, scoring=\"accuracy\")\n",
    "    cv_score.append(scores.mean())\n",
    "\n",
    "MSE = [1-x for x in cv_score]\n",
    "optimal_alpha = alpha_list[MSE.index(min(MSE))]\n",
    "print(\"Optimal alpha: \",optimal_alpha)\n",
    "#l_a={'alpha':[1000,500,100,50,10,5,0.1,0.05,0.001]}\n",
    "#alpha_set=[1e-3, 1e-2,1e-1, 1e-0, 1e2, 1e3, 1e4]\n",
    "#for i in alpha_set:\n",
    "    # instantiate learning model (alpha = 10)\n",
    "#nB = BernoulliNB()\n",
    "#cls=GridSearchCV(nB,l_a,cv=10)\n",
    "    # fitting the model on crossvalidation train\n",
    "#cls.fit(X_train, Y_train)\n",
    "\n",
    "    # predict the response on the crossvalidation train\n",
    "#pred = cls.predict(X_cv)\n",
    "\n",
    "    # evaluate CV accuracy\n",
    "#acc = accuracy_score(Y_cv, pred, normalize=True) * float(100)\n",
    "#print(\"Best HyperParameter: \",cls.best_params_)\n",
    "#print(\"Best Accuracy: %.2f%%\"%(cls.best_score_*100))\n",
    "#test accuracy    \n",
    "#nB = BernoulliNB(alpha=1)\n",
    "#nB.fit(X_train,Y_train)\n",
    "#pred = nB.predict(X_test)\n",
    "#acc = accuracy_score(Y_test, pred, normalize=True) * float(100)\n",
    "#print('\\n****Test accuracy for alpha = 1000 is %d%%' % (acc))"
   ]
  },
  {
   "cell_type": "code",
   "execution_count": 69,
   "metadata": {},
   "outputs": [
    {
     "data": {
      "image/png": "[encoded data removed]",
      "text/plain": [
       "<Figure size 432x288 with 1 Axes>"
      ]
     },
     "metadata": {},
     "output_type": "display_data"
    }
   ],
   "source": [
    "import matplotlib.pyplot as plt\n",
    "plt.plot(alpha_list, MSE)\n",
    "plt.title(\"Alpha vs Misclassification error\")\n",
    "plt.xlabel(\"value of alpha\")\n",
    "plt.ylabel(\"MSE\")\n",
    "plt.show()"
   ]
  },
  {
   "cell_type": "code",
   "execution_count": 68,
   "metadata": {},
   "outputs": [
    {
     "name": "stdout",
     "output_type": "stream",
     "text": [
      "\n",
      " the accuracy score for bag of words model with optimal a=3 is 49.591667%\n",
      "Number of mislabeled points out of a total 28000 points : 6049\n",
      "training error:0.49%\n",
      "####################################################################################################\n",
      "training accuracy:0.51%\n",
      "####################################################################################################\n",
      "test error:0.50%\n",
      "####################################################################################################\n",
      "test accuracy:0.50%\n"
     ]
    }
   ],
   "source": [
    "nB_opt=BernoulliNB(alpha=optimal_alpha)\n",
    "#fit the model\n",
    "nB_opt.fit(X_train,Y_train)\n",
    "#predict the model\n",
    "prediction=nB_opt.predict(X_test)\n",
    "\n",
    "#the accuracy score\n",
    "acc_score=accuracy_score(Y_test,prediction)* 100\n",
    "print('\\n the accuracy score for bag of words model with optimal a=%d is %f%%' %(optimal_alpha,(acc_score)))\n",
    "\n",
    "print(\"Number of mislabeled points out of a total %d points : %d\" % (X_train.shape[0],(Y_test != prediction).sum()))\n",
    "\n",
    "\n",
    "training_accuracy = nB_opt.score(X_train, Y_train)\n",
    "training_error = 1 - training_accuracy\n",
    "test_accuracy = accuracy_score(Y_test, prediction)\n",
    "test_error = 1 - test_accuracy\n",
    "\n",
    "print(\"training error:%.2f%%\" %training_error)\n",
    "print('#'*100)\n",
    "print(\"training accuracy:%.2f%%\" %training_accuracy)\n",
    "print('#'*100)\n",
    "print(\"test error:%.2f%%\" %test_error)\n",
    "print('#'*100)\n",
    "print(\"test accuracy:%.2f%%\" %test_accuracy)\n"
   ]
  },
  {
   "cell_type": "markdown",
   "metadata": {},
   "source": [
    "# Confusion matrix"
   ]
  },
  {
   "cell_type": "code",
   "execution_count": 72,
   "metadata": {},
   "outputs": [
    {
     "name": "stdout",
     "output_type": "stream",
     "text": [
      "----------------------------------------------------------------------------------------------------------------------\n",
      "             precision    recall  f1-score   support\n",
      "\n",
      "   Negative       0.50      0.45      0.47      6067\n",
      "   Positive       0.49      0.55      0.52      5933\n",
      "\n",
      "avg / total       0.50      0.50      0.49     12000\n",
      "\n"
     ]
    },
    {
     "data": {
      "image/png": "[encoded data removed]",
      "text/plain": [
       "<Figure size 432x288 with 2 Axes>"
      ]
     },
     "metadata": {},
     "output_type": "display_data"
    }
   ],
   "source": [
    "conf_matr_df = pd.DataFrame(confusion_matrix(Y_test, prediction), range(2),range(2))\n",
    "sns.set(font_scale=1.4)#for label size\n",
    "sns.heatmap(conf_matr_df, annot=True,annot_kws={\"size\": 16}, fmt='g')\n",
    "\n",
    "print(\"----------------------------------------------------------------------------------------------------------------------\")\n",
    "\n",
    "from sklearn.metrics import classification_report\n",
    "print(classification_report(Y_test,prediction))"
   ]
  },
  {
   "cell_type": "markdown",
   "metadata": {},
   "source": [
    "# Observations & Conclusions\n",
    "\n",
    "1) We get a 83-85% accurate model with BoW and Tf-Idf with GridSearch CV used for feature selection(with precision and recall at 85%/83%). while for AvgWord2Vec and WeightedTfIdf Word2Vec model,the acuracy level is low compared to BoW and Tf-Idf"
   ]
  },
  {
   "cell_type": "code",
   "execution_count": null,
   "metadata": {},
   "outputs": [],
   "source": []
  }
 ],
 "metadata": {
  "kernelspec": {
   "display_name": "Python 3",
   "language": "python",
   "name": "python3"
  },
  "language_info": {
   "codemirror_mode": {
    "name": "ipython",
    "version": 3
   },
   "file_extension": ".py",
   "mimetype": "text/x-python",
   "name": "python",
   "nbconvert_exporter": "python",
   "pygments_lexer": "ipython3",
   "version": "3.6.5"
  }
 },
 "nbformat": 4,
 "nbformat_minor": 2
}
