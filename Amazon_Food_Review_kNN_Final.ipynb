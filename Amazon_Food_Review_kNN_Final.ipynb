{
 "cells": [
  {
   "cell_type": "markdown",
   "metadata": {
    "colab_type": "text",
    "id": "2DoiGzlZ7S36"
   },
   "source": [
    "# K-NN on Different models-(BagOfWords,TfIDF,AvgWord2Vec,TfIDF Weighted Word2Vec)"
   ]
  },
  {
   "cell_type": "code",
   "execution_count": 1,
   "metadata": {
    "colab": {
     "base_uri": "https://localhost:8080/",
     "height": 74
    },
    "colab_type": "code",
    "id": "b5GZhw2K7S36",
    "outputId": "07cbe6e5-5f95-4502-f198-4e16890daf2b"
   },
   "outputs": [
    {
     "name": "stderr",
     "output_type": "stream",
     "text": [
      "D:\\Anaconda\\lib\\site-packages\\sklearn\\cross_validation.py:41: DeprecationWarning: This module was deprecated in version 0.18 in favor of the model_selection module into which all the refactored classes and functions are moved. Also note that the interface of the new CV iterators are different from that of this module. This module will be removed in 0.20.\n",
      "  \"This module will be removed in 0.20.\", DeprecationWarning)\n"
     ]
    }
   ],
   "source": [
    "%matplotlib inline\n",
    "\n",
    "#import all the modules\n",
    "import sqlite3\n",
    "import numpy as np\n",
    "import pandas as pd\n",
    "import nltk\n",
    "import seaborn as sns\n",
    "\n",
    "from sklearn.feature_extraction.text import TfidfTransformer\n",
    "from sklearn.feature_extraction.text import TfidfVectorizer\n",
    "from sklearn.feature_extraction.text import CountVectorizer\n",
    "from sklearn.metrics import confusion_matrix,accuracy_score\n",
    "from sklearn import metrics\n",
    "from sklearn.manifold import TSNE\n",
    "from nltk.corpus import stopwords\n",
    "from nltk.stem.porter import PorterStemmer\n",
    "from nltk.stem import SnowballStemmer\n",
    "from nltk.stem.wordnet import WordNetLemmatizer\n",
    "from sklearn.neighbors import KNeighborsClassifier\n",
    "from sklearn.model_selection import train_test_split,GridSearchCV\n",
    "from sklearn.cross_validation import cross_val_score\n",
    "from collections import Counter\n",
    "from sklearn import cross_validation\n",
    "from sklearn.preprocessing import StandardScaler"
   ]
  },
  {
   "cell_type": "markdown",
   "metadata": {
    "colab_type": "text",
    "id": "oO2IxWKIHvTH"
   },
   "source": [
    "**Preprocessing**"
   ]
  },
  {
   "cell_type": "code",
   "execution_count": 2,
   "metadata": {
    "colab": {
     "base_uri": "https://localhost:8080/",
     "height": 72
    },
    "colab_type": "code",
    "id": "MH3IBgJ1IVPW",
    "outputId": "ed6ed751-bf8c-427b-dc0f-e8438629fc0b"
   },
   "outputs": [
    {
     "name": "stdout",
     "output_type": "stream",
     "text": [
      "[nltk_data] Downloading package stopwords to\n",
      "[nltk_data]     C:\\Users\\Tejas\\AppData\\Roaming\\nltk_data...\n",
      "[nltk_data]   Package stopwords is already up-to-date!\n"
     ]
    },
    {
     "data": {
      "text/plain": [
       "True"
      ]
     },
     "execution_count": 2,
     "metadata": {},
     "output_type": "execute_result"
    }
   ],
   "source": [
    "import nltk\n",
    "nltk.download('stopwords')"
   ]
  },
  {
   "cell_type": "code",
   "execution_count": 3,
   "metadata": {
    "colab": {
     "base_uri": "https://localhost:8080/",
     "height": 55
    },
    "colab_type": "code",
    "id": "wEm5AE1CHufo",
    "outputId": "855e0e41-2427-48da-e114-3372cdbefc32"
   },
   "outputs": [
    {
     "name": "stdout",
     "output_type": "stream",
     "text": [
      "{'him', 'be', \"haven't\", 'against', \"wouldn't\", \"hadn't\", 'shan', 'some', 'aren', \"it's\", 'but', 'up', 'having', 'its', 'did', 'yourselves', \"needn't\", 'on', 'them', \"won't\", 'to', 'by', 'you', 'because', \"should've\", \"shan't\", 'there', 'off', 'so', 'we', 'and', 'has', 'below', 'her', 'are', 'does', 'other', 'm', \"mightn't\", 'while', 'both', 'these', 'was', 'once', 'they', \"didn't\", \"you're\", 'each', 'hasn', 'above', 'am', 'will', 'again', 'wasn', 'most', 'as', \"that'll\", 'needn', 'were', 'd', \"isn't\", \"wasn't\", 'don', 'few', 'mustn', 'she', \"you've\", 'such', 'can', 'been', 'hadn', 'an', 'in', 'further', 'during', 'weren', 'his', 'being', 'if', \"weren't\", 'that', \"hasn't\", 'ain', 'themselves', 'ma', 'yours', 't', 'should', 'too', 'about', 'of', 'their', 'the', 'all', \"you'd\", 's', 'when', 'doing', 'at', 'why', 'those', 'do', 'a', 'where', 'now', \"couldn't\", \"don't\", 've', 'mightn', 'me', 'doesn', 'shouldn', 'here', 'had', 'who', 'out', \"doesn't\", 'myself', 'y', 'won', 'itself', 'have', 'not', 're', 'only', 'for', 'herself', 'over', 'through', 'what', 'yourself', 'he', 'whom', 'until', 'i', 'theirs', 'which', 'very', 'ours', 'into', 'from', 'down', 'between', \"shouldn't\", 'under', 'how', 'hers', 'is', 'our', 'or', 'no', \"she's\", \"you'll\", 'nor', 'with', 'o', \"mustn't\", 'then', 'wouldn', 'just', \"aren't\", 'didn', 'this', 'couldn', 'isn', 'my', 'it', 'more', 'll', 'ourselves', 'himself', 'your', 'than', 'after', 'same', 'own', 'any', 'before', 'haven'}\n"
     ]
    }
   ],
   "source": [
    "stop = set(stopwords.words('english')) #set of stopwords\n",
    "sno = nltk.stem.SnowballStemmer('english') #initialising the snowball stemmer\n",
    "\n",
    "def cleanhtml(sentence): #function to clean the word of any html-tags\n",
    "    cleanr = re.compile('<.*?>')\n",
    "    cleantext = re.sub(cleanr, ' ', sentence)\n",
    "    return cleantext\n",
    "def cleanpunc(sentence): #function to clean the word of any punctuation or special characters\n",
    "    cleaned = re.sub(r'[?|!|\\'|\"|#]',r'',sentence)\n",
    "    cleaned = re.sub(r'[.|,|)|(|\\|/]',r' ',cleaned)\n",
    "    return  cleaned\n",
    "print(stop)"
   ]
  },
  {
   "cell_type": "code",
   "execution_count": 2,
   "metadata": {
    "colab": {},
    "colab_type": "code",
    "id": "4zAbzKec7S4C"
   },
   "outputs": [],
   "source": [
    "conn=sqlite3.connect('D:/Applied AI Course/final2.sqlite')\n",
    "conn.cursor()\n",
    "conn.commit()\n",
    "conn.text_factory=str\n",
    "#final_data.to_sql('Reviews',conn,schema=None,if_exists='replace')"
   ]
  },
  {
   "cell_type": "code",
   "execution_count": 3,
   "metadata": {
    "colab": {},
    "colab_type": "code",
    "id": "OsAbN9I27S4F"
   },
   "outputs": [],
   "source": [
    "fd=pd.read_sql_query(\"\"\"SELECT * FROM REVIEWS\"\"\",conn)"
   ]
  },
  {
   "cell_type": "code",
   "execution_count": 4,
   "metadata": {
    "colab": {
     "base_uri": "https://localhost:8080/",
     "height": 727
    },
    "colab_type": "code",
    "id": "4xBiMupc7S4H",
    "outputId": "a25613da-e9ae-4bdc-b6e4-ed0eadf6dcff"
   },
   "outputs": [
    {
     "data": {
      "text/html": [
       "<div>\n",
       "<style scoped>\n",
       "    .dataframe tbody tr th:only-of-type {\n",
       "        vertical-align: middle;\n",
       "    }\n",
       "\n",
       "    .dataframe tbody tr th {\n",
       "        vertical-align: top;\n",
       "    }\n",
       "\n",
       "    .dataframe thead th {\n",
       "        text-align: right;\n",
       "    }\n",
       "</style>\n",
       "<table border=\"1\" class=\"dataframe\">\n",
       "  <thead>\n",
       "    <tr style=\"text-align: right;\">\n",
       "      <th></th>\n",
       "      <th>index</th>\n",
       "      <th>Id</th>\n",
       "      <th>ProductId</th>\n",
       "      <th>UserId</th>\n",
       "      <th>ProfileName</th>\n",
       "      <th>HelpfulnessNumerator</th>\n",
       "      <th>HelpfulnessDenominator</th>\n",
       "      <th>Time</th>\n",
       "      <th>Summary</th>\n",
       "      <th>Text</th>\n",
       "      <th>CleanedText</th>\n",
       "    </tr>\n",
       "  </thead>\n",
       "  <tbody>\n",
       "    <tr>\n",
       "      <th>0</th>\n",
       "      <td>138706</td>\n",
       "      <td>150524</td>\n",
       "      <td>0006641040</td>\n",
       "      <td>ACITT7DI6IDDL</td>\n",
       "      <td>shari zychinski</td>\n",
       "      <td>0</td>\n",
       "      <td>0</td>\n",
       "      <td>939340800</td>\n",
       "      <td>EVERY book is educational</td>\n",
       "      <td>this witty little book makes my son laugh at l...</td>\n",
       "      <td>witti littl book make son laugh loud recit car...</td>\n",
       "    </tr>\n",
       "    <tr>\n",
       "      <th>1</th>\n",
       "      <td>138688</td>\n",
       "      <td>150506</td>\n",
       "      <td>0006641040</td>\n",
       "      <td>A2IW4PEEKO2R0U</td>\n",
       "      <td>Tracy</td>\n",
       "      <td>1</td>\n",
       "      <td>1</td>\n",
       "      <td>1194739200</td>\n",
       "      <td>Love the book, miss the hard cover version</td>\n",
       "      <td>I grew up reading these Sendak books, and watc...</td>\n",
       "      <td>grew read sendak book watch realli rosi movi i...</td>\n",
       "    </tr>\n",
       "    <tr>\n",
       "      <th>2</th>\n",
       "      <td>138689</td>\n",
       "      <td>150507</td>\n",
       "      <td>0006641040</td>\n",
       "      <td>A1S4A3IQ2MU7V4</td>\n",
       "      <td>sally sue \"sally sue\"</td>\n",
       "      <td>1</td>\n",
       "      <td>1</td>\n",
       "      <td>1191456000</td>\n",
       "      <td>chicken soup with rice months</td>\n",
       "      <td>This is a fun way for children to learn their ...</td>\n",
       "      <td>fun way children learn month year learn poem t...</td>\n",
       "    </tr>\n",
       "    <tr>\n",
       "      <th>3</th>\n",
       "      <td>138690</td>\n",
       "      <td>150508</td>\n",
       "      <td>0006641040</td>\n",
       "      <td>AZGXZ2UUK6X</td>\n",
       "      <td>Catherine Hallberg \"(Kate)\"</td>\n",
       "      <td>1</td>\n",
       "      <td>1</td>\n",
       "      <td>1076025600</td>\n",
       "      <td>a good swingy rhythm for reading aloud</td>\n",
       "      <td>This is a great little book to read aloud- it ...</td>\n",
       "      <td>great littl book read nice rhythm well good re...</td>\n",
       "    </tr>\n",
       "    <tr>\n",
       "      <th>4</th>\n",
       "      <td>138691</td>\n",
       "      <td>150509</td>\n",
       "      <td>0006641040</td>\n",
       "      <td>A3CMRKGE0P909G</td>\n",
       "      <td>Teresa</td>\n",
       "      <td>3</td>\n",
       "      <td>4</td>\n",
       "      <td>1018396800</td>\n",
       "      <td>A great way to learn the months</td>\n",
       "      <td>This is a book of poetry about the months of t...</td>\n",
       "      <td>book poetri month year goe month cute littl po...</td>\n",
       "    </tr>\n",
       "  </tbody>\n",
       "</table>\n",
       "</div>"
      ],
      "text/plain": [
       "    index      Id   ProductId          UserId                  ProfileName  \\\n",
       "0  138706  150524  0006641040   ACITT7DI6IDDL              shari zychinski   \n",
       "1  138688  150506  0006641040  A2IW4PEEKO2R0U                        Tracy   \n",
       "2  138689  150507  0006641040  A1S4A3IQ2MU7V4        sally sue \"sally sue\"   \n",
       "3  138690  150508  0006641040     AZGXZ2UUK6X  Catherine Hallberg \"(Kate)\"   \n",
       "4  138691  150509  0006641040  A3CMRKGE0P909G                       Teresa   \n",
       "\n",
       "   HelpfulnessNumerator  HelpfulnessDenominator        Time  \\\n",
       "0                     0                       0   939340800   \n",
       "1                     1                       1  1194739200   \n",
       "2                     1                       1  1191456000   \n",
       "3                     1                       1  1076025600   \n",
       "4                     3                       4  1018396800   \n",
       "\n",
       "                                      Summary  \\\n",
       "0                   EVERY book is educational   \n",
       "1  Love the book, miss the hard cover version   \n",
       "2               chicken soup with rice months   \n",
       "3      a good swingy rhythm for reading aloud   \n",
       "4             A great way to learn the months   \n",
       "\n",
       "                                                Text  \\\n",
       "0  this witty little book makes my son laugh at l...   \n",
       "1  I grew up reading these Sendak books, and watc...   \n",
       "2  This is a fun way for children to learn their ...   \n",
       "3  This is a great little book to read aloud- it ...   \n",
       "4  This is a book of poetry about the months of t...   \n",
       "\n",
       "                                         CleanedText  \n",
       "0  witti littl book make son laugh loud recit car...  \n",
       "1  grew read sendak book watch realli rosi movi i...  \n",
       "2  fun way children learn month year learn poem t...  \n",
       "3  great littl book read nice rhythm well good re...  \n",
       "4  book poetri month year goe month cute littl po...  "
      ]
     },
     "execution_count": 4,
     "metadata": {},
     "output_type": "execute_result"
    }
   ],
   "source": [
    "fd.head(5)"
   ]
  },
  {
   "cell_type": "code",
   "execution_count": 5,
   "metadata": {
    "colab": {},
    "colab_type": "code",
    "id": "9v24Kfo97S4L"
   },
   "outputs": [],
   "source": [
    "conn2=sqlite3.connect('D:/Applied AI Course/final.sqlite')"
   ]
  },
  {
   "cell_type": "code",
   "execution_count": 6,
   "metadata": {
    "colab": {},
    "colab_type": "code",
    "id": "b4pflpvV7S4O"
   },
   "outputs": [],
   "source": [
    "label_df=pd.read_sql_query(\"\"\"SELECT * FROM REVIEWS\"\"\",conn2)"
   ]
  },
  {
   "cell_type": "code",
   "execution_count": 7,
   "metadata": {
    "colab": {
     "base_uri": "https://localhost:8080/",
     "height": 629
    },
    "colab_type": "code",
    "id": "hp_Yg4lW7S4R",
    "outputId": "aa247a09-1aef-43ff-c421-2154e2ad8ad8"
   },
   "outputs": [
    {
     "data": {
      "text/html": [
       "<div>\n",
       "<style scoped>\n",
       "    .dataframe tbody tr th:only-of-type {\n",
       "        vertical-align: middle;\n",
       "    }\n",
       "\n",
       "    .dataframe tbody tr th {\n",
       "        vertical-align: top;\n",
       "    }\n",
       "\n",
       "    .dataframe thead th {\n",
       "        text-align: right;\n",
       "    }\n",
       "</style>\n",
       "<table border=\"1\" class=\"dataframe\">\n",
       "  <thead>\n",
       "    <tr style=\"text-align: right;\">\n",
       "      <th></th>\n",
       "      <th>index</th>\n",
       "      <th>Id</th>\n",
       "      <th>ProductId</th>\n",
       "      <th>UserId</th>\n",
       "      <th>ProfileName</th>\n",
       "      <th>HelpfulnessNumerator</th>\n",
       "      <th>HelpfulnessDenominator</th>\n",
       "      <th>Score</th>\n",
       "      <th>Time</th>\n",
       "      <th>Summary</th>\n",
       "      <th>Text</th>\n",
       "      <th>CleanedText</th>\n",
       "    </tr>\n",
       "  </thead>\n",
       "  <tbody>\n",
       "    <tr>\n",
       "      <th>0</th>\n",
       "      <td>138706</td>\n",
       "      <td>150524</td>\n",
       "      <td>0006641040</td>\n",
       "      <td>ACITT7DI6IDDL</td>\n",
       "      <td>shari zychinski</td>\n",
       "      <td>0</td>\n",
       "      <td>0</td>\n",
       "      <td>Positive</td>\n",
       "      <td>939340800</td>\n",
       "      <td>EVERY book is educational</td>\n",
       "      <td>this witty little book makes my son laugh at l...</td>\n",
       "      <td>witti littl book make son laugh loud recit car...</td>\n",
       "    </tr>\n",
       "    <tr>\n",
       "      <th>1</th>\n",
       "      <td>138688</td>\n",
       "      <td>150506</td>\n",
       "      <td>0006641040</td>\n",
       "      <td>A2IW4PEEKO2R0U</td>\n",
       "      <td>Tracy</td>\n",
       "      <td>1</td>\n",
       "      <td>1</td>\n",
       "      <td>Positive</td>\n",
       "      <td>1194739200</td>\n",
       "      <td>Love the book, miss the hard cover version</td>\n",
       "      <td>I grew up reading these Sendak books, and watc...</td>\n",
       "      <td>grew read sendak book watch realli rosi movi i...</td>\n",
       "    </tr>\n",
       "    <tr>\n",
       "      <th>2</th>\n",
       "      <td>138689</td>\n",
       "      <td>150507</td>\n",
       "      <td>0006641040</td>\n",
       "      <td>A1S4A3IQ2MU7V4</td>\n",
       "      <td>sally sue \"sally sue\"</td>\n",
       "      <td>1</td>\n",
       "      <td>1</td>\n",
       "      <td>Positive</td>\n",
       "      <td>1191456000</td>\n",
       "      <td>chicken soup with rice months</td>\n",
       "      <td>This is a fun way for children to learn their ...</td>\n",
       "      <td>fun way children learn month year learn poem t...</td>\n",
       "    </tr>\n",
       "    <tr>\n",
       "      <th>3</th>\n",
       "      <td>138690</td>\n",
       "      <td>150508</td>\n",
       "      <td>0006641040</td>\n",
       "      <td>AZGXZ2UUK6X</td>\n",
       "      <td>Catherine Hallberg \"(Kate)\"</td>\n",
       "      <td>1</td>\n",
       "      <td>1</td>\n",
       "      <td>Positive</td>\n",
       "      <td>1076025600</td>\n",
       "      <td>a good swingy rhythm for reading aloud</td>\n",
       "      <td>This is a great little book to read aloud- it ...</td>\n",
       "      <td>great littl book read nice rhythm well good re...</td>\n",
       "    </tr>\n",
       "  </tbody>\n",
       "</table>\n",
       "</div>"
      ],
      "text/plain": [
       "    index      Id   ProductId          UserId                  ProfileName  \\\n",
       "0  138706  150524  0006641040   ACITT7DI6IDDL              shari zychinski   \n",
       "1  138688  150506  0006641040  A2IW4PEEKO2R0U                        Tracy   \n",
       "2  138689  150507  0006641040  A1S4A3IQ2MU7V4        sally sue \"sally sue\"   \n",
       "3  138690  150508  0006641040     AZGXZ2UUK6X  Catherine Hallberg \"(Kate)\"   \n",
       "\n",
       "   HelpfulnessNumerator  HelpfulnessDenominator     Score        Time  \\\n",
       "0                     0                       0  Positive   939340800   \n",
       "1                     1                       1  Positive  1194739200   \n",
       "2                     1                       1  Positive  1191456000   \n",
       "3                     1                       1  Positive  1076025600   \n",
       "\n",
       "                                      Summary  \\\n",
       "0                   EVERY book is educational   \n",
       "1  Love the book, miss the hard cover version   \n",
       "2               chicken soup with rice months   \n",
       "3      a good swingy rhythm for reading aloud   \n",
       "\n",
       "                                                Text  \\\n",
       "0  this witty little book makes my son laugh at l...   \n",
       "1  I grew up reading these Sendak books, and watc...   \n",
       "2  This is a fun way for children to learn their ...   \n",
       "3  This is a great little book to read aloud- it ...   \n",
       "\n",
       "                                         CleanedText  \n",
       "0  witti littl book make son laugh loud recit car...  \n",
       "1  grew read sendak book watch realli rosi movi i...  \n",
       "2  fun way children learn month year learn poem t...  \n",
       "3  great littl book read nice rhythm well good re...  "
      ]
     },
     "execution_count": 7,
     "metadata": {},
     "output_type": "execute_result"
    }
   ],
   "source": [
    "label_df.head(4)"
   ]
  },
  {
   "cell_type": "code",
   "execution_count": 8,
   "metadata": {
    "colab": {},
    "colab_type": "code",
    "id": "juFX03cA7S4U"
   },
   "outputs": [],
   "source": [
    "label_df=label_df.sort_values('Time',axis=0,inplace=False,kind='quicksort')"
   ]
  },
  {
   "cell_type": "code",
   "execution_count": 9,
   "metadata": {
    "colab": {
     "base_uri": "https://localhost:8080/",
     "height": 35
    },
    "colab_type": "code",
    "id": "ui9knAyl7S4X",
    "outputId": "61d9dee1-4b34-4d93-f478-d63ef9551425"
   },
   "outputs": [
    {
     "data": {
      "text/plain": [
       "(364173, 12)"
      ]
     },
     "execution_count": 9,
     "metadata": {},
     "output_type": "execute_result"
    }
   ],
   "source": [
    "label_df.shape"
   ]
  },
  {
   "cell_type": "code",
   "execution_count": 10,
   "metadata": {
    "colab": {},
    "colab_type": "code",
    "id": "m4lzBMyk7S4c"
   },
   "outputs": [],
   "source": [
    "fd=fd.sort_values('Time',axis=0,inplace=False,kind='quicksort')"
   ]
  },
  {
   "cell_type": "code",
   "execution_count": 11,
   "metadata": {
    "colab": {
     "base_uri": "https://localhost:8080/",
     "height": 372
    },
    "colab_type": "code",
    "id": "oWIf8UdM7S4e",
    "outputId": "c8bd06b2-d104-486a-ca62-c4153481dc81"
   },
   "outputs": [
    {
     "data": {
      "text/html": [
       "<div>\n",
       "<style scoped>\n",
       "    .dataframe tbody tr th:only-of-type {\n",
       "        vertical-align: middle;\n",
       "    }\n",
       "\n",
       "    .dataframe tbody tr th {\n",
       "        vertical-align: top;\n",
       "    }\n",
       "\n",
       "    .dataframe thead th {\n",
       "        text-align: right;\n",
       "    }\n",
       "</style>\n",
       "<table border=\"1\" class=\"dataframe\">\n",
       "  <thead>\n",
       "    <tr style=\"text-align: right;\">\n",
       "      <th></th>\n",
       "      <th>index</th>\n",
       "      <th>Id</th>\n",
       "      <th>ProductId</th>\n",
       "      <th>UserId</th>\n",
       "      <th>ProfileName</th>\n",
       "      <th>HelpfulnessNumerator</th>\n",
       "      <th>HelpfulnessDenominator</th>\n",
       "      <th>Time</th>\n",
       "      <th>Summary</th>\n",
       "      <th>Text</th>\n",
       "      <th>CleanedText</th>\n",
       "    </tr>\n",
       "  </thead>\n",
       "  <tbody>\n",
       "    <tr>\n",
       "      <th>0</th>\n",
       "      <td>138706</td>\n",
       "      <td>150524</td>\n",
       "      <td>0006641040</td>\n",
       "      <td>ACITT7DI6IDDL</td>\n",
       "      <td>shari zychinski</td>\n",
       "      <td>0</td>\n",
       "      <td>0</td>\n",
       "      <td>939340800</td>\n",
       "      <td>EVERY book is educational</td>\n",
       "      <td>this witty little book makes my son laugh at l...</td>\n",
       "      <td>witti littl book make son laugh loud recit car...</td>\n",
       "    </tr>\n",
       "    <tr>\n",
       "      <th>30</th>\n",
       "      <td>138683</td>\n",
       "      <td>150501</td>\n",
       "      <td>0006641040</td>\n",
       "      <td>AJ46FKXOVC7NR</td>\n",
       "      <td>Nicholas A Mesiano</td>\n",
       "      <td>2</td>\n",
       "      <td>2</td>\n",
       "      <td>940809600</td>\n",
       "      <td>This whole series is great way to spend time w...</td>\n",
       "      <td>I can remember seeing the show when it aired o...</td>\n",
       "      <td>rememb see show air televis year ago child sis...</td>\n",
       "    </tr>\n",
       "    <tr>\n",
       "      <th>424</th>\n",
       "      <td>417839</td>\n",
       "      <td>451856</td>\n",
       "      <td>B00004CXX9</td>\n",
       "      <td>AIUWLEQ1ADEG5</td>\n",
       "      <td>Elizabeth Medina</td>\n",
       "      <td>0</td>\n",
       "      <td>0</td>\n",
       "      <td>944092800</td>\n",
       "      <td>Entertainingl Funny!</td>\n",
       "      <td>Beetlejuice is a well written movie ..... ever...</td>\n",
       "      <td>beetlejuic well written movi everyth excel act...</td>\n",
       "    </tr>\n",
       "  </tbody>\n",
       "</table>\n",
       "</div>"
      ],
      "text/plain": [
       "      index      Id   ProductId         UserId         ProfileName  \\\n",
       "0    138706  150524  0006641040  ACITT7DI6IDDL     shari zychinski   \n",
       "30   138683  150501  0006641040  AJ46FKXOVC7NR  Nicholas A Mesiano   \n",
       "424  417839  451856  B00004CXX9  AIUWLEQ1ADEG5    Elizabeth Medina   \n",
       "\n",
       "     HelpfulnessNumerator  HelpfulnessDenominator       Time  \\\n",
       "0                       0                       0  939340800   \n",
       "30                      2                       2  940809600   \n",
       "424                     0                       0  944092800   \n",
       "\n",
       "                                               Summary  \\\n",
       "0                            EVERY book is educational   \n",
       "30   This whole series is great way to spend time w...   \n",
       "424                               Entertainingl Funny!   \n",
       "\n",
       "                                                  Text  \\\n",
       "0    this witty little book makes my son laugh at l...   \n",
       "30   I can remember seeing the show when it aired o...   \n",
       "424  Beetlejuice is a well written movie ..... ever...   \n",
       "\n",
       "                                           CleanedText  \n",
       "0    witti littl book make son laugh loud recit car...  \n",
       "30   rememb see show air televis year ago child sis...  \n",
       "424  beetlejuic well written movi everyth excel act...  "
      ]
     },
     "execution_count": 11,
     "metadata": {},
     "output_type": "execute_result"
    }
   ],
   "source": [
    "fd.head(3)"
   ]
  },
  {
   "cell_type": "markdown",
   "metadata": {
    "colab_type": "text",
    "id": "9QNumw8K7S4h"
   },
   "source": [
    "# Since we have not much of RAM we are working on select set of samples"
   ]
  },
  {
   "cell_type": "code",
   "execution_count": 12,
   "metadata": {
    "colab": {
     "base_uri": "https://localhost:8080/",
     "height": 35
    },
    "colab_type": "code",
    "id": "53JHN7ib6nC5",
    "outputId": "47f34616-fc71-4bf2-eb47-02b29e83070e"
   },
   "outputs": [
    {
     "data": {
      "text/plain": [
       "(40000, 12)"
      ]
     },
     "execution_count": 12,
     "metadata": {},
     "output_type": "execute_result"
    }
   ],
   "source": [
    "d_pos=label_df[label_df[\"Score\"] == 'Positive'].sample(n=20000)\n",
    "d_neg=label_df[label_df[\"Score\"] == 'Negative'].sample(n=20000)\n",
    "finald=pd.concat([d_pos,d_neg])\n",
    "finald.shape"
   ]
  },
  {
   "cell_type": "code",
   "execution_count": 13,
   "metadata": {
    "colab": {
     "base_uri": "https://localhost:8080/",
     "height": 355
    },
    "colab_type": "code",
    "id": "qYR2dXOCBdpb",
    "outputId": "24d80488-3a80-468c-8bf3-110d4e5fcbc4"
   },
   "outputs": [
    {
     "data": {
      "text/html": [
       "<div>\n",
       "<style scoped>\n",
       "    .dataframe tbody tr th:only-of-type {\n",
       "        vertical-align: middle;\n",
       "    }\n",
       "\n",
       "    .dataframe tbody tr th {\n",
       "        vertical-align: top;\n",
       "    }\n",
       "\n",
       "    .dataframe thead th {\n",
       "        text-align: right;\n",
       "    }\n",
       "</style>\n",
       "<table border=\"1\" class=\"dataframe\">\n",
       "  <thead>\n",
       "    <tr style=\"text-align: right;\">\n",
       "      <th></th>\n",
       "      <th>index</th>\n",
       "      <th>Id</th>\n",
       "      <th>ProductId</th>\n",
       "      <th>UserId</th>\n",
       "      <th>ProfileName</th>\n",
       "      <th>HelpfulnessNumerator</th>\n",
       "      <th>HelpfulnessDenominator</th>\n",
       "      <th>Score</th>\n",
       "      <th>Time</th>\n",
       "      <th>Summary</th>\n",
       "      <th>Text</th>\n",
       "      <th>CleanedText</th>\n",
       "    </tr>\n",
       "  </thead>\n",
       "  <tbody>\n",
       "    <tr>\n",
       "      <th>837</th>\n",
       "      <td>138001</td>\n",
       "      <td>149770</td>\n",
       "      <td>B00004S1C5</td>\n",
       "      <td>A1KXONFPU2XQ5K</td>\n",
       "      <td>Stephanie Manley</td>\n",
       "      <td>8</td>\n",
       "      <td>8</td>\n",
       "      <td>Positive</td>\n",
       "      <td>965779200</td>\n",
       "      <td>Very easy to use</td>\n",
       "      <td>This are so much easier to use than the Wilson...</td>\n",
       "      <td>much easier use wilson past color color vibran...</td>\n",
       "    </tr>\n",
       "    <tr>\n",
       "      <th>249</th>\n",
       "      <td>346115</td>\n",
       "      <td>374421</td>\n",
       "      <td>B00004CI84</td>\n",
       "      <td>A1FJOY14X3MUHE</td>\n",
       "      <td>Justin Howard</td>\n",
       "      <td>2</td>\n",
       "      <td>2</td>\n",
       "      <td>Positive</td>\n",
       "      <td>966297600</td>\n",
       "      <td>A fresh, original film from master storyteller...</td>\n",
       "      <td>This is such a great film, I don't even know h...</td>\n",
       "      <td>great film dont even know sum first complet or...</td>\n",
       "    </tr>\n",
       "    <tr>\n",
       "      <th>864</th>\n",
       "      <td>138014</td>\n",
       "      <td>149785</td>\n",
       "      <td>B00004S1C6</td>\n",
       "      <td>A1KZ8KEBD4FONY</td>\n",
       "      <td>W. Zientek-Sico</td>\n",
       "      <td>60</td>\n",
       "      <td>61</td>\n",
       "      <td>Positive</td>\n",
       "      <td>1035504000</td>\n",
       "      <td>Wonderful product gives professional results</td>\n",
       "      <td>The spectra paste food colors are simply fanta...</td>\n",
       "      <td>spectra past food color simpli fantast provid ...</td>\n",
       "    </tr>\n",
       "  </tbody>\n",
       "</table>\n",
       "</div>"
      ],
      "text/plain": [
       "      index      Id   ProductId          UserId       ProfileName  \\\n",
       "837  138001  149770  B00004S1C5  A1KXONFPU2XQ5K  Stephanie Manley   \n",
       "249  346115  374421  B00004CI84  A1FJOY14X3MUHE     Justin Howard   \n",
       "864  138014  149785  B00004S1C6  A1KZ8KEBD4FONY   W. Zientek-Sico   \n",
       "\n",
       "     HelpfulnessNumerator  HelpfulnessDenominator     Score        Time  \\\n",
       "837                     8                       8  Positive   965779200   \n",
       "249                     2                       2  Positive   966297600   \n",
       "864                    60                      61  Positive  1035504000   \n",
       "\n",
       "                                               Summary  \\\n",
       "837                                   Very easy to use   \n",
       "249  A fresh, original film from master storyteller...   \n",
       "864       Wonderful product gives professional results   \n",
       "\n",
       "                                                  Text  \\\n",
       "837  This are so much easier to use than the Wilson...   \n",
       "249  This is such a great film, I don't even know h...   \n",
       "864  The spectra paste food colors are simply fanta...   \n",
       "\n",
       "                                           CleanedText  \n",
       "837  much easier use wilson past color color vibran...  \n",
       "249  great film dont even know sum first complet or...  \n",
       "864  spectra past food color simpli fantast provid ...  "
      ]
     },
     "execution_count": 13,
     "metadata": {},
     "output_type": "execute_result"
    }
   ],
   "source": [
    "finald.head(2)\n",
    "final_d=finald.sort_values(by='Time')\n",
    "final_d.head(3)"
   ]
  },
  {
   "cell_type": "markdown",
   "metadata": {
    "colab_type": "text",
    "id": "lGgrwIFo7S4s"
   },
   "source": [
    "# Bag Of Words KNN"
   ]
  },
  {
   "cell_type": "code",
   "execution_count": 14,
   "metadata": {
    "colab": {
     "base_uri": "https://localhost:8080/",
     "height": 35
    },
    "colab_type": "code",
    "id": "Vwjloe9p7S4m",
    "outputId": "07acf7a9-4e5b-42c1-b672-92e5dc9bd0d2"
   },
   "outputs": [
    {
     "data": {
      "text/plain": [
       "(40000,)"
      ]
     },
     "execution_count": 14,
     "metadata": {},
     "output_type": "execute_result"
    }
   ],
   "source": [
    "X=final_d[\"CleanedText\"]\n",
    "X.shape"
   ]
  },
  {
   "cell_type": "code",
   "execution_count": 15,
   "metadata": {
    "colab": {
     "base_uri": "https://localhost:8080/",
     "height": 35
    },
    "colab_type": "code",
    "id": "ZxlSiPtrChCD",
    "outputId": "9238abf5-5a57-4805-8073-c40003f8db9b"
   },
   "outputs": [
    {
     "data": {
      "text/plain": [
       "(40000,)"
      ]
     },
     "execution_count": 15,
     "metadata": {},
     "output_type": "execute_result"
    }
   ],
   "source": [
    "y=final_d[\"Score\"]\n",
    "y.shape"
   ]
  },
  {
   "cell_type": "markdown",
   "metadata": {
    "colab_type": "text",
    "id": "ZEkQhjkNpf4N"
   },
   "source": [
    "#Train and Test Split for the preprocessed text"
   ]
  },
  {
   "cell_type": "code",
   "execution_count": 18,
   "metadata": {
    "colab": {},
    "colab_type": "code",
    "id": "_rIpgE1V7S4z"
   },
   "outputs": [],
   "source": [
    "#split the data into train and test fo bag of words\n",
    "\n",
    "X_train,X_test,Y_train,Y_test=cross_validation.train_test_split(X,y,test_size=0.3,random_state=None)\n",
    "#split train into cross val train and cross val test\n",
    "X_t,X_cv,Y_t,Y_cv=cross_validation.train_test_split(X_train,Y_train,test_size=0.3)"
   ]
  },
  {
   "cell_type": "code",
   "execution_count": 139,
   "metadata": {
    "colab": {
     "base_uri": "https://localhost:8080/",
     "height": 35
    },
    "colab_type": "code",
    "id": "3Dy6Cyds5pEh",
    "outputId": "7726671c-f766-40e0-845b-2cd350285fd6"
   },
   "outputs": [
    {
     "name": "stdout",
     "output_type": "stream",
     "text": [
      "(28000,) (12000,) (28000,) (12000,)\n"
     ]
    }
   ],
   "source": [
    "print(X_train.shape,X_test.shape,Y_train.shape,Y_test.shape)"
   ]
  },
  {
   "cell_type": "markdown",
   "metadata": {
    "colab_type": "text",
    "id": "nuu3LXzfr2Ev"
   },
   "source": [
    "**Bag of Words**"
   ]
  },
  {
   "cell_type": "code",
   "execution_count": 19,
   "metadata": {
    "colab": {
     "base_uri": "https://localhost:8080/",
     "height": 92
    },
    "colab_type": "code",
    "id": "zrmQ-Uho7S4t",
    "outputId": "529086fd-34ed-4d44-c20c-5bed79a9fc90"
   },
   "outputs": [
    {
     "name": "stdout",
     "output_type": "stream",
     "text": [
      "the type of count vectorizer is: <class 'scipy.sparse.csr.csr_matrix'>\n"
     ]
    }
   ],
   "source": [
    "#Bag of Words\n",
    "BoW=CountVectorizer()\n",
    "X_train=BoW.fit_transform(X_train)\n",
    "#X_train=StandardScaler(with_mean=False).fit_transform(X_train)\n",
    "x_test=BoW.transform(X_test)\n",
    "#X_test=StandardScaler(with_mean=False).fit_transform(x_test)\n",
    "print(\"the type of count vectorizer is:\",type(X_train))\n",
    "from sklearn import preprocessing\n",
    "X_train=preprocessing.normalize(X_train)\n",
    "X_test=preprocessing.normalize(x_test)\n",
    "#X_test=StandardScaler(with_mean=False).fit_transform(x_test)"
   ]
  },
  {
   "cell_type": "code",
   "execution_count": 20,
   "metadata": {
    "colab": {
     "base_uri": "https://localhost:8080/",
     "height": 35
    },
    "colab_type": "code",
    "id": "YsPpRbh77S4-",
    "outputId": "9812f161-11e1-4c54-f1ac-281910350f58"
   },
   "outputs": [
    {
     "name": "stdout",
     "output_type": "stream",
     "text": [
      "Train Data Size:  (28000, 26896)\n",
      "Test Data Size:  (12000, 26896)\n"
     ]
    }
   ],
   "source": [
    "print(\"Train Data Size: \",X_train.shape)\n",
    "print(\"Test Data Size: \",X_test.shape)"
   ]
  },
  {
   "cell_type": "markdown",
   "metadata": {
    "colab_type": "text",
    "id": "mUm9BSzIpvq-"
   },
   "source": [
    "# Optimal K"
   ]
  },
  {
   "cell_type": "code",
   "execution_count": 21,
   "metadata": {
    "colab": {
     "base_uri": "https://localhost:8080/",
     "height": 54
    },
    "colab_type": "code",
    "id": "19Soa2M-7S5M",
    "outputId": "dabac171-61c2-4244-e5de-6f24c642665e"
   },
   "outputs": [
    {
     "name": "stdout",
     "output_type": "stream",
     "text": [
      "\n",
      " the optimal k is 13.\n"
     ]
    }
   ],
   "source": [
    "#with either k=8 or 9 we get best accuracy for test to be 91%,now with 10 fold cross validation we have to see if our ccuracy improves\n",
    "n_list=list(range(0,15))\n",
    "neighb=list(filter(lambda x: x % 2 != 0, n_list))\n",
    "#create a list of cross-val scores\n",
    "scores_cv=[]\n",
    "for k in neighb:\n",
    "    knn=KNeighborsClassifier(n_neighbors=k,algorithm=\"brute\")\n",
    "    scores=cross_val_score(knn,X_train,Y_train,cv=3,scoring='accuracy')\n",
    "    scores_cv.append(scores.mean())\n",
    "\n",
    "#Find misclassification error(i.e)how much data is misclassified\n",
    "\n",
    "MSE=[1-x for x in scores_cv]\n",
    "\n",
    "#find optimal k\n",
    "\n",
    "optimal_k=neighb[MSE.index(min(MSE))]\n",
    "print('\\n the optimal k is %d.' % optimal_k)\n",
    "\n",
    "\n",
    "\n",
    "\n"
   ]
  },
  {
   "cell_type": "code",
   "execution_count": 23,
   "metadata": {},
   "outputs": [
    {
     "name": "stdout",
     "output_type": "stream",
     "text": [
      "the type of count vectorizer is: <class 'scipy.sparse.csr.csr_matrix'>\n"
     ]
    }
   ],
   "source": [
    "print(\"the type of count vectorizer is:\",type(x_test))"
   ]
  },
  {
   "cell_type": "code",
   "execution_count": 49,
   "metadata": {
    "colab": {
     "base_uri": "https://localhost:8080/",
     "height": 54
    },
    "colab_type": "code",
    "id": "rnnUpmCr7S5R",
    "outputId": "939c2415-d28d-49b0-b27f-3c6c30567237"
   },
   "outputs": [
    {
     "name": "stdout",
     "output_type": "stream",
     "text": [
      "\n",
      " the accuracy score for bag of words model with optimal k=13 is 70.933333%\n"
     ]
    }
   ],
   "source": [
    "#KNN with optimal k and test accuracy for bag of words\n",
    "from sklearn.neighbors import KNeighborsClassifier\n",
    "knn_opt=KNeighborsClassifier(n_neighbors=optimal_k,algorithm=\"brute\")\n",
    "#fit the model\n",
    "knn_opt.fit(X_train,Y_train)\n",
    "#predict the model\n",
    "prediction=knn_opt.predict(x_test)\n",
    "\n",
    "#the accuracy score\n",
    "acc_score=accuracy_score(Y_test,prediction)* 100\n",
    "print('\\n the accuracy score for bag of words model with optimal k=%d is %f%%' %(optimal_k,acc_score))"
   ]
  },
  {
   "cell_type": "code",
   "execution_count": 50,
   "metadata": {
    "colab": {
     "base_uri": "https://localhost:8080/",
     "height": 369
    },
    "colab_type": "code",
    "id": "GQeCSgssGbZD",
    "outputId": "228b19a7-02c8-4f88-de73-8d2debd7a8ef"
   },
   "outputs": [
    {
     "data": {
      "text/plain": [
       "<matplotlib.axes._subplots.AxesSubplot at 0x91d7bfd0>"
      ]
     },
     "execution_count": 50,
     "metadata": {},
     "output_type": "execute_result"
    },
    {
     "data": {
      "image/png": "[encoded data removed]",
      "text/plain": [
       "<matplotlib.figure.Figure at 0x2b86c2e8>"
      ]
     },
     "metadata": {},
     "output_type": "display_data"
    }
   ],
   "source": [
    "conf_matr_df = pd.DataFrame(confusion_matrix(Y_test, prediction), range(2),range(2))\n",
    "sns.set(font_scale=1.4)#for label size\n",
    "sns.heatmap(conf_matr_df, annot=True,annot_kws={\"size\": 16}, fmt='g')"
   ]
  },
  {
   "cell_type": "code",
   "execution_count": 51,
   "metadata": {
    "colab": {
     "base_uri": "https://localhost:8080/",
     "height": 54
    },
    "colab_type": "code",
    "id": "yREFOAqcvZWu",
    "outputId": "6abf2102-d394-4947-98a7-57a18fb5a7b5"
   },
   "outputs": [
    {
     "name": "stdout",
     "output_type": "stream",
     "text": [
      "             precision    recall  f1-score   support\n",
      "\n",
      "   Negative       0.72      0.68      0.70      5938\n",
      "   Positive       0.70      0.74      0.72      6062\n",
      "\n",
      "avg / total       0.71      0.71      0.71     12000\n",
      "\n"
     ]
    }
   ],
   "source": [
    "from sklearn.metrics import classification_report,precision_score,recall_score\n",
    "\n",
    "print(classification_report(Y_test,prediction))"
   ]
  },
  {
   "cell_type": "markdown",
   "metadata": {
    "colab_type": "text",
    "id": "F4sc7d48rZ3v"
   },
   "source": [
    "Observations:\n",
    "Precision for BoW:71%\n",
    "recall for BoW:71%"
   ]
  },
  {
   "cell_type": "markdown",
   "metadata": {},
   "source": [
    "# KD-Tree"
   ]
  },
  {
   "cell_type": "markdown",
   "metadata": {},
   "source": [
    "# GridSearch"
   ]
  },
  {
   "cell_type": "code",
   "execution_count": 58,
   "metadata": {},
   "outputs": [
    {
     "data": {
      "text/plain": [
       "(28000, 26427)"
      ]
     },
     "execution_count": 58,
     "metadata": {},
     "output_type": "execute_result"
    }
   ],
   "source": [
    "X_train.shape"
   ]
  },
  {
   "cell_type": "code",
   "execution_count": 21,
   "metadata": {},
   "outputs": [
    {
     "name": "stderr",
     "output_type": "stream",
     "text": [
      "D:\\Anaconda\\lib\\site-packages\\sklearn\\utils\\validation.py:475: DataConversionWarning: Data with input dtype int64 was converted to float64 by StandardScaler.\n",
      "  warnings.warn(msg, DataConversionWarning)\n"
     ]
    }
   ],
   "source": [
    "from sklearn.preprocessing import StandardScaler\n",
    "standardised_X_train=StandardScaler(with_mean=False).fit_transform(X_train)\n",
    "standardised_X_test=StandardScaler(with_mean=False).fit(X_train).transform(x_test)"
   ]
  },
  {
   "cell_type": "code",
   "execution_count": 24,
   "metadata": {},
   "outputs": [],
   "source": [
    "from sklearn.decomposition import TruncatedSVD\n",
    "from scipy.sparse import csr_matrix\n",
    "\n",
    "sparse_train=csr_matrix(standardised_X_train)\n",
    "sparse_test=csr_matrix(standardised_X_test)\n",
    "\n",
    "svd=TruncatedSVD(n_components=9,n_iter=2)\n",
    "svd_tr=svd.fit_transform(X_train)\n",
    "svd_test =svd.fit(sparse_train).transform(sparse_test)\n",
    "    \n",
    "#X_train=svd.fit_transform(X_train)\n",
    "#X_test=svd.transform(x_test)\n"
   ]
  },
  {
   "cell_type": "code",
   "execution_count": 25,
   "metadata": {},
   "outputs": [
    {
     "name": "stdout",
     "output_type": "stream",
     "text": [
      "[0.00276824 0.00177493 0.00156171 0.00081883 0.00054121 0.0008569\n",
      " 0.00081883 0.00072098 0.00070051]\n"
     ]
    }
   ],
   "source": [
    "print(svd.explained_variance_ratio_)\n",
    "#print(svd.singular_values_)"
   ]
  },
  {
   "cell_type": "code",
   "execution_count": 26,
   "metadata": {},
   "outputs": [
    {
     "name": "stdout",
     "output_type": "stream",
     "text": [
      "Fitting 3 folds for each of 10 candidates, totalling 30 fits\n",
      "Best HyperParameter:  {'n_neighbors': 17}\n",
      "Best Accuracy: 66.90%\n"
     ]
    },
    {
     "name": "stderr",
     "output_type": "stream",
     "text": [
      "[Parallel(n_jobs=1)]: Done  30 out of  30 | elapsed:  1.4min finished\n"
     ]
    }
   ],
   "source": [
    "param_grid = {'n_neighbors':np.arange(1,20,2)}#create a list of cross-val scores\n",
    "knn=KNeighborsClassifier(algorithm='kd_tree')\n",
    "gsv = GridSearchCV(knn,param_grid,cv=3,verbose=1)\n",
    "gsv.fit(svd_tr,Y_train)\n",
    "print(\"Best HyperParameter: \",gsv.best_params_)\n",
    "print(\"Best Accuracy: %.2f%%\"%(gsv.best_score_*100))"
   ]
  },
  {
   "cell_type": "code",
   "execution_count": 27,
   "metadata": {},
   "outputs": [
    {
     "name": "stdout",
     "output_type": "stream",
     "text": [
      "\n",
      " the accuracy score for bag of words model with optimal k=17 is 50.325000%\n"
     ]
    }
   ],
   "source": [
    "from sklearn.neighbors import KNeighborsClassifier\n",
    "knn_opt=KNeighborsClassifier(n_neighbors=17,algorithm='kd_tree')\n",
    "#fit the model\n",
    "knn_opt.fit(svd_tr,Y_train)\n",
    "#predict the model\n",
    "prediction=knn_opt.predict(svd_test)\n",
    "\n",
    "#the accuracy score\n",
    "acc_score=accuracy_score(Y_test,prediction)* 100\n",
    "print('\\n the accuracy score for bag of words model with optimal k=17 is %f%%'%acc_score)"
   ]
  },
  {
   "cell_type": "code",
   "execution_count": 146,
   "metadata": {},
   "outputs": [
    {
     "name": "stdout",
     "output_type": "stream",
     "text": [
      "training error:0.34%\n",
      "####################################################################################################\n",
      "training accuracy:0.66%\n",
      "####################################################################################################\n",
      "test error:0.50%\n",
      "####################################################################################################\n",
      "test accuracy:0.50%\n"
     ]
    }
   ],
   "source": [
    "training_accuracy = knn_opt.score(svd_tr, Y_train)\n",
    "training_error = 1 - training_accuracy\n",
    "test_accuracy = accuracy_score(Y_test, prediction)\n",
    "test_error = 1 - test_accuracy\n",
    "\n",
    "print(\"training error:%.2f%%\" %training_error)\n",
    "print('#'*100)\n",
    "print(\"training accuracy:%.2f%%\" %training_accuracy)\n",
    "print('#'*100)\n",
    "print(\"test error:%.2f%%\" %test_error)\n",
    "print('#'*100)\n",
    "print(\"test accuracy:%.2f%%\" %test_accuracy)"
   ]
  },
  {
   "cell_type": "code",
   "execution_count": 28,
   "metadata": {},
   "outputs": [
    {
     "data": {
      "text/plain": [
       "<matplotlib.axes._subplots.AxesSubplot at 0x2c3912e8>"
      ]
     },
     "execution_count": 28,
     "metadata": {},
     "output_type": "execute_result"
    },
    {
     "data": {
      "image/png": "[encoded data removed]",
      "text/plain": [
       "<Figure size 432x288 with 2 Axes>"
      ]
     },
     "metadata": {},
     "output_type": "display_data"
    }
   ],
   "source": [
    "conf_matr_df = pd.DataFrame(confusion_matrix(Y_test, prediction), range(2),range(2))\n",
    "sns.set(font_scale=1.4)#for label size\n",
    "sns.heatmap(conf_matr_df, annot=True,annot_kws={\"size\": 16}, fmt='g')"
   ]
  },
  {
   "cell_type": "code",
   "execution_count": 29,
   "metadata": {},
   "outputs": [
    {
     "name": "stdout",
     "output_type": "stream",
     "text": [
      "             precision    recall  f1-score   support\n",
      "\n",
      "   Negative       0.50      0.01      0.02      5962\n",
      "   Positive       0.50      0.99      0.67      6038\n",
      "\n",
      "avg / total       0.50      0.50      0.35     12000\n",
      "\n"
     ]
    }
   ],
   "source": [
    "from sklearn.metrics import classification_report,precision_score,recall_score\n",
    "\n",
    "print(classification_report(Y_test,prediction))"
   ]
  },
  {
   "cell_type": "raw",
   "metadata": {},
   "source": [
    "Observation\n",
    "\n",
    "The precision for BoW with algorithm being Kd-tree and optimal k being 17 is 50% and recall is 50%\n",
    "while the precision and recall for brute force with k being 13 is 71% and 71% respectively"
   ]
  },
  {
   "cell_type": "markdown",
   "metadata": {
    "colab_type": "text",
    "id": "YuA3j4tw7S5U"
   },
   "source": [
    "# TF-IDF KNN"
   ]
  },
  {
   "cell_type": "code",
   "execution_count": 149,
   "metadata": {
    "colab": {},
    "colab_type": "code",
    "id": "k5zYZcfptYWA"
   },
   "outputs": [],
   "source": [
    "X_train,X_test,Y_train,Y_test=cross_validation.train_test_split(X,y,test_size=0.3,random_state=0)\n",
    "#split train into cross val train and cross val test\n",
    "X_t,X_cv,Y_t,Y_cv=cross_validation.train_test_split(X_train,Y_train,test_size=0.3)"
   ]
  },
  {
   "cell_type": "code",
   "execution_count": 150,
   "metadata": {
    "colab": {
     "base_uri": "https://localhost:8080/",
     "height": 35
    },
    "colab_type": "code",
    "id": "qanJo7QQ7S5V",
    "outputId": "d155a1fd-ebb3-4a78-be7d-20d8d3893861"
   },
   "outputs": [
    {
     "name": "stdout",
     "output_type": "stream",
     "text": [
      "(28000,) (12000,)\n"
     ]
    }
   ],
   "source": [
    "tf_idf_vect=TfidfVectorizer()\n",
    "final_tfidf_vect=tf_idf_vect.fit_transform(X_train)\n",
    "final_test_tfidf_vect=tf_idf_vect.transform(X_test)\n",
    "from sklearn import preprocessing\n",
    "X_train=preprocessing.normalize(final_tfidf_vect)\n",
    "X_test=preprocessing.normalize(final_test_tfidf_vect)\n",
    "final_tfidf_vect.get_shape(),final_test_tfidf_vect.get_shape()\n",
    "print(X_train.shape,X_test.shape)"
   ]
  },
  {
   "cell_type": "code",
   "execution_count": 151,
   "metadata": {
    "colab": {
     "base_uri": "https://localhost:8080/",
     "height": 35
    },
    "colab_type": "code",
    "id": "4HphCnAk7S5g",
    "outputId": "65c11be8-b4d2-4dd1-c8e9-da84af302f29"
   },
   "outputs": [],
   "source": [
    "X_train=final_tfidf_vect\n",
    "X_test=final_test_tfidf_vect"
   ]
  },
  {
   "cell_type": "code",
   "execution_count": 35,
   "metadata": {
    "colab": {
     "base_uri": "https://localhost:8080/",
     "height": 35
    },
    "colab_type": "code",
    "id": "KbJbseHM7S5k",
    "outputId": "133b405e-2315-49ec-953c-813bf5531dea"
   },
   "outputs": [
    {
     "data": {
      "text/plain": [
       "(15000,)"
      ]
     },
     "execution_count": 35,
     "metadata": {
      "tags": []
     },
     "output_type": "execute_result"
    }
   ],
   "source": [
    "Y_test.shape"
   ]
  },
  {
   "cell_type": "markdown",
   "metadata": {
    "colab_type": "text",
    "id": "SmWVG_ZZt0r_"
   },
   "source": [
    "**Optimal K**"
   ]
  },
  {
   "cell_type": "code",
   "execution_count": 61,
   "metadata": {
    "colab": {
     "base_uri": "https://localhost:8080/",
     "height": 54
    },
    "colab_type": "code",
    "id": "Dw_KuoDl7S5v",
    "outputId": "461a5f98-7c87-40b3-b9f4-39b34668c2d0"
   },
   "outputs": [
    {
     "name": "stdout",
     "output_type": "stream",
     "text": [
      "\n",
      " the optimal k is 19.\n"
     ]
    }
   ],
   "source": [
    "#for finding optimal k with odd list for neighbors\n",
    "n_list=list(range(0,20))\n",
    "neighb=list(filter(lambda x: x % 2 != 0, n_list))\n",
    "#create a list of cross-val scores\n",
    "scores_cv=[]\n",
    "for k in neighb:\n",
    "    knn=KNeighborsClassifier(n_neighbors=k,algorithm=\"brute\")\n",
    "    scores=cross_val_score(knn,X_train,Y_train,cv=3,scoring='accuracy')\n",
    "    scores_cv.append(scores.mean())\n",
    "\n",
    "#Find misclassification error(i.e)how much data is misclassified\n",
    "\n",
    "MSE=[1-x for x in scores_cv]\n",
    "\n",
    "#find optimal k\n",
    "\n",
    "optimal_k=neighb[MSE.index(min(MSE))]\n",
    "print('\\n the optimal k is %d.' % optimal_k)"
   ]
  },
  {
   "cell_type": "code",
   "execution_count": 62,
   "metadata": {
    "colab": {
     "base_uri": "https://localhost:8080/",
     "height": 54
    },
    "colab_type": "code",
    "id": "oPg9l3Ou7S52",
    "outputId": "450f80f9-2029-434c-f5c2-2d6f8e54a4e9"
   },
   "outputs": [
    {
     "name": "stdout",
     "output_type": "stream",
     "text": [
      "\n",
      " the accuracy score for bag of words model with optimal k=19 is 73.233333%\n"
     ]
    }
   ],
   "source": [
    "#KNN with optimal k and test accuracy for tf_idf model\n",
    "\n",
    "knn_opt=KNeighborsClassifier(n_neighbors=optimal_k,algorithm=\"brute\")\n",
    "#fit the model\n",
    "knn_opt.fit(X_train,Y_train)\n",
    "#predict the model\n",
    "prediction=knn_opt.predict(X_test)\n",
    "\n",
    "#the accuracy score\n",
    "acc_score=accuracy_score(Y_test,prediction)* 100\n",
    "print('\\n the accuracy score for bag of words model with optimal k=%d is %f%%' %(optimal_k,acc_score))"
   ]
  },
  {
   "cell_type": "code",
   "execution_count": 63,
   "metadata": {
    "colab": {
     "base_uri": "https://localhost:8080/",
     "height": 369
    },
    "colab_type": "code",
    "id": "sJZ3DEjI73zv",
    "outputId": "f2ed2e92-3341-43a1-ffb0-a89186780539"
   },
   "outputs": [
    {
     "data": {
      "text/plain": [
       "<matplotlib.axes._subplots.AxesSubplot at 0x63a83128>"
      ]
     },
     "execution_count": 63,
     "metadata": {},
     "output_type": "execute_result"
    },
    {
     "data": {
      "image/png": "[encoded data removed]",
      "text/plain": [
       "<matplotlib.figure.Figure at 0x8a2b59b0>"
      ]
     },
     "metadata": {},
     "output_type": "display_data"
    }
   ],
   "source": [
    "conf_matr_df = pd.DataFrame(confusion_matrix(Y_test, prediction), range(2),range(2))\n",
    "sns.set(font_scale=1.4)#for label size\n",
    "sns.heatmap(conf_matr_df, annot=True,annot_kws={\"size\": 16}, fmt='g')"
   ]
  },
  {
   "cell_type": "code",
   "execution_count": 64,
   "metadata": {
    "colab": {
     "base_uri": "https://localhost:8080/",
     "height": 54
    },
    "colab_type": "code",
    "id": "hiA8cd_Nqr7_",
    "outputId": "fb8305aa-8e40-4986-dc89-85f4879e63f3"
   },
   "outputs": [
    {
     "name": "stdout",
     "output_type": "stream",
     "text": [
      "             precision    recall  f1-score   support\n",
      "\n",
      "   Negative       0.74      0.71      0.72      5947\n",
      "   Positive       0.72      0.76      0.74      6053\n",
      "\n",
      "avg / total       0.73      0.73      0.73     12000\n",
      "\n"
     ]
    }
   ],
   "source": [
    "from sklearn.metrics import classification_report,precision_score,recall_score\n",
    "\n",
    "print(classification_report(Y_test,prediction))"
   ]
  },
  {
   "cell_type": "markdown",
   "metadata": {
    "colab_type": "text",
    "id": "ESAGNrLrqelo"
   },
   "source": [
    "Observations\n",
    "\n",
    "Recall(TPR) from the confusion matrix is: 73%\n",
    "Precision=73%"
   ]
  },
  {
   "cell_type": "markdown",
   "metadata": {},
   "source": [
    "# KDTree"
   ]
  },
  {
   "cell_type": "raw",
   "metadata": {},
   "source": [
    "Since the algorithm used is kd-tree it requires dense matrix so to convert sparse matrix to dense we will use Truncated SVD method"
   ]
  },
  {
   "cell_type": "code",
   "execution_count": 152,
   "metadata": {},
   "outputs": [],
   "source": [
    "from sklearn.preprocessing import StandardScaler\n",
    "standardised_X_train=StandardScaler(with_mean=False).fit_transform(X_train)\n",
    "standardised_X_test=StandardScaler(with_mean=False).fit(X_train).transform(X_test)"
   ]
  },
  {
   "cell_type": "code",
   "execution_count": 157,
   "metadata": {},
   "outputs": [],
   "source": [
    "from sklearn.decomposition import TruncatedSVD\n",
    "from scipy.sparse import csr_matrix\n",
    "from sklearn import preprocessing\n",
    "\n",
    "sparse_train=csr_matrix(standardised_X_train)\n",
    "sparse_test=csr_matrix(standardised_X_test)\n",
    "\n",
    "X_train=preprocessing.normalize(sparse_train)\n",
    "X_test=preprocessing.normalize(sparse_test)\n",
    "#svd=TruncatedSVD(n_components=10,n_iter=2)\n",
    "#svd_tr=svd.fit_transform(X_train)\n",
    "#svd_test =svd.fit(sparse_train).transform(sparse_test)"
   ]
  },
  {
   "cell_type": "code",
   "execution_count": 154,
   "metadata": {},
   "outputs": [
    {
     "name": "stdout",
     "output_type": "stream",
     "text": [
      "Fitting 3 folds for each of 10 candidates, totalling 30 fits\n",
      "Best HyperParameter:  {'n_neighbors': 19}\n",
      "Best Accuracy: 73.60%\n"
     ]
    },
    {
     "name": "stderr",
     "output_type": "stream",
     "text": [
      "[Parallel(n_jobs=1)]: Done  30 out of  30 | elapsed:  2.2min finished\n"
     ]
    }
   ],
   "source": [
    "param_grid = {'n_neighbors':np.arange(1,20,2)}#create a list of cross-val scores\n",
    "knn=KNeighborsClassifier(algorithm='kd_tree')\n",
    "gsv = GridSearchCV(knn,param_grid,cv=3,verbose=1)\n",
    "gsv.fit(X_train,Y_train)\n",
    "print(\"Best HyperParameter: \",gsv.best_params_)\n",
    "print(\"Best Accuracy: %.2f%%\"%(gsv.best_score_*100))"
   ]
  },
  {
   "cell_type": "code",
   "execution_count": 155,
   "metadata": {},
   "outputs": [
    {
     "name": "stdout",
     "output_type": "stream",
     "text": [
      "\n",
      " the accuracy score for bag of words model with optimal k=19 is 49.591667%\n",
      "training error:0.23%\n",
      "####################################################################################################\n",
      "training accuracy:0.77%\n",
      "####################################################################################################\n",
      "test error:0.50%\n",
      "####################################################################################################\n",
      "test accuracy:0.50%\n"
     ]
    }
   ],
   "source": [
    "#KNN with optimal k and test accuracy for tf_idf model\n",
    "\n",
    "knn_opt=KNeighborsClassifier(n_neighbors=19,algorithm=\"kd_tree\")\n",
    "#fit the model\n",
    "knn_opt.fit(svd_tr,Y_train)\n",
    "#predict the model\n",
    "prediction=knn_opt.predict(svd_test)\n",
    "\n",
    "#the accuracy score\n",
    "acc_score=accuracy_score(Y_test,prediction)* 100\n",
    "print('\\n the accuracy score for bag of words model with optimal k=19 is %f%%' %acc_score)\n",
    "\n",
    "training_accuracy = knn_opt.score(svd_tr, Y_train)\n",
    "training_error = 1 - training_accuracy\n",
    "test_accuracy = accuracy_score(Y_test, prediction)\n",
    "test_error = 1 - test_accuracy\n",
    "\n",
    "print(\"training error:%.2f%%\" %training_error)\n",
    "print('#'*100)\n",
    "print(\"training accuracy:%.2f%%\" %training_accuracy)\n",
    "print('#'*100)\n",
    "print(\"test error:%.2f%%\" %test_error)\n",
    "print('#'*100)\n",
    "print(\"test accuracy:%.2f%%\" %test_accuracy)"
   ]
  },
  {
   "cell_type": "code",
   "execution_count": 121,
   "metadata": {},
   "outputs": [
    {
     "data": {
      "text/plain": [
       "<matplotlib.axes._subplots.AxesSubplot at 0x3f9a3a58>"
      ]
     },
     "execution_count": 121,
     "metadata": {},
     "output_type": "execute_result"
    },
    {
     "data": {
      "image/png": "[encoded data removed]",
      "text/plain": [
       "<Figure size 432x288 with 2 Axes>"
      ]
     },
     "metadata": {},
     "output_type": "display_data"
    }
   ],
   "source": [
    "conf_matr_df = pd.DataFrame(confusion_matrix(Y_test, prediction), range(2),range(2))\n",
    "sns.set(font_scale=1.4)#for label size\n",
    "sns.heatmap(conf_matr_df, annot=True,annot_kws={\"size\": 16}, fmt='g')"
   ]
  },
  {
   "cell_type": "code",
   "execution_count": 116,
   "metadata": {},
   "outputs": [
    {
     "name": "stdout",
     "output_type": "stream",
     "text": [
      "             precision    recall  f1-score   support\n",
      "\n",
      "   Negative       0.50      0.98      0.66      5959\n",
      "   Positive       0.45      0.02      0.03      6041\n",
      "\n",
      "avg / total       0.47      0.49      0.34     12000\n",
      "\n"
     ]
    }
   ],
   "source": [
    "from sklearn.metrics import classification_report,precision_score,recall_score\n",
    "\n",
    "print(classification_report(Y_test,prediction))"
   ]
  },
  {
   "cell_type": "raw",
   "metadata": {},
   "source": [
    "Observation\n",
    "\n",
    "For Tf-IDF and optimal k being 19 with algorithm being brute force we get precision and recall at 73% while for kd-tree algorithm we get precision and recall at 53%"
   ]
  },
  {
   "cell_type": "markdown",
   "metadata": {
    "colab_type": "text",
    "id": "sgi3NN9D7S54"
   },
   "source": [
    "# AvgWord2Vec KNN"
   ]
  },
  {
   "cell_type": "code",
   "execution_count": null,
   "metadata": {
    "colab": {},
    "colab_type": "code",
    "id": "WjERIMxV8D9d"
   },
   "outputs": [],
   "source": [
    "!pip install gensim"
   ]
  },
  {
   "cell_type": "code",
   "execution_count": 16,
   "metadata": {
    "colab": {},
    "colab_type": "code",
    "id": "-r3vJLpb7S55"
   },
   "outputs": [
    {
     "name": "stderr",
     "output_type": "stream",
     "text": [
      "D:\\Anaconda\\lib\\site-packages\\gensim\\utils.py:1209: UserWarning: detected Windows; aliasing chunkize to chunkize_serial\n",
      "  warnings.warn(\"detected Windows; aliasing chunkize to chunkize_serial\")\n"
     ]
    }
   ],
   "source": [
    "import gensim\n",
    "from gensim.models import word2vec,KeyedVectors"
   ]
  },
  {
   "cell_type": "code",
   "execution_count": 101,
   "metadata": {
    "colab": {
     "base_uri": "https://localhost:8080/",
     "height": 35
    },
    "colab_type": "code",
    "id": "K_t8v4Ft7S6B",
    "outputId": "f7fa0de3-dc8b-4340-8496-63657d2333ef"
   },
   "outputs": [
    {
     "data": {
      "text/plain": [
       "<gensim.models.word2vec.Word2Vec at 0x7f093a294f28>"
      ]
     },
     "execution_count": 101,
     "metadata": {
      "tags": []
     },
     "output_type": "execute_result"
    }
   ],
   "source": [
    "#model=word2vec.Word2Vec.load('drive/My Drive/w2vmodel')\n",
    "#model"
   ]
  },
  {
   "cell_type": "code",
   "execution_count": 17,
   "metadata": {
    "colab": {
     "base_uri": "https://localhost:8080/",
     "height": 35
    },
    "colab_type": "code",
    "id": "4k2glYxuBS_Q",
    "outputId": "445b0f1c-a0e2-4f82-c03d-0fb27d4d41d6"
   },
   "outputs": [
    {
     "data": {
      "text/plain": [
       "(40000,)"
      ]
     },
     "execution_count": 17,
     "metadata": {},
     "output_type": "execute_result"
    }
   ],
   "source": [
    "X=final_d[\"Text\"]\n",
    "X.shape"
   ]
  },
  {
   "cell_type": "code",
   "execution_count": 18,
   "metadata": {
    "colab": {
     "base_uri": "https://localhost:8080/",
     "height": 35
    },
    "colab_type": "code",
    "id": "9XnPgoidFDdn",
    "outputId": "a2704288-97c9-4c62-a148-32756cf0cadd"
   },
   "outputs": [
    {
     "data": {
      "text/plain": [
       "(40000,)"
      ]
     },
     "execution_count": 18,
     "metadata": {},
     "output_type": "execute_result"
    }
   ],
   "source": [
    "y=final_d[\"Score\"]\n",
    "y.shape\n"
   ]
  },
  {
   "cell_type": "code",
   "execution_count": 19,
   "metadata": {
    "colab": {},
    "colab_type": "code",
    "id": "vqTQWOa3LYFG"
   },
   "outputs": [],
   "source": [
    "X_train,X_test,Y_train,Y_test=cross_validation.train_test_split(X,y,test_size=0.3,random_state=0)\n",
    "#split train into cross val train and cross val test\n",
    "X_t,X_cv,Y_t,Y_cv=cross_validation.train_test_split(X_train,Y_train,test_size=0.3)"
   ]
  },
  {
   "cell_type": "code",
   "execution_count": 20,
   "metadata": {
    "colab": {
     "base_uri": "https://localhost:8080/",
     "height": 35
    },
    "colab_type": "code",
    "id": "bICnP0s1vEDm",
    "outputId": "d5946f48-3e19-4a13-ae62-dda6af778af2"
   },
   "outputs": [
    {
     "name": "stdout",
     "output_type": "stream",
     "text": [
      "(28000,) (28000,) (12000,) (12000,)\n"
     ]
    }
   ],
   "source": [
    "print(X_train.shape,Y_train.shape,X_test.shape,Y_test.shape)"
   ]
  },
  {
   "cell_type": "code",
   "execution_count": 0,
   "metadata": {
    "colab": {},
    "colab_type": "code",
    "id": "qZYzbRIPIeMl"
   },
   "outputs": [],
   "source": [
    "import re\n",
    "\n",
    "def cleanhtml(sentence): #function to clean the word of any html-tags\n",
    "    cleanr = re.compile('<.*?>')\n",
    "    cleantext = re.sub(cleanr, ' ', sentence)\n",
    "    return cleantext\n",
    "def cleanpunc(sentence): #function to clean the word of any punctuation or special characters\n",
    "    cleaned = re.sub(r'[?|!|\\'|\"|#]',r'',sentence)\n",
    "    cleaned = re.sub(r'[.|,|)|(|\\|/]',r' ',cleaned)\n",
    "    return  cleaned"
   ]
  },
  {
   "cell_type": "code",
   "execution_count": 21,
   "metadata": {
    "colab": {
     "base_uri": "https://localhost:8080/",
     "height": 74
    },
    "colab_type": "code",
    "id": "8G7E8j5c7S6E",
    "outputId": "a22115ce-db90-40f3-c14a-804b9bccb4d2"
   },
   "outputs": [
    {
     "name": "stdout",
     "output_type": "stream",
     "text": [
      "19527\n"
     ]
    }
   ],
   "source": [
    "#word2vec own model\n",
    "i=0\n",
    "list_of_sentence=[]\n",
    "for sent in X_train.values:\n",
    "    filtered_sentence=[]\n",
    "    list_of_sentence.append(sent.split())\n",
    "    #sent=cleanhtml(sent)\n",
    "    #for w in sent.split():\n",
    "      #   for cleaned in cleanpunc(w).split():\n",
    "      #      if(cleaned.isalpha()):\n",
    "       #         filtered_sentence.append(cleaned.lower())\n",
    "        #    else:\n",
    "         #       continue\n",
    "#list_of_sentence.append(filtered_sentence)\n",
    "#print(X[\"CleanedText\"].values[0])\n",
    "#print('###########')\n",
    "#print(list_of_sentence[0])\n",
    "w2v_model=gensim.models.Word2Vec(list_of_sentence,min_count=5,size=50,workers=4)\n",
    "\n",
    "words=list(w2v_model.wv.vocab)\n",
    "print(len(words))"
   ]
  },
  {
   "cell_type": "code",
   "execution_count": 55,
   "metadata": {},
   "outputs": [
    {
     "name": "stdout",
     "output_type": "stream",
     "text": [
      "19578\n"
     ]
    }
   ],
   "source": [
    "i=0\n",
    "list_of_sentences=[]\n",
    "for sent in X_test.values:\n",
    "    filtered_sentence=[]\n",
    "    list_of_sentences.append(sent.split())\n",
    "    #sent=cleanhtml(sent)\n",
    "    #for w in sent.split():\n",
    "      #   for cleaned in cleanpunc(w).split():\n",
    "      #      if(cleaned.isalpha()):\n",
    "       #         filtered_sentence.append(cleaned.lower())\n",
    "        #    else:\n",
    "         #       continue\n",
    "#list_of_sentence.append(filtered_sentence)\n",
    "#print(X[\"CleanedText\"].values[0])\n",
    "#print('###########')\n",
    "#print(list_of_sentence[0])\n",
    "w2v_model_test=gensim.models.Word2Vec(list_of_sentences,min_count=5,size=50,workers=4)\n",
    "\n",
    "words_test=list(w2v_model.wv.vocab)\n",
    "print(len(words))"
   ]
  },
  {
   "cell_type": "code",
   "execution_count": 26,
   "metadata": {
    "colab": {
     "base_uri": "https://localhost:8080/",
     "height": 35
    },
    "colab_type": "code",
    "id": "B7q42KB1qnDG",
    "outputId": "48110539-f961-4ccb-a929-7c725cda1cf8"
   },
   "outputs": [
    {
     "name": "stdout",
     "output_type": "stream",
     "text": [
      "19578\n"
     ]
    }
   ],
   "source": [
    "words=list(w2v_model.wv.vocab)\n",
    "print(len(words))"
   ]
  },
  {
   "cell_type": "code",
   "execution_count": 22,
   "metadata": {
    "colab": {
     "base_uri": "https://localhost:8080/",
     "height": 257
    },
    "colab_type": "code",
    "id": "Rxz7zi_SVN0u",
    "outputId": "b566c51d-8ab3-4a65-971d-e54a1367008e"
   },
   "outputs": [
    {
     "name": "stderr",
     "output_type": "stream",
     "text": [
      "D:\\Anaconda\\lib\\site-packages\\gensim\\matutils.py:737: FutureWarning: Conversion of the second argument of issubdtype from `int` to `np.signedinteger` is deprecated. In future, it will be treated as `np.int32 == np.dtype(int).type`.\n",
      "  if np.issubdtype(vec.dtype, np.int):\n"
     ]
    },
    {
     "data": {
      "text/plain": [
       "[('like,', 0.6837463974952698),\n",
       " ('like.', 0.612736701965332),\n",
       " ('enjoy', 0.588869571685791),\n",
       " ('prefer', 0.5741478800773621),\n",
       " ('love', 0.536929190158844),\n",
       " ('liked', 0.5263469219207764),\n",
       " ('miss', 0.5241415500640869),\n",
       " ('think', 0.5200361013412476),\n",
       " ('good,', 0.5177718997001648),\n",
       " ('ok,', 0.5103519558906555)]"
      ]
     },
     "execution_count": 22,
     "metadata": {},
     "output_type": "execute_result"
    }
   ],
   "source": [
    "w2v_model.wv.most_similar('like')"
   ]
  },
  {
   "cell_type": "code",
   "execution_count": 28,
   "metadata": {
    "colab": {
     "base_uri": "https://localhost:8080/",
     "height": 74
    },
    "colab_type": "code",
    "id": "KqbxfUboU9uB",
    "outputId": "ef51e4e5-7bb5-4d6c-a79a-ed1bd551721c"
   },
   "outputs": [
    {
     "name": "stdout",
     "output_type": "stream",
     "text": [
      "['Do', 'a', 'google', 'search.', 'You', 'can', 'find', 'quality', 'invertase', 'for', 'a', 'dollar', 'an', 'ounce', 'elsewhere.', 'Rather', 'than', '$5', '(or', 'more)', 'an', 'ounce', 'on', 'Amazon.']\n",
      "11194\n"
     ]
    }
   ],
   "source": [
    "#word2vec for test\n",
    "i=0\n",
    "list_of_sentences=[]\n",
    "for sent in X_test:\n",
    "    filtered_sentences=[]\n",
    "    list_of_sentences.append(sent.split())\n",
    "    #sent=cleanhtml(sent)\n",
    "    #for w in sent.split():\n",
    "     #   for cleaned in cleanpunc(w).split():\n",
    "      #      if(cleaned.isalpha()):\n",
    "       #         filtered_sentence.append(cleaned.lower())\n",
    "        #    else:\n",
    "         #       continue\n",
    "#list_of_sentences.append(filtered_sentence)\n",
    "#print(X_train.values[0])\n",
    "#print('###########')\n",
    "print(list_of_sentences[0])\n",
    "w2v_model_test=gensim.models.Word2Vec(list_of_sentences,min_count=5,size=50,workers=4)\n",
    "\n",
    "words_test=list(w2v_model_test.wv.vocab)\n",
    "print(len(words_test))\n"
   ]
  },
  {
   "cell_type": "code",
   "execution_count": 29,
   "metadata": {
    "colab": {
     "base_uri": "https://localhost:8080/",
     "height": 257
    },
    "colab_type": "code",
    "id": "PIzwTGAkZPZ-",
    "outputId": "0c56ffe6-c004-4ff9-b2a5-99f12d80e506"
   },
   "outputs": [
    {
     "name": "stderr",
     "output_type": "stream",
     "text": [
      "D:\\Anaconda\\lib\\site-packages\\gensim\\matutils.py:737: FutureWarning: Conversion of the second argument of issubdtype from `int` to `np.signedinteger` is deprecated. In future, it will be treated as `np.int32 == np.dtype(int).type`.\n",
      "  if np.issubdtype(vec.dtype, np.int):\n"
     ]
    },
    {
     "data": {
      "text/plain": [
       "[('like.', 0.6904017925262451),\n",
       " ('prefer', 0.6648592352867126),\n",
       " ('enjoy', 0.6442909836769104),\n",
       " ('love', 0.6440689563751221),\n",
       " ('like,', 0.6234484314918518),\n",
       " ('notice', 0.6203017830848694),\n",
       " ('disliked', 0.6146832704544067),\n",
       " ('bitter', 0.6039746999740601),\n",
       " ('mean', 0.6028439998626709),\n",
       " ('care', 0.5950648188591003)]"
      ]
     },
     "execution_count": 29,
     "metadata": {},
     "output_type": "execute_result"
    }
   ],
   "source": [
    "w2v_model_test.wv.most_similar('like')"
   ]
  },
  {
   "cell_type": "code",
   "execution_count": 25,
   "metadata": {},
   "outputs": [],
   "source": [
    "from tqdm import tqdm"
   ]
  },
  {
   "cell_type": "code",
   "execution_count": 30,
   "metadata": {
    "colab": {
     "base_uri": "https://localhost:8080/",
     "height": 54
    },
    "colab_type": "code",
    "id": "lVvtsNIP7S6H",
    "outputId": "c09419ea-3ca6-4f26-fb12-20b391827423"
   },
   "outputs": [
    {
     "name": "stderr",
     "output_type": "stream",
     "text": [
      "100%|██████████████████████████████████| 28000/28000 [00:09<00:00, 2963.78it/s]\n"
     ]
    },
    {
     "name": "stdout",
     "output_type": "stream",
     "text": [
      "28000\n",
      "50\n"
     ]
    },
    {
     "name": "stderr",
     "output_type": "stream",
     "text": [
      "100%|██████████████████████████████████| 12000/12000 [00:04<00:00, 2947.34it/s]\n"
     ]
    },
    {
     "name": "stdout",
     "output_type": "stream",
     "text": [
      "12000\n",
      "50\n"
     ]
    }
   ],
   "source": [
    "sent_vectors = [] \n",
    "for sent in tqdm(list_of_sentence): # for each review/sentence\n",
    "    sent_vec = np.zeros(50) # as word vectors are of zero length\n",
    "    cnt_words =0 # num of words with a valid vector in the sentence/review\n",
    "    for word in sent: # for each word in a review/sentence\n",
    "        try:\n",
    "            vec = w2v_model.wv[word]\n",
    "            sent_vec += vec\n",
    "            cnt_words += 1\n",
    "        except:\n",
    "            pass\n",
    "        \n",
    "    if cnt_words != 0:\n",
    "        sent_vec /= cnt_words\n",
    "    sent_vectors.append(sent_vec)\n",
    "print(len(sent_vectors))\n",
    "print(len(sent_vectors[0]))\n",
    "\n",
    "X_train_vectorised=sent_vectors\n",
    "\n",
    "sent_vectors_test = [] \n",
    "for sent in tqdm(list_of_sentences): # for each review/sentence\n",
    "    sent_vec = np.zeros(50) # as word vectors are of zero length\n",
    "    cnt_words =0 # num of words with a valid vector in the sentence/review\n",
    "    for word in sent: # for each word in a review/sentence\n",
    "        try:\n",
    "            vec = w2v_model.wv[word]\n",
    "            sent_vec += vec\n",
    "            cnt_words += 1\n",
    "        except:\n",
    "            pass\n",
    "        \n",
    "    if cnt_words != 0:\n",
    "        sent_vec /= cnt_words\n",
    "    sent_vectors_test.append(sent_vec)\n",
    "print(len(sent_vectors_test))\n",
    "print(len(sent_vectors_test[0]))\n",
    "\n",
    "X_test_vectorised=sent_vectors_test"
   ]
  },
  {
   "cell_type": "code",
   "execution_count": 31,
   "metadata": {},
   "outputs": [
    {
     "name": "stdout",
     "output_type": "stream",
     "text": [
      "28000\n",
      "12000\n",
      "(12000, 50)\n"
     ]
    }
   ],
   "source": [
    "print(len(X_train_vectorised))\n",
    "print(len(X_test_vectorised))\n",
    "\n",
    "X_train=np.nan_to_num(X_train_vectorised)\n",
    "X_test=np.nan_to_num(X_test_vectorised)\n",
    "\n",
    "#x_test=np.array(X_test)\n",
    "#X_train=np.array(X_train)\n",
    "\n",
    "print(X_test.shape)"
   ]
  },
  {
   "cell_type": "code",
   "execution_count": 60,
   "metadata": {
    "colab": {
     "base_uri": "https://localhost:8080/",
     "height": 54
    },
    "colab_type": "code",
    "id": "JQJKq1Kx7S6h",
    "outputId": "7fe2fef6-60d9-41b4-a88c-35bce5a2e2d1"
   },
   "outputs": [
    {
     "name": "stdout",
     "output_type": "stream",
     "text": [
      "\n",
      " the optimal k is 19.\n"
     ]
    }
   ],
   "source": [
    "#for finding optimal k with odd list for neighbors\n",
    "n_list=list(range(0,20))\n",
    "neighb=list(filter(lambda x: x % 2 != 0, n_list))\n",
    "#create a list of cross-val scores\n",
    "scores_cv=[]\n",
    "for k in neighb:\n",
    "    knn=KNeighborsClassifier(n_neighbors=k,algorithm=\"brute\")\n",
    "    scores=cross_val_score(knn,X_train,Y_train,cv=3,scoring='accuracy')\n",
    "    scores_cv.append(scores.mean())\n",
    "\n",
    "\n",
    "#Find misclassification error(i.e)how much data is misclassified\n",
    "\n",
    "MSE=[1-x for x in scores_cv]\n",
    "\n",
    "#find optimal k\n",
    "\n",
    "optimal_k=neighb[MSE.index(min(MSE))]\n",
    "print('\\n the optimal k is %d.' % optimal_k)"
   ]
  },
  {
   "cell_type": "code",
   "execution_count": 61,
   "metadata": {
    "colab": {
     "base_uri": "https://localhost:8080/",
     "height": 54
    },
    "colab_type": "code",
    "id": "sVZP_bTR7S6l",
    "outputId": "b033ead8-6060-469c-865c-418e8a585143"
   },
   "outputs": [
    {
     "name": "stdout",
     "output_type": "stream",
     "text": [
      "\n",
      " the accuracy score for AvgWord2Vec model with optimal k=19 is 74.525000%\n"
     ]
    }
   ],
   "source": [
    "#KNN with optimal k and test accuracy for AvgWord2Vec model\n",
    "\n",
    "knn_opt=KNeighborsClassifier(n_neighbors=optimal_k,algorithm=\"brute\")\n",
    "#fit the model\n",
    "knn_opt.fit(X_train,Y_train)\n",
    "#predict the model\n",
    "prediction=knn_opt.predict(X_test)\n",
    "\n",
    "#the accuracy score\n",
    "acc_score=accuracy_score(Y_test,prediction)* 100\n",
    "print('\\n the accuracy score for AvgWord2Vec model with optimal k=%d is %f%%' %(optimal_k,acc_score))"
   ]
  },
  {
   "cell_type": "code",
   "execution_count": 62,
   "metadata": {
    "colab": {
     "base_uri": "https://localhost:8080/",
     "height": 369
    },
    "colab_type": "code",
    "id": "bjq2TiRHKRWM",
    "outputId": "2fcd9537-7b05-4ca6-d885-b6f82c8195ba"
   },
   "outputs": [
    {
     "data": {
      "text/plain": [
       "<matplotlib.axes._subplots.AxesSubplot at 0x2989160>"
      ]
     },
     "execution_count": 62,
     "metadata": {},
     "output_type": "execute_result"
    },
    {
     "data": {
      "image/png": "[encoded data removed]",
      "text/plain": [
       "<matplotlib.figure.Figure at 0x3d68b5c0>"
      ]
     },
     "metadata": {},
     "output_type": "display_data"
    }
   ],
   "source": [
    "conf_matr_df = pd.DataFrame(confusion_matrix(Y_test, prediction), range(2),range(2))\n",
    "sns.set(font_scale=1.4)#for label size\n",
    "sns.heatmap(conf_matr_df, annot=True,annot_kws={\"size\": 16}, fmt='g')"
   ]
  },
  {
   "cell_type": "code",
   "execution_count": 63,
   "metadata": {
    "colab": {
     "base_uri": "https://localhost:8080/",
     "height": 54
    },
    "colab_type": "code",
    "id": "FAyDNIQVv7S6",
    "outputId": "736115a3-1859-4ff8-a75e-23ca8df547d1"
   },
   "outputs": [
    {
     "name": "stdout",
     "output_type": "stream",
     "text": [
      "             precision    recall  f1-score   support\n",
      "\n",
      "   Negative       0.73      0.77      0.75      5980\n",
      "   Positive       0.76      0.72      0.74      6020\n",
      "\n",
      "avg / total       0.75      0.75      0.75     12000\n",
      "\n"
     ]
    }
   ],
   "source": [
    "from sklearn.metrics import classification_report,precision_score,recall_score\n",
    "\n",
    "print(classification_report(Y_test,prediction))"
   ]
  },
  {
   "cell_type": "markdown",
   "metadata": {
    "colab_type": "text",
    "id": "3OW_UhMQv3ty"
   },
   "source": [
    "Observations\n",
    "For Avg W2Vec:\n",
    "precision:75%\n",
    "recall:75%\n"
   ]
  },
  {
   "cell_type": "markdown",
   "metadata": {},
   "source": [
    "# Kd-Tree"
   ]
  },
  {
   "cell_type": "code",
   "execution_count": 33,
   "metadata": {},
   "outputs": [],
   "source": [
    "from sklearn.preprocessing import StandardScaler\n",
    "standardised_X_train=StandardScaler(with_mean=False).fit_transform(X_train)\n",
    "standardised_X_test=StandardScaler(with_mean=False).fit(X_train).transform(X_test)"
   ]
  },
  {
   "cell_type": "code",
   "execution_count": 34,
   "metadata": {},
   "outputs": [],
   "source": [
    "from sklearn.decomposition import TruncatedSVD\n",
    "from scipy.sparse import csr_matrix\n",
    "from sklearn import preprocessing\n",
    "\n",
    "sparse_train=csr_matrix(standardised_X_train)\n",
    "sparse_test=csr_matrix(standardised_X_test)\n",
    "\n",
    "svd=TruncatedSVD(n_components=10,n_iter=2)\n",
    "X_train=svd.fit_transform(sparse_train)\n",
    "X_test=svd.fit(sparse_train).transform(sparse_test)"
   ]
  },
  {
   "cell_type": "code",
   "execution_count": 35,
   "metadata": {},
   "outputs": [
    {
     "name": "stdout",
     "output_type": "stream",
     "text": [
      "[0.05947476 0.11440301 0.07894447 0.07558227 0.06679042 0.06292326\n",
      " 0.05620717 0.0492982  0.04180286 0.03545387]\n"
     ]
    }
   ],
   "source": [
    "print(svd.explained_variance_ratio_)"
   ]
  },
  {
   "cell_type": "code",
   "execution_count": 37,
   "metadata": {},
   "outputs": [
    {
     "name": "stdout",
     "output_type": "stream",
     "text": [
      "Fitting 3 folds for each of 10 candidates, totalling 30 fits\n"
     ]
    },
    {
     "name": "stderr",
     "output_type": "stream",
     "text": [
      "[Parallel(n_jobs=1)]: Done  30 out of  30 | elapsed:  2.9min finished\n"
     ]
    },
    {
     "name": "stdout",
     "output_type": "stream",
     "text": [
      "Best HyperParameter:  {'n_neighbors': 19}\n",
      "Best Accuracy: 71.09%\n"
     ]
    }
   ],
   "source": [
    "param_grid = {'n_neighbors':np.arange(1,20,2)}#create a list of cross-val scores\n",
    "knn=KNeighborsClassifier(algorithm='kd_tree')\n",
    "gsv = GridSearchCV(knn,param_grid,cv=3,verbose=1)\n",
    "gsv.fit(X_train,Y_train)\n",
    "print(\"Best HyperParameter: \",gsv.best_params_)\n",
    "print(\"Best Accuracy: %.2f%%\"%(gsv.best_score_*100))"
   ]
  },
  {
   "cell_type": "code",
   "execution_count": 39,
   "metadata": {},
   "outputs": [
    {
     "name": "stdout",
     "output_type": "stream",
     "text": [
      "\n",
      " the accuracy score for bag of words model with optimal k=19 is 72.016667%\n",
      "training error:0.25%\n",
      "####################################################################################################\n",
      "training accuracy:0.75%\n",
      "####################################################################################################\n",
      "test error:0.28%\n",
      "####################################################################################################\n",
      "test accuracy:0.72%\n"
     ]
    }
   ],
   "source": [
    "knn_opt=KNeighborsClassifier(n_neighbors=19,algorithm=\"kd_tree\")\n",
    "#fit the model\n",
    "knn_opt.fit(X_train,Y_train)\n",
    "#predict the model\n",
    "prediction=knn_opt.predict(X_test)\n",
    "\n",
    "#the accuracy score\n",
    "acc_score=accuracy_score(Y_test,prediction)* 100\n",
    "print('\\n the accuracy score for bag of words model with optimal k=19 is %f%%' %acc_score)\n",
    "\n",
    "training_accuracy = knn_opt.score(X_train, Y_train)\n",
    "training_error = 1 - training_accuracy\n",
    "test_accuracy = accuracy_score(Y_test, prediction)\n",
    "test_error = 1 - test_accuracy\n",
    "\n",
    "print(\"training error:%.2f%%\" %training_error)\n",
    "print('#'*100)\n",
    "print(\"training accuracy:%.2f%%\" %training_accuracy)\n",
    "print('#'*100)\n",
    "print(\"test error:%.2f%%\" %test_error)\n",
    "print('#'*100)\n",
    "print(\"test accuracy:%.2f%%\" %test_accuracy)"
   ]
  },
  {
   "cell_type": "code",
   "execution_count": 40,
   "metadata": {},
   "outputs": [
    {
     "data": {
      "text/plain": [
       "<matplotlib.axes._subplots.AxesSubplot at 0x5b09b9b0>"
      ]
     },
     "execution_count": 40,
     "metadata": {},
     "output_type": "execute_result"
    },
    {
     "data": {
      "image/png": "[encoded data removed]",
      "text/plain": [
       "<Figure size 432x288 with 2 Axes>"
      ]
     },
     "metadata": {},
     "output_type": "display_data"
    }
   ],
   "source": [
    "conf_matr_df = pd.DataFrame(confusion_matrix(Y_test, prediction), range(2),range(2))\n",
    "sns.set(font_scale=1.4)#for label size\n",
    "sns.heatmap(conf_matr_df, annot=True,annot_kws={\"size\": 16}, fmt='g')"
   ]
  },
  {
   "cell_type": "code",
   "execution_count": 41,
   "metadata": {},
   "outputs": [
    {
     "name": "stdout",
     "output_type": "stream",
     "text": [
      "             precision    recall  f1-score   support\n",
      "\n",
      "   Negative       0.72      0.73      0.72      6035\n",
      "   Positive       0.72      0.71      0.72      5965\n",
      "\n",
      "avg / total       0.72      0.72      0.72     12000\n",
      "\n"
     ]
    }
   ],
   "source": [
    "from sklearn.metrics import classification_report,precision_score,recall_score\n",
    "\n",
    "print(classification_report(Y_test,prediction))"
   ]
  },
  {
   "cell_type": "raw",
   "metadata": {},
   "source": [
    "Observations:\n",
    "For k=17 with brute force precision is 75% and recall is 75%.\n",
    "For k=17 with kd-tree precision is 72% and recall is 72%"
   ]
  },
  {
   "cell_type": "markdown",
   "metadata": {
    "colab_type": "text",
    "id": "ar9Hjmyd7S6o"
   },
   "source": [
    "# Weighted Tf-Idf Word2Vec KNN"
   ]
  },
  {
   "cell_type": "code",
   "execution_count": 42,
   "metadata": {},
   "outputs": [],
   "source": [
    "model = TfidfVectorizer()\n",
    "tf_idf_matrix = model.fit_transform(final_d['CleanedText'].values)\n",
    "# we are converting a dictionary with word as a key, and the idf as a value\n",
    "dictionary = dict(zip(model.get_feature_names(), list(model.idf_)))"
   ]
  },
  {
   "cell_type": "code",
   "execution_count": 43,
   "metadata": {
    "colab": {
     "base_uri": "https://localhost:8080/",
     "height": 35
    },
    "colab_type": "code",
    "id": "PEqrNdePLcKy",
    "outputId": "a1bdf90e-606f-4dca-aa93-ee32c6e5b0f3"
   },
   "outputs": [
    {
     "data": {
      "text/plain": [
       "(40000,)"
      ]
     },
     "execution_count": 43,
     "metadata": {},
     "output_type": "execute_result"
    }
   ],
   "source": [
    "X=final_d[\"CleanedText\"]\n",
    "X.shape"
   ]
  },
  {
   "cell_type": "code",
   "execution_count": 44,
   "metadata": {
    "colab": {
     "base_uri": "https://localhost:8080/",
     "height": 35
    },
    "colab_type": "code",
    "id": "3z1JFPFwLyni",
    "outputId": "5b291e69-b115-4f75-f097-0578a8ed85b6"
   },
   "outputs": [
    {
     "data": {
      "text/plain": [
       "(40000,)"
      ]
     },
     "execution_count": 44,
     "metadata": {},
     "output_type": "execute_result"
    }
   ],
   "source": [
    "y=final_d[\"Score\"]\n",
    "y.shape"
   ]
  },
  {
   "cell_type": "code",
   "execution_count": 45,
   "metadata": {
    "colab": {},
    "colab_type": "code",
    "id": "z4xxLIQ_7S6r"
   },
   "outputs": [],
   "source": [
    "#split the data into train and test fo tf-idf\n",
    "\n",
    "X_train,X_test,Y_train,Y_test=cross_validation.train_test_split(X,y,test_size=0.3,random_state=0)\n",
    "#split train into cross val train and cross val test\n",
    "X_t,X_cv,Y_t,Y_cv=cross_validation.train_test_split(X_train,Y_train,test_size=0.3)"
   ]
  },
  {
   "cell_type": "code",
   "execution_count": 46,
   "metadata": {
    "colab": {
     "base_uri": "https://localhost:8080/",
     "height": 35
    },
    "colab_type": "code",
    "id": "KBYIcGIrL8Sn",
    "outputId": "45902a79-f9ef-48aa-dcc0-e25e519cc10a"
   },
   "outputs": [
    {
     "name": "stdout",
     "output_type": "stream",
     "text": [
      "(28000,) (12000,) (28000,) (12000,)\n"
     ]
    }
   ],
   "source": [
    "print(X_train.shape,X_test.shape,Y_train.shape,Y_test.shape)"
   ]
  },
  {
   "cell_type": "code",
   "execution_count": 47,
   "metadata": {
    "colab": {
     "base_uri": "https://localhost:8080/",
     "height": 35
    },
    "colab_type": "code",
    "id": "ucxU4NNI3QAy",
    "outputId": "c14295ed-a290-4515-c4a8-2fce0b6b13d3"
   },
   "outputs": [
    {
     "name": "stdout",
     "output_type": "stream",
     "text": [
      "(28000,) (12000,)\n"
     ]
    }
   ],
   "source": [
    "tf_idf_vect=TfidfVectorizer()\n",
    "final_tf_idf_vect=model.fit_transform(X_train)\n",
    "final_test_tfidf_vect=model.transform(X_test)\n",
    "#X_train=StandardScaler(with_mean=False).fit_transform(final_tf_idf_vect)\n",
    "#X_test=StandardScaler(with_mean=False).fit_transform(final_test_tfidf_vect)\n",
    "final_tf_idf_vect.get_shape(),final_test_tfidf_vect.get_shape()\n",
    "print(X_train.shape,X_test.shape)"
   ]
  },
  {
   "cell_type": "code",
   "execution_count": 48,
   "metadata": {},
   "outputs": [
    {
     "name": "stderr",
     "output_type": "stream",
     "text": [
      "100%|██████████████████████████████████| 28000/28000 [00:11<00:00, 2508.47it/s]\n"
     ]
    }
   ],
   "source": [
    "tfidf_feat = model.get_feature_names() # tfidf words/col-names\n",
    "# final_tf_idf is the sparse matrix with row= sentence, col=word and cell_val = tfidf\n",
    "\n",
    "tfidf_sent_vectors = []; # the tfidf-w2v for each sentence/review is stored in this list\n",
    "row=0;\n",
    "for sent in tqdm(list_of_sentence): # for each review/sentence \n",
    "    sent_vec = np.zeros(50) # as word vectors are of zero length\n",
    "    weight_sum =0; # num of words with a valid vector in the sentence/review\n",
    "    for word in sent: # for each word in a review/sentence\n",
    "        try:\n",
    "            vec = w2v_model.wv[word]\n",
    "#             tf_idf = tf_idf_matrix[row, tfidf_feat.index(word)]\n",
    "            # to reduce the computation we are \n",
    "            # dictionary[word] = idf value of word in whole courpus\n",
    "            # sent.count(word) = tf valeus of word in this review\n",
    "            tf_idf = dictionary[word]*sent.count(word)\n",
    "            sent_vec += (vec * tf_idf)\n",
    "            weight_sum += tf_idf\n",
    "        except:\n",
    "            pass\n",
    "        \n",
    "    if weight_sum != 0:\n",
    "        sent_vec /= weight_sum\n",
    "    tfidf_sent_vectors.append(sent_vec)\n",
    "    row += 1"
   ]
  },
  {
   "cell_type": "code",
   "execution_count": 49,
   "metadata": {},
   "outputs": [
    {
     "name": "stderr",
     "output_type": "stream",
     "text": [
      "100%|██████████████████████████████████| 12000/12000 [00:04<00:00, 2524.04it/s]\n"
     ]
    }
   ],
   "source": [
    "tfidf_feat = model.get_feature_names() # tfidf words/col-names\n",
    "# final_tf_idf is the sparse matrix with row= sentence, col=word and cell_val = tfidf\n",
    "\n",
    "tfidf_sent_vectors_test = []; # the tfidf-w2v for each sentence/review is stored in this list\n",
    "row=0;\n",
    "for sent in tqdm(list_of_sentences): # for each review/sentence \n",
    "    sent_vec = np.zeros(50) # as word vectors are of zero length\n",
    "    weight_sum =0; # num of words with a valid vector in the sentence/review\n",
    "    for word in sent: # for each word in a review/sentence\n",
    "        try:\n",
    "            vec = w2v_model.wv[word]\n",
    "            tf_idf = dictionary[word]*sent.count(word)\n",
    "            sent_vec += (vec * tf_idf)\n",
    "            weight_sum += tf_idf    \n",
    "        except:\n",
    "            pass\n",
    "            \n",
    "#             tf_idf = tf_idf_matrix[row, tfidf_feat.index(word)]\n",
    "            # to reduce the computation we are \n",
    "            # dictionary[word] = idf value of word in whole courpus\n",
    "            # sent.count(word) = tf valeus of word in this review\n",
    "            \n",
    "    if weight_sum != 0:\n",
    "        sent_vec /= weight_sum\n",
    "    tfidf_sent_vectors_test.append(sent_vec)\n",
    "    row += 1"
   ]
  },
  {
   "cell_type": "code",
   "execution_count": 50,
   "metadata": {
    "colab": {},
    "colab_type": "code",
    "id": "gG6vvj797S6q"
   },
   "outputs": [],
   "source": [
    "X_train=np.array(tfidf_sent_vectors)\n",
    "X_test=np.array(tfidf_sent_vectors_test)"
   ]
  },
  {
   "cell_type": "code",
   "execution_count": 51,
   "metadata": {
    "colab": {
     "base_uri": "https://localhost:8080/",
     "height": 35
    },
    "colab_type": "code",
    "id": "19MfME-vypx0",
    "outputId": "63906be5-7b90-4c48-9ae5-dbc4eb65dfea"
   },
   "outputs": [
    {
     "data": {
      "text/plain": [
       "((28000, 50), (12000, 50))"
      ]
     },
     "execution_count": 51,
     "metadata": {},
     "output_type": "execute_result"
    }
   ],
   "source": [
    "X_train.shape,X_test.shape"
   ]
  },
  {
   "cell_type": "code",
   "execution_count": 88,
   "metadata": {
    "colab": {
     "base_uri": "https://localhost:8080/",
     "height": 54
    },
    "colab_type": "code",
    "id": "bE8YCwqS7S67",
    "outputId": "f53b0b01-bafb-4837-94e1-2353e8bccb10"
   },
   "outputs": [
    {
     "name": "stdout",
     "output_type": "stream",
     "text": [
      "\n",
      " the optimal k is 19.\n"
     ]
    }
   ],
   "source": [
    "#for finding optimal k with odd list for neighbors\n",
    "n_list=list(range(0,20))\n",
    "neighb=list(filter(lambda x: x % 2 != 0, n_list))\n",
    "#create a list of cross-val scores\n",
    "scores_cv=[]\n",
    "for k in neighb:\n",
    "    knn=KNeighborsClassifier(n_neighbors=k,algorithm=\"brute\")\n",
    "    scores=cross_val_score(knn,X_train,Y_train,cv=10,scoring='accuracy')\n",
    "    scores_cv.append(scores.mean())\n",
    "\n",
    "#Find misclassification error(i.e)how much data is misclassified\n",
    "\n",
    "MSE=[1-x for x in scores_cv]\n",
    "\n",
    "#find optimal k\n",
    "\n",
    "optimal_k=neighb[MSE.index(min(MSE))]\n",
    "print('\\n the optimal k is %d.' % optimal_k)"
   ]
  },
  {
   "cell_type": "code",
   "execution_count": 89,
   "metadata": {
    "colab": {
     "base_uri": "https://localhost:8080/",
     "height": 54
    },
    "colab_type": "code",
    "id": "rCrJpV-c7S6-",
    "outputId": "09b2f373-68e9-4789-8371-80ad8a87f06f"
   },
   "outputs": [
    {
     "name": "stdout",
     "output_type": "stream",
     "text": [
      "\n",
      " the accuracy score for TfIdf Word2Vec model with optimal k=19 is 62.408333%\n"
     ]
    }
   ],
   "source": [
    "#KNN with optimal k and test accuracy for Weighted TfIDF Word2Vec model\n",
    "\n",
    "knn_opt=KNeighborsClassifier(n_neighbors=optimal_k,algorithm=\"brute\")\n",
    "#fit the model\n",
    "knn_opt.fit(X_train,Y_train)\n",
    "#predict the model\n",
    "prediction=knn_opt.predict(X_test)\n",
    "\n",
    "#the accuracy score\n",
    "acc_score=accuracy_score(Y_test,prediction)* 100\n",
    "print('\\n the accuracy score for TfIdf Word2Vec model with optimal k=%d is %f%%' %(optimal_k,acc_score))"
   ]
  },
  {
   "cell_type": "code",
   "execution_count": 90,
   "metadata": {
    "colab": {
     "base_uri": "https://localhost:8080/",
     "height": 373
    },
    "colab_type": "code",
    "id": "qVjaNU5EqNo9",
    "outputId": "be69abbc-b81c-47c7-b059-bf745299a545"
   },
   "outputs": [
    {
     "data": {
      "text/plain": [
       "<matplotlib.axes._subplots.AxesSubplot at 0x40236c50>"
      ]
     },
     "execution_count": 90,
     "metadata": {},
     "output_type": "execute_result"
    },
    {
     "data": {
      "image/png": "[encoded data removed]",
      "text/plain": [
       "<matplotlib.figure.Figure at 0x395f5860>"
      ]
     },
     "metadata": {},
     "output_type": "display_data"
    }
   ],
   "source": [
    "conf_matr_df = pd.DataFrame(confusion_matrix(Y_test, prediction), range(2),range(2))\n",
    "sns.set(font_scale=1.4)#for label size\n",
    "sns.heatmap(conf_matr_df, annot=True,annot_kws={\"size\": 16}, fmt='g')"
   ]
  },
  {
   "cell_type": "code",
   "execution_count": 91,
   "metadata": {
    "colab": {},
    "colab_type": "code",
    "id": "l1ISiactwX_v"
   },
   "outputs": [
    {
     "name": "stdout",
     "output_type": "stream",
     "text": [
      "             precision    recall  f1-score   support\n",
      "\n",
      "   Negative       0.62      0.65      0.63      5980\n",
      "   Positive       0.63      0.60      0.62      6020\n",
      "\n",
      "avg / total       0.62      0.62      0.62     12000\n",
      "\n"
     ]
    }
   ],
   "source": [
    "from sklearn.metrics import classification_report,precision_score,recall_score\n",
    "\n",
    "print(classification_report(Y_test,prediction))"
   ]
  },
  {
   "cell_type": "markdown",
   "metadata": {},
   "source": [
    "# Kd-Tree"
   ]
  },
  {
   "cell_type": "code",
   "execution_count": 52,
   "metadata": {},
   "outputs": [],
   "source": [
    "from sklearn.preprocessing import StandardScaler\n",
    "standardised_X_train=StandardScaler(with_mean=False).fit_transform(X_train)\n",
    "standardised_X_test=StandardScaler(with_mean=False).fit(X_train).transform(X_test)"
   ]
  },
  {
   "cell_type": "code",
   "execution_count": 53,
   "metadata": {},
   "outputs": [],
   "source": [
    "from sklearn.decomposition import TruncatedSVD\n",
    "from scipy.sparse import csr_matrix\n",
    "from sklearn import preprocessing\n",
    "\n",
    "sparse_train=csr_matrix(standardised_X_train)\n",
    "sparse_test=csr_matrix(standardised_X_test)\n",
    "\n",
    "svd=TruncatedSVD(n_components=10,n_iter=2)\n",
    "X_train=svd.fit_transform(sparse_train)\n",
    "X_test=svd.fit(sparse_train).transform(sparse_test)"
   ]
  },
  {
   "cell_type": "code",
   "execution_count": 54,
   "metadata": {},
   "outputs": [
    {
     "name": "stdout",
     "output_type": "stream",
     "text": [
      "[0.06622576 0.16398679 0.12432625 0.09202225 0.06562119 0.05636741\n",
      " 0.04895079 0.0378915  0.03418174 0.03170195]\n"
     ]
    }
   ],
   "source": [
    "print(svd.explained_variance_ratio_)"
   ]
  },
  {
   "cell_type": "code",
   "execution_count": 55,
   "metadata": {},
   "outputs": [
    {
     "name": "stdout",
     "output_type": "stream",
     "text": [
      "Fitting 3 folds for each of 10 candidates, totalling 30 fits\n"
     ]
    },
    {
     "name": "stderr",
     "output_type": "stream",
     "text": [
      "[Parallel(n_jobs=1)]: Done  30 out of  30 | elapsed:  2.0min finished\n"
     ]
    },
    {
     "name": "stdout",
     "output_type": "stream",
     "text": [
      "Best HyperParameter:  {'n_neighbors': 17}\n",
      "Best Accuracy: 58.10%\n"
     ]
    }
   ],
   "source": [
    "param_grid = {'n_neighbors':np.arange(1,20,2)}#create a list of cross-val scores\n",
    "knn=KNeighborsClassifier(algorithm='kd_tree')\n",
    "gsv = GridSearchCV(knn,param_grid,cv=3,verbose=1)\n",
    "gsv.fit(X_train,Y_train)\n",
    "print(\"Best HyperParameter: \",gsv.best_params_)\n",
    "print(\"Best Accuracy: %.2f%%\"%(gsv.best_score_*100))"
   ]
  },
  {
   "cell_type": "code",
   "execution_count": 56,
   "metadata": {},
   "outputs": [
    {
     "name": "stdout",
     "output_type": "stream",
     "text": [
      "\n",
      " the accuracy score for avg w2vec model with optimal k=17 is 57.641667%\n",
      "training error:0.35%\n",
      "####################################################################################################\n",
      "training accuracy:0.65%\n",
      "####################################################################################################\n",
      "test error:0.42%\n",
      "####################################################################################################\n",
      "test accuracy:0.58%\n"
     ]
    }
   ],
   "source": [
    "knn_opt=KNeighborsClassifier(n_neighbors=17,algorithm=\"kd_tree\")\n",
    "#fit the model\n",
    "knn_opt.fit(X_train,Y_train)\n",
    "#predict the model\n",
    "prediction=knn_opt.predict(X_test)\n",
    "\n",
    "#the accuracy score\n",
    "acc_score=accuracy_score(Y_test,prediction)* 100\n",
    "print('\\n the accuracy score for avg w2vec model with optimal k=17 is %f%%' %acc_score)\n",
    "\n",
    "training_accuracy = knn_opt.score(X_train, Y_train)\n",
    "training_error = 1 - training_accuracy\n",
    "test_accuracy = accuracy_score(Y_test, prediction)\n",
    "test_error = 1 - test_accuracy\n",
    "\n",
    "print(\"training error:%.2f%%\" %training_error)\n",
    "print('#'*100)\n",
    "print(\"training accuracy:%.2f%%\" %training_accuracy)\n",
    "print('#'*100)\n",
    "print(\"test error:%.2f%%\" %test_error)\n",
    "print('#'*100)\n",
    "print(\"test accuracy:%.2f%%\" %test_accuracy)"
   ]
  },
  {
   "cell_type": "code",
   "execution_count": 58,
   "metadata": {},
   "outputs": [
    {
     "data": {
      "text/plain": [
       "<matplotlib.axes._subplots.AxesSubplot at 0x655345f8>"
      ]
     },
     "execution_count": 58,
     "metadata": {},
     "output_type": "execute_result"
    },
    {
     "data": {
      "image/png": "[encoded data removed]",
      "text/plain": [
       "<Figure size 432x288 with 2 Axes>"
      ]
     },
     "metadata": {},
     "output_type": "display_data"
    }
   ],
   "source": [
    "conf_matr_df = pd.DataFrame(confusion_matrix(Y_test, prediction), range(2),range(2))\n",
    "sns.set(font_scale=1.4)#for label size\n",
    "sns.heatmap(conf_matr_df, annot=True,annot_kws={\"size\": 16}, fmt='g')"
   ]
  },
  {
   "cell_type": "code",
   "execution_count": 59,
   "metadata": {},
   "outputs": [
    {
     "name": "stdout",
     "output_type": "stream",
     "text": [
      "             precision    recall  f1-score   support\n",
      "\n",
      "   Negative       0.58      0.58      0.58      6035\n",
      "   Positive       0.57      0.57      0.57      5965\n",
      "\n",
      "avg / total       0.58      0.58      0.58     12000\n",
      "\n"
     ]
    }
   ],
   "source": [
    "from sklearn.metrics import classification_report,precision_score,recall_score\n",
    "\n",
    "print(classification_report(Y_test,prediction))"
   ]
  },
  {
   "cell_type": "markdown",
   "metadata": {
    "colab_type": "text",
    "id": "Y-ZS5Dbi7S7C"
   },
   "source": [
    "# Conclusion\n",
    "\n",
    "From the above the highest precision and recall is 75% with algorithm set to brute force and optimal k being 17"
   ]
  },
  {
   "cell_type": "code",
   "execution_count": null,
   "metadata": {},
   "outputs": [],
   "source": []
  }
 ],
 "metadata": {
  "accelerator": "GPU",
  "colab": {
   "collapsed_sections": [],
   "name": "Amazon_Food_Review-k-NN-Final_Revised.ipynb",
   "provenance": [],
   "version": "0.3.2"
  },
  "kernelspec": {
   "display_name": "Python 3",
   "language": "python",
   "name": "python3"
  },
  "language_info": {
   "codemirror_mode": {
    "name": "ipython",
    "version": 3
   },
   "file_extension": ".py",
   "mimetype": "text/x-python",
   "name": "python",
   "nbconvert_exporter": "python",
   "pygments_lexer": "ipython3",
   "version": "3.6.5"
  }
 },
 "nbformat": 4,
 "nbformat_minor": 1
}
