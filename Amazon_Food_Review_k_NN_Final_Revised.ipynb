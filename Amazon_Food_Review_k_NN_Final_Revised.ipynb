{
  "nbformat": 4,
  "nbformat_minor": 0,
  "metadata": {
    "colab": {
      "name": "Amazon_Food_Review-k-NN-Final_Revised.ipynb",
      "version": "0.3.2",
      "provenance": [],
      "collapsed_sections": [],
      "include_colab_link": true
    },
    "kernelspec": {
      "name": "python3",
      "display_name": "Python 3"
    },
    "accelerator": "GPU"
  },
  "cells": [
    {
      "cell_type": "markdown",
      "metadata": {
        "id": "view-in-github",
        "colab_type": "text"
      },
      "source": [
        "[View in Colaboratory](https://colab.research.google.com/github/Tejas163/Data-Science/blob/master/Amazon_Food_Review_k_NN_Final_Revised.ipynb)"
      ]
    },
    {
      "metadata": {
        "id": "2DoiGzlZ7S36",
        "colab_type": "text"
      },
      "cell_type": "markdown",
      "source": [
        "# K-NN on Different models-(BagOfWords,TfIDF,AvgWord2Vec,TfIDF Weighted Word2Vec)"
      ]
    },
    {
      "metadata": {
        "id": "J7TMzDo-i5uJ",
        "colab_type": "code",
        "colab": {}
      },
      "cell_type": "code",
      "source": [
        "from google.colab import drive\n",
        "drive.mount('/content/drive')"
      ],
      "execution_count": 0,
      "outputs": []
    },
    {
      "metadata": {
        "id": "b5GZhw2K7S36",
        "colab_type": "code",
        "colab": {}
      },
      "cell_type": "code",
      "source": [
        "%matplotlib inline\n",
        "\n",
        "#import all the modules\n",
        "import sqlite3\n",
        "import numpy as np\n",
        "import pandas as pd\n",
        "import nltk\n",
        "import seaborn as sns\n",
        "\n",
        "from sklearn.feature_extraction.text import TfidfTransformer\n",
        "from sklearn.feature_extraction.text import TfidfVectorizer\n",
        "from sklearn.feature_extraction.text import CountVectorizer\n",
        "from sklearn.metrics import confusion_matrix,accuracy_score\n",
        "from sklearn import metrics\n",
        "from sklearn.manifold import TSNE\n",
        "from nltk.corpus import stopwords\n",
        "from nltk.stem.porter import PorterStemmer\n",
        "from nltk.stem import SnowballStemmer\n",
        "from nltk.stem.wordnet import WordNetLemmatizer\n",
        "from sklearn.neighbors import KNeighborsClassifier\n",
        "from sklearn.model_selection import train_test_split\n",
        "from sklearn.cross_validation import cross_val_score\n",
        "from collections import Counter\n",
        "from sklearn import cross_validation\n",
        "from sklearn.preprocessing import StandardScaler"
      ],
      "execution_count": 0,
      "outputs": []
    },
    {
      "metadata": {
        "id": "oO2IxWKIHvTH",
        "colab_type": "text"
      },
      "cell_type": "markdown",
      "source": [
        "**Preprocessing**"
      ]
    },
    {
      "metadata": {
        "id": "MH3IBgJ1IVPW",
        "colab_type": "code",
        "colab": {
          "base_uri": "https://localhost:8080/",
          "height": 72
        },
        "outputId": "ed6ed751-bf8c-427b-dc0f-e8438629fc0b"
      },
      "cell_type": "code",
      "source": [
        "import nltk\n",
        "nltk.download('stopwords')"
      ],
      "execution_count": 4,
      "outputs": [
        {
          "output_type": "stream",
          "text": [
            "[nltk_data] Downloading package stopwords to /root/nltk_data...\n",
            "[nltk_data]   Unzipping corpora/stopwords.zip.\n"
          ],
          "name": "stdout"
        },
        {
          "output_type": "execute_result",
          "data": {
            "text/plain": [
              "True"
            ]
          },
          "metadata": {
            "tags": []
          },
          "execution_count": 4
        }
      ]
    },
    {
      "metadata": {
        "id": "wEm5AE1CHufo",
        "colab_type": "code",
        "colab": {
          "base_uri": "https://localhost:8080/",
          "height": 55
        },
        "outputId": "855e0e41-2427-48da-e114-3372cdbefc32"
      },
      "cell_type": "code",
      "source": [
        "stop = set(stopwords.words('english')) #set of stopwords\n",
        "sno = nltk.stem.SnowballStemmer('english') #initialising the snowball stemmer\n",
        "\n",
        "def cleanhtml(sentence): #function to clean the word of any html-tags\n",
        "    cleanr = re.compile('<.*?>')\n",
        "    cleantext = re.sub(cleanr, ' ', sentence)\n",
        "    return cleantext\n",
        "def cleanpunc(sentence): #function to clean the word of any punctuation or special characters\n",
        "    cleaned = re.sub(r'[?|!|\\'|\"|#]',r'',sentence)\n",
        "    cleaned = re.sub(r'[.|,|)|(|\\|/]',r' ',cleaned)\n",
        "    return  cleaned\n",
        "print(stop)"
      ],
      "execution_count": 5,
      "outputs": [
        {
          "output_type": "stream",
          "text": [
            "{\"couldn't\", 'we', 'these', 'hers', 'haven', 'y', 'itself', 'further', 'be', 'i', 'there', 'have', 'from', 'had', 'his', 'at', 'shan', 'most', 'ourselves', \"needn't\", 'when', 'same', 'they', 'while', 'very', 'my', \"you'll\", 'through', 'doesn', 'again', 'do', 'nor', 'below', 'wouldn', 'for', 'she', 'does', \"you've\", 'our', 'll', 'what', 'during', 'o', 'by', \"haven't\", 'into', 'ours', 'was', 'm', \"isn't\", 'this', 'until', 'some', 'just', 'which', 'whom', 'other', 'who', 'now', 'yourself', 'aren', \"aren't\", 'them', \"you'd\", \"should've\", 'can', 'did', 'or', 'all', 'isn', \"weren't\", \"hasn't\", 'won', 'to', 'd', 'were', \"hadn't\", \"mightn't\", 'wasn', 'himself', 'and', 'only', 'then', 'too', 'both', 'between', 'themselves', 'myself', 'down', 'didn', 'her', 'it', \"wouldn't\", \"that'll\", 'not', 'ma', 'because', 'but', 'been', 'him', 'mightn', 'being', 'than', 'off', 'how', \"wasn't\", 'such', 'your', 'weren', 't', 'am', 'as', 'yours', \"doesn't\", \"didn't\", 'that', 'own', 'needn', 're', 'over', \"you're\", 'herself', 'each', 'theirs', 'under', 'once', 'more', 'against', 's', \"it's\", \"don't\", 'shouldn', 'having', 'will', 'hadn', 'their', 'so', 'about', 'a', 'with', 'before', 'should', \"mustn't\", 'an', 'if', 'is', 've', 'couldn', 'above', 'up', 'me', 'out', \"she's\", 'of', 'here', 'you', 'are', 'any', 'few', 'where', 'don', 'in', 'no', 'ain', 'on', 'has', 'why', \"won't\", 'he', 'yourselves', 'the', \"shan't\", 'doing', 'mustn', 'hasn', 'those', \"shouldn't\", 'its', 'after'}\n"
          ],
          "name": "stdout"
        }
      ]
    },
    {
      "metadata": {
        "id": "4zAbzKec7S4C",
        "colab_type": "code",
        "colab": {}
      },
      "cell_type": "code",
      "source": [
        "conn=sqlite3.connect('drive/My Drive/final2.sqlite')\n",
        "conn.cursor()\n",
        "conn.commit()\n",
        "conn.text_factory=str\n",
        "#final_data.to_sql('Reviews',conn,schema=None,if_exists='replace')"
      ],
      "execution_count": 0,
      "outputs": []
    },
    {
      "metadata": {
        "id": "OsAbN9I27S4F",
        "colab_type": "code",
        "colab": {}
      },
      "cell_type": "code",
      "source": [
        "fd=pd.read_sql_query(\"\"\"SELECT * FROM REVIEWS\"\"\",conn)"
      ],
      "execution_count": 0,
      "outputs": []
    },
    {
      "metadata": {
        "id": "4xBiMupc7S4H",
        "colab_type": "code",
        "colab": {
          "base_uri": "https://localhost:8080/",
          "height": 727
        },
        "outputId": "a25613da-e9ae-4bdc-b6e4-ed0eadf6dcff"
      },
      "cell_type": "code",
      "source": [
        "fd.head(5)"
      ],
      "execution_count": 8,
      "outputs": [
        {
          "output_type": "execute_result",
          "data": {
            "text/html": [
              "<div>\n",
              "<style scoped>\n",
              "    .dataframe tbody tr th:only-of-type {\n",
              "        vertical-align: middle;\n",
              "    }\n",
              "\n",
              "    .dataframe tbody tr th {\n",
              "        vertical-align: top;\n",
              "    }\n",
              "\n",
              "    .dataframe thead th {\n",
              "        text-align: right;\n",
              "    }\n",
              "</style>\n",
              "<table border=\"1\" class=\"dataframe\">\n",
              "  <thead>\n",
              "    <tr style=\"text-align: right;\">\n",
              "      <th></th>\n",
              "      <th>index</th>\n",
              "      <th>Id</th>\n",
              "      <th>ProductId</th>\n",
              "      <th>UserId</th>\n",
              "      <th>ProfileName</th>\n",
              "      <th>HelpfulnessNumerator</th>\n",
              "      <th>HelpfulnessDenominator</th>\n",
              "      <th>Time</th>\n",
              "      <th>Summary</th>\n",
              "      <th>Text</th>\n",
              "      <th>CleanedText</th>\n",
              "    </tr>\n",
              "  </thead>\n",
              "  <tbody>\n",
              "    <tr>\n",
              "      <th>0</th>\n",
              "      <td>138706</td>\n",
              "      <td>150524</td>\n",
              "      <td>0006641040</td>\n",
              "      <td>ACITT7DI6IDDL</td>\n",
              "      <td>shari zychinski</td>\n",
              "      <td>0</td>\n",
              "      <td>0</td>\n",
              "      <td>939340800</td>\n",
              "      <td>EVERY book is educational</td>\n",
              "      <td>this witty little book makes my son laugh at l...</td>\n",
              "      <td>witti littl book make son laugh loud recit car...</td>\n",
              "    </tr>\n",
              "    <tr>\n",
              "      <th>1</th>\n",
              "      <td>138688</td>\n",
              "      <td>150506</td>\n",
              "      <td>0006641040</td>\n",
              "      <td>A2IW4PEEKO2R0U</td>\n",
              "      <td>Tracy</td>\n",
              "      <td>1</td>\n",
              "      <td>1</td>\n",
              "      <td>1194739200</td>\n",
              "      <td>Love the book, miss the hard cover version</td>\n",
              "      <td>I grew up reading these Sendak books, and watc...</td>\n",
              "      <td>grew read sendak book watch realli rosi movi i...</td>\n",
              "    </tr>\n",
              "    <tr>\n",
              "      <th>2</th>\n",
              "      <td>138689</td>\n",
              "      <td>150507</td>\n",
              "      <td>0006641040</td>\n",
              "      <td>A1S4A3IQ2MU7V4</td>\n",
              "      <td>sally sue \"sally sue\"</td>\n",
              "      <td>1</td>\n",
              "      <td>1</td>\n",
              "      <td>1191456000</td>\n",
              "      <td>chicken soup with rice months</td>\n",
              "      <td>This is a fun way for children to learn their ...</td>\n",
              "      <td>fun way children learn month year learn poem t...</td>\n",
              "    </tr>\n",
              "    <tr>\n",
              "      <th>3</th>\n",
              "      <td>138690</td>\n",
              "      <td>150508</td>\n",
              "      <td>0006641040</td>\n",
              "      <td>AZGXZ2UUK6X</td>\n",
              "      <td>Catherine Hallberg \"(Kate)\"</td>\n",
              "      <td>1</td>\n",
              "      <td>1</td>\n",
              "      <td>1076025600</td>\n",
              "      <td>a good swingy rhythm for reading aloud</td>\n",
              "      <td>This is a great little book to read aloud- it ...</td>\n",
              "      <td>great littl book read nice rhythm well good re...</td>\n",
              "    </tr>\n",
              "    <tr>\n",
              "      <th>4</th>\n",
              "      <td>138691</td>\n",
              "      <td>150509</td>\n",
              "      <td>0006641040</td>\n",
              "      <td>A3CMRKGE0P909G</td>\n",
              "      <td>Teresa</td>\n",
              "      <td>3</td>\n",
              "      <td>4</td>\n",
              "      <td>1018396800</td>\n",
              "      <td>A great way to learn the months</td>\n",
              "      <td>This is a book of poetry about the months of t...</td>\n",
              "      <td>book poetri month year goe month cute littl po...</td>\n",
              "    </tr>\n",
              "  </tbody>\n",
              "</table>\n",
              "</div>"
            ],
            "text/plain": [
              "    index      Id   ProductId          UserId                  ProfileName  \\\n",
              "0  138706  150524  0006641040   ACITT7DI6IDDL              shari zychinski   \n",
              "1  138688  150506  0006641040  A2IW4PEEKO2R0U                        Tracy   \n",
              "2  138689  150507  0006641040  A1S4A3IQ2MU7V4        sally sue \"sally sue\"   \n",
              "3  138690  150508  0006641040     AZGXZ2UUK6X  Catherine Hallberg \"(Kate)\"   \n",
              "4  138691  150509  0006641040  A3CMRKGE0P909G                       Teresa   \n",
              "\n",
              "   HelpfulnessNumerator  HelpfulnessDenominator        Time  \\\n",
              "0                     0                       0   939340800   \n",
              "1                     1                       1  1194739200   \n",
              "2                     1                       1  1191456000   \n",
              "3                     1                       1  1076025600   \n",
              "4                     3                       4  1018396800   \n",
              "\n",
              "                                      Summary  \\\n",
              "0                   EVERY book is educational   \n",
              "1  Love the book, miss the hard cover version   \n",
              "2               chicken soup with rice months   \n",
              "3      a good swingy rhythm for reading aloud   \n",
              "4             A great way to learn the months   \n",
              "\n",
              "                                                Text  \\\n",
              "0  this witty little book makes my son laugh at l...   \n",
              "1  I grew up reading these Sendak books, and watc...   \n",
              "2  This is a fun way for children to learn their ...   \n",
              "3  This is a great little book to read aloud- it ...   \n",
              "4  This is a book of poetry about the months of t...   \n",
              "\n",
              "                                         CleanedText  \n",
              "0  witti littl book make son laugh loud recit car...  \n",
              "1  grew read sendak book watch realli rosi movi i...  \n",
              "2  fun way children learn month year learn poem t...  \n",
              "3  great littl book read nice rhythm well good re...  \n",
              "4  book poetri month year goe month cute littl po...  "
            ]
          },
          "metadata": {
            "tags": []
          },
          "execution_count": 8
        }
      ]
    },
    {
      "metadata": {
        "id": "9v24Kfo97S4L",
        "colab_type": "code",
        "colab": {}
      },
      "cell_type": "code",
      "source": [
        "conn2=sqlite3.connect('drive/My Drive/final.sqlite')"
      ],
      "execution_count": 0,
      "outputs": []
    },
    {
      "metadata": {
        "id": "b4pflpvV7S4O",
        "colab_type": "code",
        "colab": {}
      },
      "cell_type": "code",
      "source": [
        "label_df=pd.read_sql_query(\"\"\"SELECT * FROM REVIEWS\"\"\",conn2)"
      ],
      "execution_count": 0,
      "outputs": []
    },
    {
      "metadata": {
        "id": "hp_Yg4lW7S4R",
        "colab_type": "code",
        "colab": {
          "base_uri": "https://localhost:8080/",
          "height": 629
        },
        "outputId": "aa247a09-1aef-43ff-c421-2154e2ad8ad8"
      },
      "cell_type": "code",
      "source": [
        "label_df.head(4)"
      ],
      "execution_count": 11,
      "outputs": [
        {
          "output_type": "execute_result",
          "data": {
            "text/html": [
              "<div>\n",
              "<style scoped>\n",
              "    .dataframe tbody tr th:only-of-type {\n",
              "        vertical-align: middle;\n",
              "    }\n",
              "\n",
              "    .dataframe tbody tr th {\n",
              "        vertical-align: top;\n",
              "    }\n",
              "\n",
              "    .dataframe thead th {\n",
              "        text-align: right;\n",
              "    }\n",
              "</style>\n",
              "<table border=\"1\" class=\"dataframe\">\n",
              "  <thead>\n",
              "    <tr style=\"text-align: right;\">\n",
              "      <th></th>\n",
              "      <th>index</th>\n",
              "      <th>Id</th>\n",
              "      <th>ProductId</th>\n",
              "      <th>UserId</th>\n",
              "      <th>ProfileName</th>\n",
              "      <th>HelpfulnessNumerator</th>\n",
              "      <th>HelpfulnessDenominator</th>\n",
              "      <th>Score</th>\n",
              "      <th>Time</th>\n",
              "      <th>Summary</th>\n",
              "      <th>Text</th>\n",
              "      <th>CleanedText</th>\n",
              "    </tr>\n",
              "  </thead>\n",
              "  <tbody>\n",
              "    <tr>\n",
              "      <th>0</th>\n",
              "      <td>138706</td>\n",
              "      <td>150524</td>\n",
              "      <td>0006641040</td>\n",
              "      <td>ACITT7DI6IDDL</td>\n",
              "      <td>shari zychinski</td>\n",
              "      <td>0</td>\n",
              "      <td>0</td>\n",
              "      <td>Positive</td>\n",
              "      <td>939340800</td>\n",
              "      <td>EVERY book is educational</td>\n",
              "      <td>this witty little book makes my son laugh at l...</td>\n",
              "      <td>witti littl book make son laugh loud recit car...</td>\n",
              "    </tr>\n",
              "    <tr>\n",
              "      <th>1</th>\n",
              "      <td>138688</td>\n",
              "      <td>150506</td>\n",
              "      <td>0006641040</td>\n",
              "      <td>A2IW4PEEKO2R0U</td>\n",
              "      <td>Tracy</td>\n",
              "      <td>1</td>\n",
              "      <td>1</td>\n",
              "      <td>Positive</td>\n",
              "      <td>1194739200</td>\n",
              "      <td>Love the book, miss the hard cover version</td>\n",
              "      <td>I grew up reading these Sendak books, and watc...</td>\n",
              "      <td>grew read sendak book watch realli rosi movi i...</td>\n",
              "    </tr>\n",
              "    <tr>\n",
              "      <th>2</th>\n",
              "      <td>138689</td>\n",
              "      <td>150507</td>\n",
              "      <td>0006641040</td>\n",
              "      <td>A1S4A3IQ2MU7V4</td>\n",
              "      <td>sally sue \"sally sue\"</td>\n",
              "      <td>1</td>\n",
              "      <td>1</td>\n",
              "      <td>Positive</td>\n",
              "      <td>1191456000</td>\n",
              "      <td>chicken soup with rice months</td>\n",
              "      <td>This is a fun way for children to learn their ...</td>\n",
              "      <td>fun way children learn month year learn poem t...</td>\n",
              "    </tr>\n",
              "    <tr>\n",
              "      <th>3</th>\n",
              "      <td>138690</td>\n",
              "      <td>150508</td>\n",
              "      <td>0006641040</td>\n",
              "      <td>AZGXZ2UUK6X</td>\n",
              "      <td>Catherine Hallberg \"(Kate)\"</td>\n",
              "      <td>1</td>\n",
              "      <td>1</td>\n",
              "      <td>Positive</td>\n",
              "      <td>1076025600</td>\n",
              "      <td>a good swingy rhythm for reading aloud</td>\n",
              "      <td>This is a great little book to read aloud- it ...</td>\n",
              "      <td>great littl book read nice rhythm well good re...</td>\n",
              "    </tr>\n",
              "  </tbody>\n",
              "</table>\n",
              "</div>"
            ],
            "text/plain": [
              "    index      Id   ProductId          UserId                  ProfileName  \\\n",
              "0  138706  150524  0006641040   ACITT7DI6IDDL              shari zychinski   \n",
              "1  138688  150506  0006641040  A2IW4PEEKO2R0U                        Tracy   \n",
              "2  138689  150507  0006641040  A1S4A3IQ2MU7V4        sally sue \"sally sue\"   \n",
              "3  138690  150508  0006641040     AZGXZ2UUK6X  Catherine Hallberg \"(Kate)\"   \n",
              "\n",
              "   HelpfulnessNumerator  HelpfulnessDenominator     Score        Time  \\\n",
              "0                     0                       0  Positive   939340800   \n",
              "1                     1                       1  Positive  1194739200   \n",
              "2                     1                       1  Positive  1191456000   \n",
              "3                     1                       1  Positive  1076025600   \n",
              "\n",
              "                                      Summary  \\\n",
              "0                   EVERY book is educational   \n",
              "1  Love the book, miss the hard cover version   \n",
              "2               chicken soup with rice months   \n",
              "3      a good swingy rhythm for reading aloud   \n",
              "\n",
              "                                                Text  \\\n",
              "0  this witty little book makes my son laugh at l...   \n",
              "1  I grew up reading these Sendak books, and watc...   \n",
              "2  This is a fun way for children to learn their ...   \n",
              "3  This is a great little book to read aloud- it ...   \n",
              "\n",
              "                                         CleanedText  \n",
              "0  witti littl book make son laugh loud recit car...  \n",
              "1  grew read sendak book watch realli rosi movi i...  \n",
              "2  fun way children learn month year learn poem t...  \n",
              "3  great littl book read nice rhythm well good re...  "
            ]
          },
          "metadata": {
            "tags": []
          },
          "execution_count": 11
        }
      ]
    },
    {
      "metadata": {
        "id": "juFX03cA7S4U",
        "colab_type": "code",
        "colab": {}
      },
      "cell_type": "code",
      "source": [
        "label_df=label_df.sort_values('Time',axis=0,inplace=False,kind='quicksort')"
      ],
      "execution_count": 0,
      "outputs": []
    },
    {
      "metadata": {
        "id": "ui9knAyl7S4X",
        "colab_type": "code",
        "colab": {
          "base_uri": "https://localhost:8080/",
          "height": 35
        },
        "outputId": "61d9dee1-4b34-4d93-f478-d63ef9551425"
      },
      "cell_type": "code",
      "source": [
        "label_df.shape"
      ],
      "execution_count": 9,
      "outputs": [
        {
          "output_type": "execute_result",
          "data": {
            "text/plain": [
              "(364173, 12)"
            ]
          },
          "metadata": {
            "tags": []
          },
          "execution_count": 9
        }
      ]
    },
    {
      "metadata": {
        "id": "m4lzBMyk7S4c",
        "colab_type": "code",
        "colab": {}
      },
      "cell_type": "code",
      "source": [
        "fd=fd.sort_values('Time',axis=0,inplace=False,kind='quicksort')"
      ],
      "execution_count": 0,
      "outputs": []
    },
    {
      "metadata": {
        "id": "oWIf8UdM7S4e",
        "colab_type": "code",
        "colab": {
          "base_uri": "https://localhost:8080/",
          "height": 372
        },
        "outputId": "c8bd06b2-d104-486a-ca62-c4153481dc81"
      },
      "cell_type": "code",
      "source": [
        "fd.head(3)"
      ],
      "execution_count": 11,
      "outputs": [
        {
          "output_type": "execute_result",
          "data": {
            "text/html": [
              "<div>\n",
              "<style scoped>\n",
              "    .dataframe tbody tr th:only-of-type {\n",
              "        vertical-align: middle;\n",
              "    }\n",
              "\n",
              "    .dataframe tbody tr th {\n",
              "        vertical-align: top;\n",
              "    }\n",
              "\n",
              "    .dataframe thead th {\n",
              "        text-align: right;\n",
              "    }\n",
              "</style>\n",
              "<table border=\"1\" class=\"dataframe\">\n",
              "  <thead>\n",
              "    <tr style=\"text-align: right;\">\n",
              "      <th></th>\n",
              "      <th>index</th>\n",
              "      <th>Id</th>\n",
              "      <th>ProductId</th>\n",
              "      <th>UserId</th>\n",
              "      <th>ProfileName</th>\n",
              "      <th>HelpfulnessNumerator</th>\n",
              "      <th>HelpfulnessDenominator</th>\n",
              "      <th>Time</th>\n",
              "      <th>Summary</th>\n",
              "      <th>Text</th>\n",
              "      <th>CleanedText</th>\n",
              "    </tr>\n",
              "  </thead>\n",
              "  <tbody>\n",
              "    <tr>\n",
              "      <th>0</th>\n",
              "      <td>138706</td>\n",
              "      <td>150524</td>\n",
              "      <td>0006641040</td>\n",
              "      <td>ACITT7DI6IDDL</td>\n",
              "      <td>shari zychinski</td>\n",
              "      <td>0</td>\n",
              "      <td>0</td>\n",
              "      <td>939340800</td>\n",
              "      <td>EVERY book is educational</td>\n",
              "      <td>this witty little book makes my son laugh at l...</td>\n",
              "      <td>witti littl book make son laugh loud recit car...</td>\n",
              "    </tr>\n",
              "    <tr>\n",
              "      <th>30</th>\n",
              "      <td>138683</td>\n",
              "      <td>150501</td>\n",
              "      <td>0006641040</td>\n",
              "      <td>AJ46FKXOVC7NR</td>\n",
              "      <td>Nicholas A Mesiano</td>\n",
              "      <td>2</td>\n",
              "      <td>2</td>\n",
              "      <td>940809600</td>\n",
              "      <td>This whole series is great way to spend time w...</td>\n",
              "      <td>I can remember seeing the show when it aired o...</td>\n",
              "      <td>rememb see show air televis year ago child sis...</td>\n",
              "    </tr>\n",
              "    <tr>\n",
              "      <th>424</th>\n",
              "      <td>417839</td>\n",
              "      <td>451856</td>\n",
              "      <td>B00004CXX9</td>\n",
              "      <td>AIUWLEQ1ADEG5</td>\n",
              "      <td>Elizabeth Medina</td>\n",
              "      <td>0</td>\n",
              "      <td>0</td>\n",
              "      <td>944092800</td>\n",
              "      <td>Entertainingl Funny!</td>\n",
              "      <td>Beetlejuice is a well written movie ..... ever...</td>\n",
              "      <td>beetlejuic well written movi everyth excel act...</td>\n",
              "    </tr>\n",
              "  </tbody>\n",
              "</table>\n",
              "</div>"
            ],
            "text/plain": [
              "      index      Id   ProductId         UserId         ProfileName  \\\n",
              "0    138706  150524  0006641040  ACITT7DI6IDDL     shari zychinski   \n",
              "30   138683  150501  0006641040  AJ46FKXOVC7NR  Nicholas A Mesiano   \n",
              "424  417839  451856  B00004CXX9  AIUWLEQ1ADEG5    Elizabeth Medina   \n",
              "\n",
              "     HelpfulnessNumerator  HelpfulnessDenominator       Time  \\\n",
              "0                       0                       0  939340800   \n",
              "30                      2                       2  940809600   \n",
              "424                     0                       0  944092800   \n",
              "\n",
              "                                               Summary  \\\n",
              "0                            EVERY book is educational   \n",
              "30   This whole series is great way to spend time w...   \n",
              "424                               Entertainingl Funny!   \n",
              "\n",
              "                                                  Text  \\\n",
              "0    this witty little book makes my son laugh at l...   \n",
              "30   I can remember seeing the show when it aired o...   \n",
              "424  Beetlejuice is a well written movie ..... ever...   \n",
              "\n",
              "                                           CleanedText  \n",
              "0    witti littl book make son laugh loud recit car...  \n",
              "30   rememb see show air televis year ago child sis...  \n",
              "424  beetlejuic well written movi everyth excel act...  "
            ]
          },
          "metadata": {
            "tags": []
          },
          "execution_count": 11
        }
      ]
    },
    {
      "metadata": {
        "id": "9QNumw8K7S4h",
        "colab_type": "text"
      },
      "cell_type": "markdown",
      "source": [
        "# Since we have not much of RAM we are working on select set of samples"
      ]
    },
    {
      "metadata": {
        "id": "53JHN7ib6nC5",
        "colab_type": "code",
        "colab": {
          "base_uri": "https://localhost:8080/",
          "height": 35
        },
        "outputId": "47f34616-fc71-4bf2-eb47-02b29e83070e"
      },
      "cell_type": "code",
      "source": [
        "d_pos=label_df[label_df[\"Score\"] == 'Positive'].sample(n=25000)\n",
        "d_neg=label_df[label_df[\"Score\"] == 'Negative'].sample(n=25000)\n",
        "finald=pd.concat([d_pos,d_neg])\n",
        "finald.shape"
      ],
      "execution_count": 14,
      "outputs": [
        {
          "output_type": "execute_result",
          "data": {
            "text/plain": [
              "(50000, 12)"
            ]
          },
          "metadata": {
            "tags": []
          },
          "execution_count": 14
        }
      ]
    },
    {
      "metadata": {
        "id": "qYR2dXOCBdpb",
        "colab_type": "code",
        "colab": {
          "base_uri": "https://localhost:8080/",
          "height": 355
        },
        "outputId": "24d80488-3a80-468c-8bf3-110d4e5fcbc4"
      },
      "cell_type": "code",
      "source": [
        "finald.head(2)\n",
        "final_d=finald.sort_values(by='Time')\n",
        "final_d.head(3)"
      ],
      "execution_count": 15,
      "outputs": [
        {
          "output_type": "execute_result",
          "data": {
            "text/html": [
              "<div>\n",
              "<style scoped>\n",
              "    .dataframe tbody tr th:only-of-type {\n",
              "        vertical-align: middle;\n",
              "    }\n",
              "\n",
              "    .dataframe tbody tr th {\n",
              "        vertical-align: top;\n",
              "    }\n",
              "\n",
              "    .dataframe thead th {\n",
              "        text-align: right;\n",
              "    }\n",
              "</style>\n",
              "<table border=\"1\" class=\"dataframe\">\n",
              "  <thead>\n",
              "    <tr style=\"text-align: right;\">\n",
              "      <th></th>\n",
              "      <th>index</th>\n",
              "      <th>Id</th>\n",
              "      <th>ProductId</th>\n",
              "      <th>UserId</th>\n",
              "      <th>ProfileName</th>\n",
              "      <th>HelpfulnessNumerator</th>\n",
              "      <th>HelpfulnessDenominator</th>\n",
              "      <th>Score</th>\n",
              "      <th>Time</th>\n",
              "      <th>Summary</th>\n",
              "      <th>Text</th>\n",
              "      <th>CleanedText</th>\n",
              "    </tr>\n",
              "  </thead>\n",
              "  <tbody>\n",
              "    <tr>\n",
              "      <th>261</th>\n",
              "      <td>346141</td>\n",
              "      <td>374450</td>\n",
              "      <td>B00004CI84</td>\n",
              "      <td>ACJR7EQF9S6FP</td>\n",
              "      <td>Jeremy Robertson</td>\n",
              "      <td>2</td>\n",
              "      <td>3</td>\n",
              "      <td>Positive</td>\n",
              "      <td>951523200</td>\n",
              "      <td>Bettlejuice...Bettlejuice...BETTLEJUICE!</td>\n",
              "      <td>What happens when you say his name three times...</td>\n",
              "      <td>happen say name three time michael keaten star...</td>\n",
              "    </tr>\n",
              "    <tr>\n",
              "      <th>425</th>\n",
              "      <td>417901</td>\n",
              "      <td>451923</td>\n",
              "      <td>B00004CXX9</td>\n",
              "      <td>ANIMV3SPDD8SH</td>\n",
              "      <td>Guy De Federicis</td>\n",
              "      <td>1</td>\n",
              "      <td>12</td>\n",
              "      <td>Negative</td>\n",
              "      <td>992217600</td>\n",
              "      <td>CASPER IS THE GHOST WITH THE MOST</td>\n",
              "      <td>Michael Keaton brings no distinguishing charac...</td>\n",
              "      <td>michael keaton bring distinguish characterist ...</td>\n",
              "    </tr>\n",
              "    <tr>\n",
              "      <th>252</th>\n",
              "      <td>346112</td>\n",
              "      <td>374418</td>\n",
              "      <td>B00004CI84</td>\n",
              "      <td>A2E1UPR4LZJSF2</td>\n",
              "      <td>Ashley</td>\n",
              "      <td>2</td>\n",
              "      <td>2</td>\n",
              "      <td>Positive</td>\n",
              "      <td>1023235200</td>\n",
              "      <td>Beetlejuice! Beetlejuice! Beetlejuice!</td>\n",
              "      <td>What can I say? This is a CLASSIC! I've seen t...</td>\n",
              "      <td>say classic ive seen movi mani time actual wor...</td>\n",
              "    </tr>\n",
              "  </tbody>\n",
              "</table>\n",
              "</div>"
            ],
            "text/plain": [
              "      index      Id   ProductId          UserId       ProfileName  \\\n",
              "261  346141  374450  B00004CI84   ACJR7EQF9S6FP  Jeremy Robertson   \n",
              "425  417901  451923  B00004CXX9   ANIMV3SPDD8SH  Guy De Federicis   \n",
              "252  346112  374418  B00004CI84  A2E1UPR4LZJSF2            Ashley   \n",
              "\n",
              "     HelpfulnessNumerator  HelpfulnessDenominator     Score        Time  \\\n",
              "261                     2                       3  Positive   951523200   \n",
              "425                     1                      12  Negative   992217600   \n",
              "252                     2                       2  Positive  1023235200   \n",
              "\n",
              "                                      Summary  \\\n",
              "261  Bettlejuice...Bettlejuice...BETTLEJUICE!   \n",
              "425         CASPER IS THE GHOST WITH THE MOST   \n",
              "252    Beetlejuice! Beetlejuice! Beetlejuice!   \n",
              "\n",
              "                                                  Text  \\\n",
              "261  What happens when you say his name three times...   \n",
              "425  Michael Keaton brings no distinguishing charac...   \n",
              "252  What can I say? This is a CLASSIC! I've seen t...   \n",
              "\n",
              "                                           CleanedText  \n",
              "261  happen say name three time michael keaten star...  \n",
              "425  michael keaton bring distinguish characterist ...  \n",
              "252  say classic ive seen movi mani time actual wor...  "
            ]
          },
          "metadata": {
            "tags": []
          },
          "execution_count": 15
        }
      ]
    },
    {
      "metadata": {
        "id": "lGgrwIFo7S4s",
        "colab_type": "text"
      },
      "cell_type": "markdown",
      "source": [
        "# Bag Of Words KNN"
      ]
    },
    {
      "metadata": {
        "id": "Vwjloe9p7S4m",
        "colab_type": "code",
        "colab": {
          "base_uri": "https://localhost:8080/",
          "height": 35
        },
        "outputId": "07acf7a9-4e5b-42c1-b672-92e5dc9bd0d2"
      },
      "cell_type": "code",
      "source": [
        "X=final_d[\"CleanedText\"]\n",
        "X.shape"
      ],
      "execution_count": 48,
      "outputs": [
        {
          "output_type": "execute_result",
          "data": {
            "text/plain": [
              "(50000,)"
            ]
          },
          "metadata": {
            "tags": []
          },
          "execution_count": 48
        }
      ]
    },
    {
      "metadata": {
        "id": "ZxlSiPtrChCD",
        "colab_type": "code",
        "colab": {
          "base_uri": "https://localhost:8080/",
          "height": 35
        },
        "outputId": "9238abf5-5a57-4805-8073-c40003f8db9b"
      },
      "cell_type": "code",
      "source": [
        "y=final_d[\"Score\"]\n",
        "y.shape"
      ],
      "execution_count": 49,
      "outputs": [
        {
          "output_type": "execute_result",
          "data": {
            "text/plain": [
              "(50000,)"
            ]
          },
          "metadata": {
            "tags": []
          },
          "execution_count": 49
        }
      ]
    },
    {
      "metadata": {
        "id": "ZEkQhjkNpf4N",
        "colab_type": "text"
      },
      "cell_type": "markdown",
      "source": [
        "#Train and Test Split for the preprocessed text"
      ]
    },
    {
      "metadata": {
        "id": "_rIpgE1V7S4z",
        "colab_type": "code",
        "colab": {}
      },
      "cell_type": "code",
      "source": [
        "#split the data into train and test fo bag of words\n",
        "\n",
        "X_train,X_test,Y_train,Y_test=cross_validation.train_test_split(X,y,test_size=0.3,random_state=0)\n",
        "#split train into cross val train and cross val test\n",
        "X_t,X_cv,Y_t,Y_cv=cross_validation.train_test_split(X_train,Y_train,test_size=0.3)"
      ],
      "execution_count": 0,
      "outputs": []
    },
    {
      "metadata": {
        "id": "3Dy6Cyds5pEh",
        "colab_type": "code",
        "colab": {
          "base_uri": "https://localhost:8080/",
          "height": 35
        },
        "outputId": "7726671c-f766-40e0-845b-2cd350285fd6"
      },
      "cell_type": "code",
      "source": [
        "print(X_train.shape,X_test.shape,Y_train.shape,Y_test.shape)"
      ],
      "execution_count": 17,
      "outputs": [
        {
          "output_type": "stream",
          "text": [
            "(35000,) (15000,) (35000,) (15000,)\n"
          ],
          "name": "stdout"
        }
      ]
    },
    {
      "metadata": {
        "id": "nuu3LXzfr2Ev",
        "colab_type": "text"
      },
      "cell_type": "markdown",
      "source": [
        "**Bag of Words**"
      ]
    },
    {
      "metadata": {
        "id": "zrmQ-Uho7S4t",
        "colab_type": "code",
        "colab": {
          "base_uri": "https://localhost:8080/",
          "height": 92
        },
        "outputId": "529086fd-34ed-4d44-c20c-5bed79a9fc90"
      },
      "cell_type": "code",
      "source": [
        "#Bag of Words\n",
        "BoW=CountVectorizer()\n",
        "X_train=BoW.fit_transform(X_train)\n",
        "X_train=StandardScaler(with_mean=False).fit_transform(X_train)\n",
        "x_test=BoW.transform(X_test)\n",
        "\n",
        "print(\"the type of count vectorizer is:\",type(X_train))\n",
        "X_train.get_shape()\n",
        "X_test=StandardScaler(with_mean=False).fit_transform(x_test)"
      ],
      "execution_count": 18,
      "outputs": [
        {
          "output_type": "stream",
          "text": [
            "/usr/local/lib/python3.6/dist-packages/sklearn/utils/validation.py:475: DataConversionWarning: Data with input dtype int64 was converted to float64 by StandardScaler.\n",
            "  warnings.warn(msg, DataConversionWarning)\n"
          ],
          "name": "stderr"
        },
        {
          "output_type": "stream",
          "text": [
            "the type of count vectorizer is: <class 'scipy.sparse.csr.csr_matrix'>\n"
          ],
          "name": "stdout"
        }
      ]
    },
    {
      "metadata": {
        "id": "HErSdix_7S47",
        "colab_type": "code",
        "colab": {
          "base_uri": "https://localhost:8080/",
          "height": 35
        },
        "outputId": "fb1d226c-96c9-4526-c7fd-2d5161f471f9"
      },
      "cell_type": "code",
      "source": [
        "X_test.shape"
      ],
      "execution_count": 20,
      "outputs": [
        {
          "output_type": "execute_result",
          "data": {
            "text/plain": [
              "(15000, 30161)"
            ]
          },
          "metadata": {
            "tags": []
          },
          "execution_count": 20
        }
      ]
    },
    {
      "metadata": {
        "id": "YsPpRbh77S4-",
        "colab_type": "code",
        "colab": {
          "base_uri": "https://localhost:8080/",
          "height": 35
        },
        "outputId": "9812f161-11e1-4c54-f1ac-281910350f58"
      },
      "cell_type": "code",
      "source": [
        "Y_test.shape"
      ],
      "execution_count": 19,
      "outputs": [
        {
          "output_type": "execute_result",
          "data": {
            "text/plain": [
              "(15000,)"
            ]
          },
          "metadata": {
            "tags": []
          },
          "execution_count": 19
        }
      ]
    },
    {
      "metadata": {
        "id": "mUm9BSzIpvq-",
        "colab_type": "text"
      },
      "cell_type": "markdown",
      "source": [
        "# Optimal K"
      ]
    },
    {
      "metadata": {
        "id": "19Soa2M-7S5M",
        "colab_type": "code",
        "colab": {
          "base_uri": "https://localhost:8080/",
          "height": 54
        },
        "outputId": "dabac171-61c2-4244-e5de-6f24c642665e"
      },
      "cell_type": "code",
      "source": [
        "#with either k=8 or 9 we get best accuracy for test to be 91%,now with 10 fold cross validation we have to see if our ccuracy improves\n",
        "\n",
        "n_list=list(range(0,20))\n",
        "neighb=list(filter(lambda x: x % 2 != 0, n_list))\n",
        "#create a list of cross-val scores\n",
        "scores_cv=[]\n",
        "for k in neighb:\n",
        "    knn=KNeighborsClassifier(n_neighbors=k)\n",
        "    scores=cross_val_score(knn,X_train,Y_train,cv=10,scoring='accuracy')\n",
        "    scores_cv.append(scores.mean())\n",
        "\n",
        "#Find misclassification error(i.e)how much data is misclassified\n",
        "\n",
        "MSE=[1-x for x in scores_cv]\n",
        "\n",
        "#find optimal k\n",
        "\n",
        "optimal_k=neighb[MSE.index(min(MSE))]\n",
        "print('\\n the optimal k is %d.' % optimal_k)\n",
        "\n"
      ],
      "execution_count": 23,
      "outputs": [
        {
          "output_type": "stream",
          "text": [
            "\n",
            " the optimal k is 13.\n"
          ],
          "name": "stdout"
        }
      ]
    },
    {
      "metadata": {
        "id": "rnnUpmCr7S5R",
        "colab_type": "code",
        "colab": {
          "base_uri": "https://localhost:8080/",
          "height": 54
        },
        "outputId": "939c2415-d28d-49b0-b27f-3c6c30567237"
      },
      "cell_type": "code",
      "source": [
        "#KNN with optimal k and test accuracy for bag of words\n",
        "from sklearn.neighbors import KNeighborsClassifier\n",
        "knn_opt=KNeighborsClassifier(n_neighbors=optimal_k)\n",
        "#fit the model\n",
        "knn_opt.fit(X_train,Y_train)\n",
        "#predict the model\n",
        "prediction=knn_opt.predict(X_test)\n",
        "\n",
        "#the accuracy score\n",
        "acc_score=accuracy_score(Y_test,prediction)* 100\n",
        "print('\\n the accuracy score for bag of words model with optimal k=%d is %f%%' %(optimal_k,acc_score))"
      ],
      "execution_count": 24,
      "outputs": [
        {
          "output_type": "stream",
          "text": [
            "\n",
            " the accuracy score for bag of words model with optimal k=13 is 70.606667%\n"
          ],
          "name": "stdout"
        }
      ]
    },
    {
      "metadata": {
        "id": "GQeCSgssGbZD",
        "colab_type": "code",
        "colab": {
          "base_uri": "https://localhost:8080/",
          "height": 369
        },
        "outputId": "228b19a7-02c8-4f88-de73-8d2debd7a8ef"
      },
      "cell_type": "code",
      "source": [
        "conf_matr_df = pd.DataFrame(confusion_matrix(Y_test, prediction), range(2),range(2))\n",
        "sns.set(font_scale=1.4)#for label size\n",
        "sns.heatmap(conf_matr_df, annot=True,annot_kws={\"size\": 16}, fmt='g')"
      ],
      "execution_count": 25,
      "outputs": [
        {
          "output_type": "execute_result",
          "data": {
            "text/plain": [
              "<matplotlib.axes._subplots.AxesSubplot at 0x7f095d2c58d0>"
            ]
          },
          "metadata": {
            "tags": []
          },
          "execution_count": 25
        },
        {
          "output_type": "display_data",
          "data": {
            "image/png": "[encoded data removed]",
            "text/plain": [
              "<matplotlib.figure.Figure at 0x7f094dd08278>"
            ]
          },
          "metadata": {
            "tags": []
          }
        }
      ]
    },
    {
      "metadata": {
        "id": "yREFOAqcvZWu",
        "colab_type": "code",
        "colab": {
          "base_uri": "https://localhost:8080/",
          "height": 54
        },
        "outputId": "6abf2102-d394-4947-98a7-57a18fb5a7b5"
      },
      "cell_type": "code",
      "source": [
        "precision=6197/(6197+1283)\n",
        "print(precision)\n",
        "recall=6197/(6197+3126)\n",
        "print(recall)"
      ],
      "execution_count": 52,
      "outputs": [
        {
          "output_type": "stream",
          "text": [
            "0.828475935828877\n",
            "0.6647002037970611\n"
          ],
          "name": "stdout"
        }
      ]
    },
    {
      "metadata": {
        "id": "F4sc7d48rZ3v",
        "colab_type": "text"
      },
      "cell_type": "markdown",
      "source": [
        "Observations:\n",
        "Precision for BoW:62%\n",
        "recall for BoW:66%"
      ]
    },
    {
      "metadata": {
        "id": "YuA3j4tw7S5U",
        "colab_type": "text"
      },
      "cell_type": "markdown",
      "source": [
        "# TF-IDF KNN"
      ]
    },
    {
      "metadata": {
        "id": "k5zYZcfptYWA",
        "colab_type": "code",
        "colab": {}
      },
      "cell_type": "code",
      "source": [
        "X_train,X_test,Y_train,Y_test=cross_validation.train_test_split(X,y,test_size=0.3,random_state=0)\n",
        "#split train into cross val train and cross val test\n",
        "X_t,X_cv,Y_t,Y_cv=cross_validation.train_test_split(X_train,Y_train,test_size=0.3)"
      ],
      "execution_count": 0,
      "outputs": []
    },
    {
      "metadata": {
        "id": "qanJo7QQ7S5V",
        "colab_type": "code",
        "colab": {
          "base_uri": "https://localhost:8080/",
          "height": 35
        },
        "outputId": "d155a1fd-ebb3-4a78-be7d-20d8d3893861"
      },
      "cell_type": "code",
      "source": [
        "tf_idf_vect=TfidfVectorizer()\n",
        "final_tf_idf_vect=tf_idf_vect.fit_transform(X_train)\n",
        "final_test_tfidf_vect=tf_idf_vect.transform(X_test)\n",
        "X_train=StandardScaler(with_mean=False).fit_transform(final_tf_idf_vect)\n",
        "X_test=StandardScaler(with_mean=False).fit_transform(final_test_tfidf_vect)\n",
        "final_tf_idf_vect.get_shape(),final_test_tfidf_vect.get_shape()\n",
        "print(X_train.shape,X_test.shape)"
      ],
      "execution_count": 59,
      "outputs": [
        {
          "output_type": "stream",
          "text": [
            "(35000, 30224) (15000, 30224)\n"
          ],
          "name": "stdout"
        }
      ]
    },
    {
      "metadata": {
        "id": "4HphCnAk7S5g",
        "colab_type": "code",
        "colab": {
          "base_uri": "https://localhost:8080/",
          "height": 35
        },
        "outputId": "65c11be8-b4d2-4dd1-c8e9-da84af302f29"
      },
      "cell_type": "code",
      "source": [
        "X_test.shape"
      ],
      "execution_count": 34,
      "outputs": [
        {
          "output_type": "execute_result",
          "data": {
            "text/plain": [
              "(15000, 30161)"
            ]
          },
          "metadata": {
            "tags": []
          },
          "execution_count": 34
        }
      ]
    },
    {
      "metadata": {
        "id": "KbJbseHM7S5k",
        "colab_type": "code",
        "colab": {
          "base_uri": "https://localhost:8080/",
          "height": 35
        },
        "outputId": "133b405e-2315-49ec-953c-813bf5531dea"
      },
      "cell_type": "code",
      "source": [
        "Y_test.shape"
      ],
      "execution_count": 35,
      "outputs": [
        {
          "output_type": "execute_result",
          "data": {
            "text/plain": [
              "(15000,)"
            ]
          },
          "metadata": {
            "tags": []
          },
          "execution_count": 35
        }
      ]
    },
    {
      "metadata": {
        "id": "SmWVG_ZZt0r_",
        "colab_type": "text"
      },
      "cell_type": "markdown",
      "source": [
        "**Optimal K**"
      ]
    },
    {
      "metadata": {
        "id": "Dw_KuoDl7S5v",
        "colab_type": "code",
        "colab": {
          "base_uri": "https://localhost:8080/",
          "height": 54
        },
        "outputId": "461a5f98-7c87-40b3-b9f4-39b34668c2d0"
      },
      "cell_type": "code",
      "source": [
        "#for finding optimal k with odd list for neighbors\n",
        "n_list=list(range(0,30))\n",
        "neighb=list(filter(lambda x: x % 2 != 0, n_list))\n",
        "#create a list of cross-val scores\n",
        "scores_cv=[]\n",
        "for k in neighb:\n",
        "    knn=KNeighborsClassifier(n_neighbors=k)\n",
        "    scores=cross_val_score(knn,X_train,Y_train,cv=10,scoring='accuracy')\n",
        "    scores_cv.append(scores.mean())\n",
        "\n",
        "#Find misclassification error(i.e)how much data is misclassified\n",
        "\n",
        "MSE=[1-x for x in scores_cv]\n",
        "\n",
        "#find optimal k\n",
        "\n",
        "optimal_k=neighb[MSE.index(min(MSE))]\n",
        "print('\\n the optimal k is %d.' % optimal_k)"
      ],
      "execution_count": 36,
      "outputs": [
        {
          "output_type": "stream",
          "text": [
            "\n",
            " the optimal k is 1.\n"
          ],
          "name": "stdout"
        }
      ]
    },
    {
      "metadata": {
        "id": "oPg9l3Ou7S52",
        "colab_type": "code",
        "colab": {
          "base_uri": "https://localhost:8080/",
          "height": 54
        },
        "outputId": "450f80f9-2029-434c-f5c2-2d6f8e54a4e9"
      },
      "cell_type": "code",
      "source": [
        "#KNN with optimal k and test accuracy for tf_idf model\n",
        "\n",
        "knn_opt=KNeighborsClassifier(n_neighbors=optimal_k)\n",
        "#fit the model\n",
        "knn_opt.fit(X_train,Y_train)\n",
        "#predict the model\n",
        "prediction=knn_opt.predict(X_test)\n",
        "\n",
        "#the accuracy score\n",
        "acc_score=accuracy_score(Y_test,prediction)* 100\n",
        "print('\\n the accuracy score for bag of words model with optimal k=%d is %f%%' %(optimal_k,acc_score))"
      ],
      "execution_count": 39,
      "outputs": [
        {
          "output_type": "stream",
          "text": [
            "\n",
            " the accuracy score for bag of words model with optimal k=1 is 57.626667%\n"
          ],
          "name": "stdout"
        }
      ]
    },
    {
      "metadata": {
        "id": "sJZ3DEjI73zv",
        "colab_type": "code",
        "colab": {
          "base_uri": "https://localhost:8080/",
          "height": 369
        },
        "outputId": "f2ed2e92-3341-43a1-ffb0-a89186780539"
      },
      "cell_type": "code",
      "source": [
        "conf_matr_df = pd.DataFrame(confusion_matrix(Y_test, prediction), range(2),range(2))\n",
        "sns.set(font_scale=1.4)#for label size\n",
        "sns.heatmap(conf_matr_df, annot=True,annot_kws={\"size\": 16}, fmt='g')"
      ],
      "execution_count": 41,
      "outputs": [
        {
          "output_type": "execute_result",
          "data": {
            "text/plain": [
              "<matplotlib.axes._subplots.AxesSubplot at 0x7f094a60d2e8>"
            ]
          },
          "metadata": {
            "tags": []
          },
          "execution_count": 41
        },
        {
          "output_type": "display_data",
          "data": {
            "image/png": "[encoded data removed]",
            "text/plain": [
              "<matplotlib.figure.Figure at 0x7f094a5f8438>"
            ]
          },
          "metadata": {
            "tags": []
          }
        }
      ]
    },
    {
      "metadata": {
        "id": "hiA8cd_Nqr7_",
        "colab_type": "code",
        "colab": {
          "base_uri": "https://localhost:8080/",
          "height": 54
        },
        "outputId": "fb8305aa-8e40-4986-dc89-85f4879e63f3"
      },
      "cell_type": "code",
      "source": [
        "TPR=5385/(5385+4261)\n",
        "print(TPR)\n",
        "precision=5385/(5385+2095)\n",
        "print(precision)"
      ],
      "execution_count": 51,
      "outputs": [
        {
          "output_type": "stream",
          "text": [
            "0.5582624922247563\n",
            "0.7199197860962567\n"
          ],
          "name": "stdout"
        }
      ]
    },
    {
      "metadata": {
        "id": "ESAGNrLrqelo",
        "colab_type": "text"
      },
      "cell_type": "markdown",
      "source": [
        "Observations\n",
        "\n",
        "Recall(TPR) from the confusion matrix is: 55%\n",
        "Precision=71%"
      ]
    },
    {
      "metadata": {
        "id": "sgi3NN9D7S54",
        "colab_type": "text"
      },
      "cell_type": "markdown",
      "source": [
        "# AvgWord2Vec KNN"
      ]
    },
    {
      "metadata": {
        "id": "WjERIMxV8D9d",
        "colab_type": "code",
        "colab": {}
      },
      "cell_type": "code",
      "source": [
        "!pip install gensim"
      ],
      "execution_count": 0,
      "outputs": []
    },
    {
      "metadata": {
        "id": "-r3vJLpb7S55",
        "colab_type": "code",
        "colab": {}
      },
      "cell_type": "code",
      "source": [
        "import gensim\n",
        "from gensim.models import word2vec,KeyedVectors"
      ],
      "execution_count": 0,
      "outputs": []
    },
    {
      "metadata": {
        "id": "K_t8v4Ft7S6B",
        "colab_type": "code",
        "colab": {
          "base_uri": "https://localhost:8080/",
          "height": 35
        },
        "outputId": "f7fa0de3-dc8b-4340-8496-63657d2333ef"
      },
      "cell_type": "code",
      "source": [
        "#model=word2vec.Word2Vec.load('drive/My Drive/w2vmodel')\n",
        "#model"
      ],
      "execution_count": 101,
      "outputs": [
        {
          "output_type": "execute_result",
          "data": {
            "text/plain": [
              "<gensim.models.word2vec.Word2Vec at 0x7f093a294f28>"
            ]
          },
          "metadata": {
            "tags": []
          },
          "execution_count": 101
        }
      ]
    },
    {
      "metadata": {
        "id": "4k2glYxuBS_Q",
        "colab_type": "code",
        "colab": {
          "base_uri": "https://localhost:8080/",
          "height": 35
        },
        "outputId": "445b0f1c-a0e2-4f82-c03d-0fb27d4d41d6"
      },
      "cell_type": "code",
      "source": [
        "X=final_d[\"CleanedText\"]\n",
        "X.shape"
      ],
      "execution_count": 25,
      "outputs": [
        {
          "output_type": "execute_result",
          "data": {
            "text/plain": [
              "(50000,)"
            ]
          },
          "metadata": {
            "tags": []
          },
          "execution_count": 25
        }
      ]
    },
    {
      "metadata": {
        "id": "9XnPgoidFDdn",
        "colab_type": "code",
        "colab": {
          "base_uri": "https://localhost:8080/",
          "height": 35
        },
        "outputId": "a2704288-97c9-4c62-a148-32756cf0cadd"
      },
      "cell_type": "code",
      "source": [
        "y=final_d[\"Score\"]\n",
        "y.shape\n"
      ],
      "execution_count": 26,
      "outputs": [
        {
          "output_type": "execute_result",
          "data": {
            "text/plain": [
              "(50000,)"
            ]
          },
          "metadata": {
            "tags": []
          },
          "execution_count": 26
        }
      ]
    },
    {
      "metadata": {
        "id": "vqTQWOa3LYFG",
        "colab_type": "code",
        "colab": {}
      },
      "cell_type": "code",
      "source": [
        "X_train,X_test,Y_train,Y_test=cross_validation.train_test_split(X,y,test_size=0.3,random_state=0)\n",
        "#split train into cross val train and cross val test\n",
        "X_t,X_cv,Y_t,Y_cv=cross_validation.train_test_split(X_train,Y_train,test_size=0.3)"
      ],
      "execution_count": 0,
      "outputs": []
    },
    {
      "metadata": {
        "id": "bICnP0s1vEDm",
        "colab_type": "code",
        "colab": {
          "base_uri": "https://localhost:8080/",
          "height": 35
        },
        "outputId": "d5946f48-3e19-4a13-ae62-dda6af778af2"
      },
      "cell_type": "code",
      "source": [
        "print(X_train.shape,Y_train.shape,X_test.shape,Y_test.shape)"
      ],
      "execution_count": 28,
      "outputs": [
        {
          "output_type": "stream",
          "text": [
            "(35000,) (35000,) (15000,) (15000,)\n"
          ],
          "name": "stdout"
        }
      ]
    },
    {
      "metadata": {
        "id": "qZYzbRIPIeMl",
        "colab_type": "code",
        "colab": {}
      },
      "cell_type": "code",
      "source": [
        "import re\n",
        "\n",
        "def cleanhtml(sentence): #function to clean the word of any html-tags\n",
        "    cleanr = re.compile('<.*?>')\n",
        "    cleantext = re.sub(cleanr, ' ', sentence)\n",
        "    return cleantext\n",
        "def cleanpunc(sentence): #function to clean the word of any punctuation or special characters\n",
        "    cleaned = re.sub(r'[?|!|\\'|\"|#]',r'',sentence)\n",
        "    cleaned = re.sub(r'[.|,|)|(|\\|/]',r' ',cleaned)\n",
        "    return  cleaned"
      ],
      "execution_count": 0,
      "outputs": []
    },
    {
      "metadata": {
        "id": "8G7E8j5c7S6E",
        "colab_type": "code",
        "colab": {
          "base_uri": "https://localhost:8080/",
          "height": 74
        },
        "outputId": "a22115ce-db90-40f3-c14a-804b9bccb4d2"
      },
      "cell_type": "code",
      "source": [
        "#word2vec own model\n",
        "i=0\n",
        "list_of_sentence=[]\n",
        "for sent in X_train:\n",
        "    filtered_sentence=[]\n",
        "    list_of_sentence.append(sent.split())\n",
        "    #sent=cleanhtml(sent)\n",
        "    #for w in sent.split():\n",
        "      #   for cleaned in cleanpunc(w).split():\n",
        "      #      if(cleaned.isalpha()):\n",
        "       #         filtered_sentence.append(cleaned.lower())\n",
        "        #    else:\n",
        "         #       continue\n",
        "#list_of_sentence.append(filtered_sentence)\n",
        "#print(X[\"CleanedText\"].values[0])\n",
        "#print('###########')\n",
        "print(list_of_sentence[0])\n",
        "w2v_model=gensim.models.Word2Vec(list_of_sentence,min_count=5,size=50,workers=4)\n",
        "\n",
        "words=list(w2v_model.wv.vocab)\n",
        "print(len(words))"
      ],
      "execution_count": 29,
      "outputs": [
        {
          "output_type": "stream",
          "text": [
            "['sure', 'get', 'mani', 'five', 'star', 'bought', 'pack', 'costco', 'age', 'white', 'mild', 'cheddar', 'tast', 'lack', 'real', 'chees', 'tast', 'bought', 'said', 'organ', 'figur', 'would', 'healthier', 'option', 'cheat', 'food', 'creami', 'kid', 'hard', 'enough', 'sauc', 'coat', 'shell', 'age', 'doesnt', 'even', 'come', 'close', 'tast', 'like', 'age', 'cheddarpretti', 'much', 'mild', 'star', 'attempt', 'make', 'strong', 'flavour', 'mac', 'chees', 'though', 'say', 'like', 'strong', 'chees', 'balderson', 'year', 'cheddar', 'asiago', 'etc', 'kraft', 'flavour', 'like', 'sharp', 'cheddar', 'even', 'add', 'meat', 'still', 'keep', 'flavour', 'other', 'tast', 'anni', 'like', 'mild', 'medium', 'cheddar', 'mayb', 'eat', 'stuff', 'find', 'ad', 'real', 'chees', 'get', 'tast', 'exact', 'sure', 'call', 'mass', 'produc', 'food', 'organ', 'law', 'chang', 'take', 'bite', 'type', 'thattast', 'like', 'noodl', 'butter']\n",
            "8215\n"
          ],
          "name": "stdout"
        }
      ]
    },
    {
      "metadata": {
        "id": "B7q42KB1qnDG",
        "colab_type": "code",
        "colab": {
          "base_uri": "https://localhost:8080/",
          "height": 35
        },
        "outputId": "48110539-f961-4ccb-a929-7c725cda1cf8"
      },
      "cell_type": "code",
      "source": [
        "words=list(w2v_model.wv.vocab)\n",
        "print(len(words))"
      ],
      "execution_count": 30,
      "outputs": [
        {
          "output_type": "stream",
          "text": [
            "8215\n"
          ],
          "name": "stdout"
        }
      ]
    },
    {
      "metadata": {
        "id": "Rxz7zi_SVN0u",
        "colab_type": "code",
        "colab": {
          "base_uri": "https://localhost:8080/",
          "height": 257
        },
        "outputId": "b566c51d-8ab3-4a65-971d-e54a1367008e"
      },
      "cell_type": "code",
      "source": [
        "w2v_model.wv.most_similar('like')"
      ],
      "execution_count": 31,
      "outputs": [
        {
          "output_type": "stream",
          "text": [
            "/usr/local/lib/python3.6/dist-packages/gensim/matutils.py:737: FutureWarning: Conversion of the second argument of issubdtype from `int` to `np.signedinteger` is deprecated. In future, it will be treated as `np.int64 == np.dtype(int).type`.\n",
            "  if np.issubdtype(vec.dtype, np.int):\n"
          ],
          "name": "stderr"
        },
        {
          "output_type": "execute_result",
          "data": {
            "text/plain": [
              "[('okay', 0.7647310495376587),\n",
              " ('weird', 0.670545756816864),\n",
              " ('remind', 0.6595607995986938),\n",
              " ('funni', 0.6455897688865662),\n",
              " ('appeal', 0.641618549823761),\n",
              " ('sort', 0.6399711966514587),\n",
              " ('prefer', 0.6290032267570496),\n",
              " ('strang', 0.6275856494903564),\n",
              " ('gross', 0.6266273856163025),\n",
              " ('resembl', 0.617561399936676)]"
            ]
          },
          "metadata": {
            "tags": []
          },
          "execution_count": 31
        }
      ]
    },
    {
      "metadata": {
        "id": "KqbxfUboU9uB",
        "colab_type": "code",
        "colab": {
          "base_uri": "https://localhost:8080/",
          "height": 74
        },
        "outputId": "ef51e4e5-7bb5-4d6c-a79a-ed1bd551721c"
      },
      "cell_type": "code",
      "source": [
        "#word2vec for test\n",
        "i=0\n",
        "list_of_sentences=[]\n",
        "for sent in X_test:\n",
        "    filtered_sentences=[]\n",
        "    list_of_sentences.append(sent.split())\n",
        "    #sent=cleanhtml(sent)\n",
        "    #for w in sent.split():\n",
        "     #   for cleaned in cleanpunc(w).split():\n",
        "      #      if(cleaned.isalpha()):\n",
        "       #         filtered_sentence.append(cleaned.lower())\n",
        "        #    else:\n",
        "         #       continue\n",
        "#list_of_sentences.append(filtered_sentence)\n",
        "#print(X_train.values[0])\n",
        "#print('###########')\n",
        "print(list_of_sentences[0])\n",
        "w2v_model_test=gensim.models.Word2Vec(list_of_sentences,min_count=5,size=50,workers=4)\n",
        "\n",
        "words_test=list(w2v_model_test.wv.vocab)\n",
        "print(len(words))\n"
      ],
      "execution_count": 32,
      "outputs": [
        {
          "output_type": "stream",
          "text": [
            "['year', 'old', 'rescu', 'belgian', 'shepherd', 'groenendael', 'pass', 'short', 'year', 'stay', 'newbi', 'pet', 'care', 'samantha', 'sammi', 'came', 'life', 'initi', 'feed', 'one', 'advertis', 'dog', 'food', 'femal', 'shed', 'twice', 'year', 'case', 'month', 'year', 'aw', 'point', 'almost', 'go', 'insan', 'love', 'hate', 'beauti', 'dog', 'research', 'internet', 'ask', 'anyon', 'could', 'solut', 'sammi', 'problem', 'even', 'tri', 'brand', 'wouldnt', 'eat', 'becam', 'cost', 'final', 'petco', 'repres', 'turn', 'well', 'senior', 'blend', 'special', 'blend', 'minus', 'filler', 'etc', 'vitamin', 'plus', 'condrodin', 'hip', 'problem', 'gradual', 'adjust', 'diet', 'period', 'coupl', 'week', 'well', 'rich', 'dog', 'food', 'dog', 'need', 'adjust', 'new', 'food', 'love', 'tast', 'short', 'period', 'time', 'shed', 'almost', 'came', 'stop', 'along', 'dandruff', 'pass', 'found', 'groenendael', 'need', 'brush', 'daili', 'least', 'sever', 'time', 'week', 'regular', 'need', 'bath', 'expert', 'say', 'breed', 'realli', 'special', 'great', 'famili', 'dog', 'check', 'way', 'wrong', 'well', 'dog', 'food', 'sure', 'web', 'site', 'check', 'scienc', 'sure', 'read', 'custom', 'testimoni', 'happi']\n",
            "8215\n"
          ],
          "name": "stdout"
        }
      ]
    },
    {
      "metadata": {
        "id": "PIzwTGAkZPZ-",
        "colab_type": "code",
        "colab": {
          "base_uri": "https://localhost:8080/",
          "height": 257
        },
        "outputId": "0c56ffe6-c004-4ff9-b2a5-99f12d80e506"
      },
      "cell_type": "code",
      "source": [
        "w2v_model_test.wv.most_similar('like')"
      ],
      "execution_count": 33,
      "outputs": [
        {
          "output_type": "stream",
          "text": [
            "/usr/local/lib/python3.6/dist-packages/gensim/matutils.py:737: FutureWarning: Conversion of the second argument of issubdtype from `int` to `np.signedinteger` is deprecated. In future, it will be treated as `np.int64 == np.dtype(int).type`.\n",
            "  if np.issubdtype(vec.dtype, np.int):\n"
          ],
          "name": "stderr"
        },
        {
          "output_type": "execute_result",
          "data": {
            "text/plain": [
              "[('aw', 0.8327149152755737),\n",
              " ('nasti', 0.8172328472137451),\n",
              " ('odd', 0.8134945631027222),\n",
              " ('strang', 0.8107452392578125),\n",
              " ('weird', 0.8070507645606995),\n",
              " ('gross', 0.7871053218841553),\n",
              " ('bland', 0.7816669344902039),\n",
              " ('overwhelm', 0.7701141238212585),\n",
              " ('appeal', 0.7663282155990601),\n",
              " ('terribl', 0.761405348777771)]"
            ]
          },
          "metadata": {
            "tags": []
          },
          "execution_count": 33
        }
      ]
    },
    {
      "metadata": {
        "id": "lVvtsNIP7S6H",
        "colab_type": "code",
        "colab": {
          "base_uri": "https://localhost:8080/",
          "height": 54
        },
        "outputId": "c09419ea-3ca6-4f26-fb12-20b391827423"
      },
      "cell_type": "code",
      "source": [
        "sent_vectors = [] \n",
        "for sent in list_of_sentence: # for each review/sentence\n",
        "    sent_vec = np.zeros(50) # as word vectors are of zero length\n",
        "    cnt_words =0 # num of words with a valid vector in the sentence/review\n",
        "    for word in sent: # for each word in a review/sentence\n",
        "        if word in words:\n",
        "            vec = w2v_model.wv[word]\n",
        "            sent_vec += vec\n",
        "            cnt_words += 1\n",
        "    if cnt_words != 0:\n",
        "        sent_vec /= cnt_words\n",
        "    sent_vectors.append(sent_vec)\n",
        "print(len(sent_vectors))\n",
        "print(len(sent_vectors[0]))\n",
        "\n",
        "vec_avg=np.array(sent_vectors)"
      ],
      "execution_count": 77,
      "outputs": [
        {
          "output_type": "stream",
          "text": [
            "35000\n",
            "50\n"
          ],
          "name": "stdout"
        }
      ]
    },
    {
      "metadata": {
        "id": "ZWRCZ1yvmBiA",
        "colab_type": "code",
        "colab": {
          "base_uri": "https://localhost:8080/",
          "height": 35
        },
        "outputId": "78cd19d6-85c1-473d-a810-a441faffe619"
      },
      "cell_type": "code",
      "source": [
        "sent_vectors_test = [] \n",
        "for sent in list_of_sentences: # for each review/sentence\n",
        "    sent_vec = np.zeros(50) # as word vectors are of zero length\n",
        "    cnt_words =0 # num of words with a valid vector in the sentence/review\n",
        "    for word in sent: # for each word in a review/sentence\n",
        "        if word in words_test:\n",
        "            vec = w2v_model_test.wv[word]\n",
        "            sent_vec += vec\n",
        "            cnt_words += 1\n",
        "    if cnt_words != 0:\n",
        "        sent_vec /= cnt_words\n",
        "    sent_vectors_test.append(sent_vec)\n",
        "print(len(sent_vectors_test))\n",
        "#print(len(sent_vectors[0]))\n",
        "\n",
        "vec_avg_2=np.array(sent_vectors_test)"
      ],
      "execution_count": 78,
      "outputs": [
        {
          "output_type": "stream",
          "text": [
            "15000\n"
          ],
          "name": "stdout"
        }
      ]
    },
    {
      "metadata": {
        "id": "g-j0UG9p81ro",
        "colab_type": "code",
        "colab": {
          "base_uri": "https://localhost:8080/",
          "height": 35
        },
        "outputId": "58902700-64b1-4807-d81a-39caa61fcbf4"
      },
      "cell_type": "code",
      "source": [
        "print(len(sent_vectors_test))"
      ],
      "execution_count": 31,
      "outputs": [
        {
          "output_type": "stream",
          "text": [
            "15000\n"
          ],
          "name": "stdout"
        }
      ]
    },
    {
      "metadata": {
        "id": "gytfoQq_8qs2",
        "colab_type": "code",
        "colab": {
          "base_uri": "https://localhost:8080/",
          "height": 35
        },
        "outputId": "2131b8ad-8f34-4bff-a516-1f0de674e65c"
      },
      "cell_type": "code",
      "source": [
        "vec_avg_2=np.array(sent_vectors_test)\n",
        "vec_avg_2.shape"
      ],
      "execution_count": 30,
      "outputs": [
        {
          "output_type": "execute_result",
          "data": {
            "text/plain": [
              "(15000, 50)"
            ]
          },
          "metadata": {
            "tags": []
          },
          "execution_count": 30
        }
      ]
    },
    {
      "metadata": {
        "id": "qwMc4h4ktkXG",
        "colab_type": "code",
        "colab": {}
      },
      "cell_type": "code",
      "source": [
        "X_train=vec_avg\n",
        "X_test=vec_avg_2"
      ],
      "execution_count": 0,
      "outputs": []
    },
    {
      "metadata": {
        "id": "JQJKq1Kx7S6h",
        "colab_type": "code",
        "colab": {
          "base_uri": "https://localhost:8080/",
          "height": 54
        },
        "outputId": "7fe2fef6-60d9-41b4-a88c-35bce5a2e2d1"
      },
      "cell_type": "code",
      "source": [
        "#for finding optimal k with odd list for neighbors\n",
        "n_list=list(range(0,30))\n",
        "neighb=list(filter(lambda x: x % 2 != 0, n_list))\n",
        "#create a list of cross-val scores\n",
        "scores_cv=[]\n",
        "for k in neighb:\n",
        "    knn=KNeighborsClassifier(n_neighbors=k)\n",
        "    scores=cross_val_score(knn,X_train,Y_train,cv=10,scoring='accuracy')\n",
        "    scores_cv.append(scores.mean())\n",
        "\n",
        "\n",
        "#Find misclassification error(i.e)how much data is misclassified\n",
        "\n",
        "MSE=[1-x for x in scores_cv]\n",
        "\n",
        "#find optimal k\n",
        "\n",
        "optimal_k=neighb[MSE.index(min(MSE))]\n",
        "print('\\n the optimal k is %d.' % optimal_k)"
      ],
      "execution_count": 80,
      "outputs": [
        {
          "output_type": "stream",
          "text": [
            "\n",
            " the optimal k is 29.\n"
          ],
          "name": "stdout"
        }
      ]
    },
    {
      "metadata": {
        "id": "sVZP_bTR7S6l",
        "colab_type": "code",
        "colab": {
          "base_uri": "https://localhost:8080/",
          "height": 54
        },
        "outputId": "b033ead8-6060-469c-865c-418e8a585143"
      },
      "cell_type": "code",
      "source": [
        "#KNN with optimal k and test accuracy for AvgWord2Vec model\n",
        "\n",
        "knn_opt=KNeighborsClassifier(n_neighbors=optimal_k)\n",
        "#fit the model\n",
        "knn_opt.fit(X_train,Y_train)\n",
        "#predict the model\n",
        "prediction=knn_opt.predict(X_test)\n",
        "\n",
        "#the accuracy score\n",
        "acc_score=accuracy_score(Y_test,prediction)* 100\n",
        "print('\\n the accuracy score for AvgWord2Vec model with optimal k=%d is %f%%' %(optimal_k,acc_score))"
      ],
      "execution_count": 81,
      "outputs": [
        {
          "output_type": "stream",
          "text": [
            "\n",
            " the accuracy score for AvgWord2Vec model with optimal k=29 is 72.646667%\n"
          ],
          "name": "stdout"
        }
      ]
    },
    {
      "metadata": {
        "id": "bjq2TiRHKRWM",
        "colab_type": "code",
        "colab": {
          "base_uri": "https://localhost:8080/",
          "height": 369
        },
        "outputId": "2fcd9537-7b05-4ca6-d885-b6f82c8195ba"
      },
      "cell_type": "code",
      "source": [
        "conf_matr_df = pd.DataFrame(confusion_matrix(Y_test, prediction), range(2),range(2))\n",
        "sns.set(font_scale=1.4)#for label size\n",
        "sns.heatmap(conf_matr_df, annot=True,annot_kws={\"size\": 16}, fmt='g')"
      ],
      "execution_count": 82,
      "outputs": [
        {
          "output_type": "execute_result",
          "data": {
            "text/plain": [
              "<matplotlib.axes._subplots.AxesSubplot at 0x7fa612fed0f0>"
            ]
          },
          "metadata": {
            "tags": []
          },
          "execution_count": 82
        },
        {
          "output_type": "display_data",
          "data": {
            "image/png": "[encoded data removed]",
            "text/plain": [
              "<matplotlib.figure.Figure at 0x7fa612ff5080>"
            ]
          },
          "metadata": {
            "tags": []
          }
        }
      ]
    },
    {
      "metadata": {
        "id": "FAyDNIQVv7S6",
        "colab_type": "code",
        "colab": {
          "base_uri": "https://localhost:8080/",
          "height": 54
        },
        "outputId": "736115a3-1859-4ff8-a75e-23ca8df547d1"
      },
      "cell_type": "code",
      "source": [
        "precision=6391/(6391+1186)\n",
        "print(precision)\n",
        "recall=6391/(6391+2917)\n",
        "print(recall)"
      ],
      "execution_count": 53,
      "outputs": [
        {
          "output_type": "stream",
          "text": [
            "0.8434736703180679\n",
            "0.686613665663945\n"
          ],
          "name": "stdout"
        }
      ]
    },
    {
      "metadata": {
        "id": "3OW_UhMQv3ty",
        "colab_type": "text"
      },
      "cell_type": "markdown",
      "source": [
        "Observations\n",
        "For Avg W2Vec:\n",
        "precision:84%\n",
        "recall:68%\n"
      ]
    },
    {
      "metadata": {
        "id": "ar9Hjmyd7S6o",
        "colab_type": "text"
      },
      "cell_type": "markdown",
      "source": [
        "# Weighted Tf-Idf Word2Vec KNN"
      ]
    },
    {
      "metadata": {
        "id": "PEqrNdePLcKy",
        "colab_type": "code",
        "colab": {
          "base_uri": "https://localhost:8080/",
          "height": 35
        },
        "outputId": "a1bdf90e-606f-4dca-aa93-ee32c6e5b0f3"
      },
      "cell_type": "code",
      "source": [
        "X=final_d[\"CleanedText\"]\n",
        "X.shape"
      ],
      "execution_count": 16,
      "outputs": [
        {
          "output_type": "execute_result",
          "data": {
            "text/plain": [
              "(50000,)"
            ]
          },
          "metadata": {
            "tags": []
          },
          "execution_count": 16
        }
      ]
    },
    {
      "metadata": {
        "id": "3z1JFPFwLyni",
        "colab_type": "code",
        "colab": {
          "base_uri": "https://localhost:8080/",
          "height": 35
        },
        "outputId": "5b291e69-b115-4f75-f097-0578a8ed85b6"
      },
      "cell_type": "code",
      "source": [
        "y=final_d[\"Score\"]\n",
        "y.shape"
      ],
      "execution_count": 17,
      "outputs": [
        {
          "output_type": "execute_result",
          "data": {
            "text/plain": [
              "(50000,)"
            ]
          },
          "metadata": {
            "tags": []
          },
          "execution_count": 17
        }
      ]
    },
    {
      "metadata": {
        "id": "z4xxLIQ_7S6r",
        "colab_type": "code",
        "colab": {}
      },
      "cell_type": "code",
      "source": [
        "#split the data into train and test fo tf-idf\n",
        "\n",
        "X_train,X_test,Y_train,Y_test=cross_validation.train_test_split(X,y,test_size=0.3,random_state=0)\n",
        "#split train into cross val train and cross val test\n",
        "X_t,X_cv,Y_t,Y_cv=cross_validation.train_test_split(X_train,Y_train,test_size=0.3)"
      ],
      "execution_count": 0,
      "outputs": []
    },
    {
      "metadata": {
        "id": "KBYIcGIrL8Sn",
        "colab_type": "code",
        "colab": {
          "base_uri": "https://localhost:8080/",
          "height": 35
        },
        "outputId": "45902a79-f9ef-48aa-dcc0-e25e519cc10a"
      },
      "cell_type": "code",
      "source": [
        "print(X_train.shape,X_test.shape,Y_train.shape,Y_test.shape)"
      ],
      "execution_count": 19,
      "outputs": [
        {
          "output_type": "stream",
          "text": [
            "(35000,) (15000,) (35000,) (15000,)\n"
          ],
          "name": "stdout"
        }
      ]
    },
    {
      "metadata": {
        "id": "ucxU4NNI3QAy",
        "colab_type": "code",
        "colab": {
          "base_uri": "https://localhost:8080/",
          "height": 35
        },
        "outputId": "c14295ed-a290-4515-c4a8-2fce0b6b13d3"
      },
      "cell_type": "code",
      "source": [
        "tf_idf_vect=TfidfVectorizer()\n",
        "final_tf_idf_vect=tf_idf_vect.fit_transform(X_train)\n",
        "final_test_tfidf_vect=tf_idf_vect.transform(X_test)\n",
        "#X_train=StandardScaler(with_mean=False).fit_transform(final_tf_idf_vect)\n",
        "#X_test=StandardScaler(with_mean=False).fit_transform(final_test_tfidf_vect)\n",
        "final_tf_idf_vect.get_shape(),final_test_tfidf_vect.get_shape()\n",
        "print(X_train.shape,X_test.shape)"
      ],
      "execution_count": 20,
      "outputs": [
        {
          "output_type": "stream",
          "text": [
            "(35000,) (15000,)\n"
          ],
          "name": "stdout"
        }
      ]
    },
    {
      "metadata": {
        "id": "XzzS6TD4N253",
        "colab_type": "code",
        "colab": {}
      },
      "cell_type": "code",
      "source": [
        "tf_idf_features = tf_idf_vect.get_feature_names() # tfidf words/col-name"
      ],
      "execution_count": 0,
      "outputs": []
    },
    {
      "metadata": {
        "id": "MR7TOWog7S6p",
        "colab_type": "code",
        "colab": {}
      },
      "cell_type": "code",
      "source": [
        "# TF-IDF weighted Word2Vec\n",
        "# final_tf_idf is the sparse matrix with row= sentence, col=word and cell_val = tfidf\n",
        "tf_idf_features = tf_idf_vect.get_feature_names()\n",
        "tfidf_sent_vectors = [] # the tfidf-w2v for each sentence/review is stored in this list\n",
        "row=0\n",
        "for sent in list_of_sentence: # for each review/sentence \n",
        "    sent_vec = np.zeros(50) # as word vectors are of zero length                          \n",
        "    weight_sum =0 # num of words with a valid vector in the sentence/review\n",
        "    for word in sent: # for each word in a review/sentence\n",
        "      try:\n",
        "        vec = w2v_model.wv[word]\n",
        "            # obtain the tf_idfidf of a word in a sentence/review\n",
        "        tfidf = tf_idf_vect[row, tfidf_feat.index(word)]\n",
        "        sent_vec += (vec * tf_idf)\n",
        "        weight_sum += tf_idf\n",
        "        \n",
        "      except:\n",
        "            pass\n",
        "        \n",
        "    if weight_sum != 0:\n",
        "        sent_vec /= weight_sum\n",
        "    tfidf_sent_vectors.append(sent_vec)\n",
        "    row += 1"
      ],
      "execution_count": 0,
      "outputs": []
    },
    {
      "metadata": {
        "id": "nzW3LRE5bper",
        "colab_type": "code",
        "colab": {
          "base_uri": "https://localhost:8080/",
          "height": 74
        },
        "outputId": "0cd6f29a-800a-4d8c-979d-78c638d0148d"
      },
      "cell_type": "code",
      "source": [
        "tf_idf_features = tf_idf_vect.get_feature_names()\n",
        "tfidf_sent_vectors_test = [] # the tfidf-w2v for each sentence/review is stored in this list\n",
        "row=0\n",
        "for sent in list_of_sentences: # for each review/sentence \n",
        "    sent_vec = np.zeros(50) # as word vectors are of zero length\n",
        "    weight_sum =0 # num of words with a valid vector in the sentence/review\n",
        "    for word in sent: # for each word in a review/sentence\n",
        "      try:\n",
        "        vec = w2v_model_test[word]\n",
        "            # obtain the tf_idfidf of a word in a sentence/review\n",
        "        tfidf = tf_idf_vect[row, tfidf_feat.index(word)]\n",
        "        sent_vec += (vec * tf_idf)\n",
        "        weight_sum += tf_idf\n",
        "        \n",
        "      except:\n",
        "            pass\n",
        "        \n",
        "    if weight_sum != 0:\n",
        "        sent_vec /= weight_sum\n",
        "    tfidf_sent_vectors_test.append(sent_vec)\n",
        "    row += 1"
      ],
      "execution_count": 44,
      "outputs": [
        {
          "output_type": "stream",
          "text": [
            "/usr/local/lib/python3.6/dist-packages/ipykernel_launcher.py:9: DeprecationWarning: Call to deprecated `__getitem__` (Method will be removed in 4.0.0, use self.wv.__getitem__() instead).\n",
            "  if __name__ == '__main__':\n"
          ],
          "name": "stderr"
        }
      ]
    },
    {
      "metadata": {
        "id": "gG6vvj797S6q",
        "colab_type": "code",
        "colab": {}
      },
      "cell_type": "code",
      "source": [
        "X_train=np.array(tfidf_sent_vectors)\n",
        "X_test=np.array(tfidf_sent_vectors_test)"
      ],
      "execution_count": 0,
      "outputs": []
    },
    {
      "metadata": {
        "id": "19MfME-vypx0",
        "colab_type": "code",
        "colab": {
          "base_uri": "https://localhost:8080/",
          "height": 35
        },
        "outputId": "63906be5-7b90-4c48-9ae5-dbc4eb65dfea"
      },
      "cell_type": "code",
      "source": [
        "X_train.shape,X_test.shape"
      ],
      "execution_count": 46,
      "outputs": [
        {
          "output_type": "execute_result",
          "data": {
            "text/plain": [
              "((35000, 50), (15000, 50))"
            ]
          },
          "metadata": {
            "tags": []
          },
          "execution_count": 46
        }
      ]
    },
    {
      "metadata": {
        "id": "bE8YCwqS7S67",
        "colab_type": "code",
        "colab": {
          "base_uri": "https://localhost:8080/",
          "height": 54
        },
        "outputId": "f53b0b01-bafb-4837-94e1-2353e8bccb10"
      },
      "cell_type": "code",
      "source": [
        "#for finding optimal k with odd list for neighbors\n",
        "n_list=list(range(0,30))\n",
        "neighb=list(filter(lambda x: x % 2 != 0, n_list))\n",
        "#create a list of cross-val scores\n",
        "scores_cv=[]\n",
        "for k in neighb:\n",
        "    knn=KNeighborsClassifier(n_neighbors=k)\n",
        "    scores=cross_val_score(knn,X_train,Y_train,cv=10,scoring='accuracy')\n",
        "    scores_cv.append(scores.mean())\n",
        "\n",
        "#Find misclassification error(i.e)how much data is misclassified\n",
        "\n",
        "MSE=[1-x for x in scores_cv]\n",
        "\n",
        "#find optimal k\n",
        "\n",
        "optimal_k=neighb[MSE.index(min(MSE))]\n",
        "print('\\n the optimal k is %d.' % optimal_k)"
      ],
      "execution_count": 47,
      "outputs": [
        {
          "output_type": "stream",
          "text": [
            "\n",
            " the optimal k is 1.\n"
          ],
          "name": "stdout"
        }
      ]
    },
    {
      "metadata": {
        "id": "rCrJpV-c7S6-",
        "colab_type": "code",
        "colab": {
          "base_uri": "https://localhost:8080/",
          "height": 54
        },
        "outputId": "09b2f373-68e9-4789-8371-80ad8a87f06f"
      },
      "cell_type": "code",
      "source": [
        "#KNN with optimal k and test accuracy for Weighted TfIDF Word2Vec model\n",
        "\n",
        "knn_opt=KNeighborsClassifier(n_neighbors=optimal_k)\n",
        "#fit the model\n",
        "knn_opt.fit(X_train,Y_train)\n",
        "#predict the model\n",
        "prediction=knn_opt.predict(X_test)\n",
        "\n",
        "#the accuracy score\n",
        "acc_score=accuracy_score(Y_test,prediction)* 100\n",
        "print('\\n the accuracy score for TfIdf Word2Vec model with optimal k=%d is %f%%' %(optimal_k,acc_score))"
      ],
      "execution_count": 48,
      "outputs": [
        {
          "output_type": "stream",
          "text": [
            "\n",
            " the accuracy score for TfIdf Word2Vec model with optimal k=1 is 49.833333%\n"
          ],
          "name": "stdout"
        }
      ]
    },
    {
      "metadata": {
        "id": "qVjaNU5EqNo9",
        "colab_type": "code",
        "colab": {
          "base_uri": "https://localhost:8080/",
          "height": 373
        },
        "outputId": "be69abbc-b81c-47c7-b059-bf745299a545"
      },
      "cell_type": "code",
      "source": [
        "conf_matr_df = pd.DataFrame(confusion_matrix(Y_test, prediction), range(2),range(2))\n",
        "sns.set(font_scale=1.4)#for label size\n",
        "sns.heatmap(conf_matr_df, annot=True,annot_kws={\"size\": 16}, fmt='g')"
      ],
      "execution_count": 49,
      "outputs": [
        {
          "output_type": "execute_result",
          "data": {
            "text/plain": [
              "<matplotlib.axes._subplots.AxesSubplot at 0x7f8455370f60>"
            ]
          },
          "metadata": {
            "tags": []
          },
          "execution_count": 49
        },
        {
          "output_type": "display_data",
          "data": {
            "image/png": "[encoded data removed]",
            "text/plain": [
              "<matplotlib.figure.Figure at 0x7f8455375908>"
            ]
          },
          "metadata": {
            "tags": []
          }
        }
      ]
    },
    {
      "metadata": {
        "id": "l1ISiactwX_v",
        "colab_type": "code",
        "colab": {}
      },
      "cell_type": "code",
      "source": [
        "precision=0\n",
        "recall=0"
      ],
      "execution_count": 0,
      "outputs": []
    },
    {
      "metadata": {
        "id": "Y-ZS5Dbi7S7C",
        "colab_type": "text"
      },
      "cell_type": "markdown",
      "source": [
        "Conclusion/Observation\n",
        "\n",
        "From the above with Avg W2Vec we get the highest precision at 84%\n"
      ]
    }
  ]
}